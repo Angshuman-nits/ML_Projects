{
  "cells": [
    {
      "cell_type": "markdown",
      "metadata": {
        "id": "view-in-github",
        "colab_type": "text"
      },
      "source": [
        "<a href=\"https://colab.research.google.com/github/Angshuman-nits/ML_Projects/blob/main/CatsDogsSVM.ipynb\" target=\"_parent\"><img src=\"https://colab.research.google.com/assets/colab-badge.svg\" alt=\"Open In Colab\"/></a>"
      ]
    },
    {
      "cell_type": "markdown",
      "metadata": {
        "id": "I6-meaxdCFQu"
      },
      "source": [
        "Step 1: Load and Preprocess the Dataset"
      ]
    },
    {
      "cell_type": "code",
      "execution_count": null,
      "metadata": {
        "id": "A9VWriYTBLfk"
      },
      "outputs": [],
      "source": [
        "import os\n",
        "import cv2\n",
        "import zipfile\n",
        "import pandas as pd\n",
        "import numpy as np\n",
        "from sklearn.model_selection import train_test_split"
      ]
    },
    {
      "cell_type": "code",
      "execution_count": null,
      "metadata": {
        "colab": {
          "background_save": true,
          "base_uri": "https://localhost:8080/",
          "height": 304
        },
        "id": "QogT_HCGDYGg",
        "outputId": "9cd04063-52ab-4aca-ac27-cc956c650eea"
      },
      "outputs": [
        {
          "name": "stdout",
          "output_type": "stream",
          "text": [
            "Mounted at /content/gdrive\n"
          ]
        }
      ],
      "source": [
        "\n",
        "from google.colab import drive\n",
        "drive.mount('/content/gdrive')"
      ]
    },
    {
      "cell_type": "code",
      "execution_count": null,
      "metadata": {
        "colab": {
          "background_save": true
        },
        "id": "E-7P7Yz0Dpo9"
      },
      "outputs": [],
      "source": [
        "zip_path = '/content/gdrive/MyDrive/archive (2).zip'"
      ]
    },
    {
      "cell_type": "code",
      "execution_count": null,
      "metadata": {
        "id": "f-NlPn7vEzKt"
      },
      "outputs": [],
      "source": [
        "#To Extract the zip file\n",
        "with zipfile.ZipFile(zip_path, 'r') as zip_ref:\n",
        "    zip_ref.extractall('cats_and_dogs_data')\n",
        "\n",
        "# Verify the extraction\n",
        "os.listdir('cats_and_dogs_data')"
      ]
    },
    {
      "cell_type": "markdown",
      "metadata": {
        "id": "ejau6AL6CW1e"
      },
      "source": [
        "Load the images, resize them, and convert them to grayscale."
      ]
    },
    {
      "cell_type": "code",
      "execution_count": null,
      "metadata": {
        "id": "2NZmbopGBc9c"
      },
      "outputs": [],
      "source": [
        "def load_images_from_folder(folder):\n",
        "    images = []\n",
        "    labels = []\n",
        "    for filename in os.listdir(folder):\n",
        "        img = cv2.imread(os.path.join(folder, filename))\n",
        "        if img is not None:\n",
        "            img = cv2.resize(img, (64, 64))  # Resize to a fixed size\n",
        "            img = cv2.cvtColor(img, cv2.COLOR_BGR2GRAY)  # Convert to grayscale\n",
        "            images.append(img)\n",
        "            # Extract label from filename\n",
        "            if 'cat' in filename:\n",
        "                labels.append('cat')\n",
        "            elif 'dog' in filename:\n",
        "                labels.append('dog')\n",
        "\n",
        "    return images, labels"
      ]
    },
    {
      "cell_type": "code",
      "execution_count": null,
      "metadata": {
        "id": "EHmpowbtBjtK"
      },
      "outputs": [],
      "source": [
        "cat_images, cat_labels = load_images_from_folder('cats_and_dogs_data/cat_dog')\n",
        "dog_images, dog_labels = load_images_from_folder('cats_and_dogs_data/cat_dog')"
      ]
    },
    {
      "cell_type": "code",
      "execution_count": null,
      "metadata": {
        "id": "emqwR-NBBxKT"
      },
      "outputs": [],
      "source": [
        "X = np.array(cat_images + dog_images)\n",
        "y = np.array(cat_labels + dog_labels)"
      ]
    },
    {
      "cell_type": "code",
      "execution_count": null,
      "metadata": {
        "id": "6UredPiFT7I8"
      },
      "outputs": [],
      "source": [
        "from sklearn.preprocessing import LabelEncoder\n",
        "from sklearn.preprocessing import StandardScaler"
      ]
    },
    {
      "cell_type": "code",
      "execution_count": null,
      "metadata": {
        "id": "tN40KTHkTgJs"
      },
      "outputs": [],
      "source": [
        "\n",
        "# Flatten the images for SVM\n",
        "X_flattened = X.reshape(X.shape[0], -1)\n",
        "\n",
        "# Encode the labels\n",
        "le = LabelEncoder()\n",
        "y_encoded = le.fit_transform(y)"
      ]
    },
    {
      "cell_type": "code",
      "execution_count": null,
      "metadata": {
        "id": "M3Eksh2FWu9n"
      },
      "outputs": [],
      "source": [
        "print(\"Classes:\", le.classes_)\n",
        "print(\"Encoded labels:\", y_encoded)"
      ]
    },
    {
      "cell_type": "markdown",
      "metadata": {
        "id": "ouKcgYkMXPeP"
      },
      "source": [
        "i.e. cats are classified as 0 and dogs are classified as 1"
      ]
    },
    {
      "cell_type": "code",
      "execution_count": null,
      "metadata": {
        "id": "o9Qe4mQcB3eN"
      },
      "outputs": [],
      "source": [
        "X_train, X_test, y_train, y_test = train_test_split(X_flattened, y_encoded, test_size=0.2, random_state=42)"
      ]
    },
    {
      "cell_type": "markdown",
      "metadata": {
        "id": "cvJezB1FB-Fg"
      },
      "source": [
        "Step 2: Train the SVM Model.\n",
        "We'll use Scikit-learn's SVM implementation to train the model."
      ]
    },
    {
      "cell_type": "code",
      "execution_count": null,
      "metadata": {
        "id": "bSiJwQ6tB3tX"
      },
      "outputs": [],
      "source": [
        "from sklearn.svm import SVC\n",
        "from sklearn.metrics import accuracy_score, classification_report\n"
      ]
    },
    {
      "cell_type": "code",
      "execution_count": null,
      "metadata": {
        "id": "rZfEGOM9B311"
      },
      "outputs": [],
      "source": [
        "# Initialize the SVM classifier\n",
        "svm_classifier = SVC(kernel='linear', random_state=42)"
      ]
    },
    {
      "cell_type": "code",
      "execution_count": null,
      "metadata": {
        "id": "IZTV7E8DUxZw"
      },
      "outputs": [],
      "source": [
        "# Reshape X_train to 2D if it's currently 3D\n",
        "X_train = X_train.reshape(X_train.shape[0], -1)"
      ]
    },
    {
      "cell_type": "code",
      "execution_count": null,
      "metadata": {
        "id": "P0rK5KngmjI0"
      },
      "outputs": [],
      "source": [
        "# Train the model\n",
        "svm_classifier.fit(X_train, y_train)"
      ]
    },
    {
      "cell_type": "code",
      "execution_count": null,
      "metadata": {
        "id": "5-O-GVgbmv7p"
      },
      "outputs": [],
      "source": [
        "# Predict on the test set\n",
        "y_pred = svm_classifier.predict(X_test)"
      ]
    },
    {
      "cell_type": "code",
      "execution_count": null,
      "metadata": {
        "id": "UcAYGLuhmyS4"
      },
      "outputs": [],
      "source": [
        "# Evaluate the model\n",
        "accuracy = accuracy_score(y_test, y_pred)\n",
        "print(f\"Accuracy: {accuracy * 100:.2f}%\")\n",
        "print(\"Classification Report:\\n\", classification_report(y_test, y_pred))"
      ]
    },
    {
      "cell_type": "code",
      "execution_count": null,
      "metadata": {
        "id": "-quoOKL2myyE"
      },
      "outputs": [],
      "source": []
    }
  ],
  "metadata": {
    "colab": {
      "toc_visible": true,
      "provenance": [],
      "authorship_tag": "ABX9TyPGnFabAIa2fJQ/sWn0/0Qb",
      "include_colab_link": true
    },
    "kernelspec": {
      "display_name": "Python 3",
      "name": "python3"
    },
    "language_info": {
      "name": "python"
    }
  },
  "nbformat": 4,
  "nbformat_minor": 0
}