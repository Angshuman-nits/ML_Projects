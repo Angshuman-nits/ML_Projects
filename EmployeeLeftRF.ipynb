{
  "nbformat": 4,
  "nbformat_minor": 0,
  "metadata": {
    "colab": {
      "provenance": [],
      "authorship_tag": "ABX9TyNaj9dl4e1c4hd31RsOP6of",
      "include_colab_link": true
    },
    "kernelspec": {
      "name": "python3",
      "display_name": "Python 3"
    },
    "language_info": {
      "name": "python"
    }
  },
  "cells": [
    {
      "cell_type": "markdown",
      "metadata": {
        "id": "view-in-github",
        "colab_type": "text"
      },
      "source": [
        "<a href=\"https://colab.research.google.com/github/Angshuman-nits/ML_Projects/blob/main/EmployeeLeftRF.ipynb\" target=\"_parent\"><img src=\"https://colab.research.google.com/assets/colab-badge.svg\" alt=\"Open In Colab\"/></a>"
      ]
    },
    {
      "cell_type": "code",
      "execution_count": 8,
      "metadata": {
        "id": "SiKJZZHlZkQe"
      },
      "outputs": [],
      "source": [
        "import numpy as np\n",
        "import matplotlib.pyplot as plt\n",
        "import seaborn as sns\n",
        "import pandas as pd"
      ]
    },
    {
      "cell_type": "code",
      "source": [
        "from google.colab import drive\n",
        "drive.mount('/content/gdrive')"
      ],
      "metadata": {
        "colab": {
          "base_uri": "https://localhost:8080/"
        },
        "id": "rqDZ8QNTbTPM",
        "outputId": "b3b51a89-4b6a-4cfe-9522-41b264658a34"
      },
      "execution_count": 9,
      "outputs": [
        {
          "output_type": "stream",
          "name": "stdout",
          "text": [
            "Mounted at /content/gdrive\n"
          ]
        }
      ]
    },
    {
      "cell_type": "code",
      "source": [
        "df= pd.read_csv('/content/gdrive/MyDrive/Employee_Attrition.csv')"
      ],
      "metadata": {
        "id": "Me4F8b4ObZq4"
      },
      "execution_count": 10,
      "outputs": []
    },
    {
      "cell_type": "code",
      "source": [
        "df.head()"
      ],
      "metadata": {
        "colab": {
          "base_uri": "https://localhost:8080/",
          "height": 206
        },
        "id": "aBuCqceHbouf",
        "outputId": "65bee687-9d4e-4dce-c6f3-2ad678c89be8"
      },
      "execution_count": 11,
      "outputs": [
        {
          "output_type": "execute_result",
          "data": {
            "text/plain": [
              "   satisfaction_level  last_evaluation  number_project  average_montly_hours  \\\n",
              "0                0.38             0.53               2                   157   \n",
              "1                0.80             0.86               5                   262   \n",
              "2                0.11             0.88               7                   272   \n",
              "3                0.72             0.87               5                   223   \n",
              "4                0.37             0.52               2                   159   \n",
              "\n",
              "   time_spend_company  Work_accident  left  promotion_last_5years Department  \\\n",
              "0                   3              0     1                      0      sales   \n",
              "1                   6              0     1                      0      sales   \n",
              "2                   4              0     1                      0      sales   \n",
              "3                   5              0     1                      0      sales   \n",
              "4                   3              0     1                      0      sales   \n",
              "\n",
              "   salary  \n",
              "0     low  \n",
              "1  medium  \n",
              "2  medium  \n",
              "3     low  \n",
              "4     low  "
            ],
            "text/html": [
              "\n",
              "  <div id=\"df-6e725f99-aecc-4715-9bfb-d8ed44c6bf90\" class=\"colab-df-container\">\n",
              "    <div>\n",
              "<style scoped>\n",
              "    .dataframe tbody tr th:only-of-type {\n",
              "        vertical-align: middle;\n",
              "    }\n",
              "\n",
              "    .dataframe tbody tr th {\n",
              "        vertical-align: top;\n",
              "    }\n",
              "\n",
              "    .dataframe thead th {\n",
              "        text-align: right;\n",
              "    }\n",
              "</style>\n",
              "<table border=\"1\" class=\"dataframe\">\n",
              "  <thead>\n",
              "    <tr style=\"text-align: right;\">\n",
              "      <th></th>\n",
              "      <th>satisfaction_level</th>\n",
              "      <th>last_evaluation</th>\n",
              "      <th>number_project</th>\n",
              "      <th>average_montly_hours</th>\n",
              "      <th>time_spend_company</th>\n",
              "      <th>Work_accident</th>\n",
              "      <th>left</th>\n",
              "      <th>promotion_last_5years</th>\n",
              "      <th>Department</th>\n",
              "      <th>salary</th>\n",
              "    </tr>\n",
              "  </thead>\n",
              "  <tbody>\n",
              "    <tr>\n",
              "      <th>0</th>\n",
              "      <td>0.38</td>\n",
              "      <td>0.53</td>\n",
              "      <td>2</td>\n",
              "      <td>157</td>\n",
              "      <td>3</td>\n",
              "      <td>0</td>\n",
              "      <td>1</td>\n",
              "      <td>0</td>\n",
              "      <td>sales</td>\n",
              "      <td>low</td>\n",
              "    </tr>\n",
              "    <tr>\n",
              "      <th>1</th>\n",
              "      <td>0.80</td>\n",
              "      <td>0.86</td>\n",
              "      <td>5</td>\n",
              "      <td>262</td>\n",
              "      <td>6</td>\n",
              "      <td>0</td>\n",
              "      <td>1</td>\n",
              "      <td>0</td>\n",
              "      <td>sales</td>\n",
              "      <td>medium</td>\n",
              "    </tr>\n",
              "    <tr>\n",
              "      <th>2</th>\n",
              "      <td>0.11</td>\n",
              "      <td>0.88</td>\n",
              "      <td>7</td>\n",
              "      <td>272</td>\n",
              "      <td>4</td>\n",
              "      <td>0</td>\n",
              "      <td>1</td>\n",
              "      <td>0</td>\n",
              "      <td>sales</td>\n",
              "      <td>medium</td>\n",
              "    </tr>\n",
              "    <tr>\n",
              "      <th>3</th>\n",
              "      <td>0.72</td>\n",
              "      <td>0.87</td>\n",
              "      <td>5</td>\n",
              "      <td>223</td>\n",
              "      <td>5</td>\n",
              "      <td>0</td>\n",
              "      <td>1</td>\n",
              "      <td>0</td>\n",
              "      <td>sales</td>\n",
              "      <td>low</td>\n",
              "    </tr>\n",
              "    <tr>\n",
              "      <th>4</th>\n",
              "      <td>0.37</td>\n",
              "      <td>0.52</td>\n",
              "      <td>2</td>\n",
              "      <td>159</td>\n",
              "      <td>3</td>\n",
              "      <td>0</td>\n",
              "      <td>1</td>\n",
              "      <td>0</td>\n",
              "      <td>sales</td>\n",
              "      <td>low</td>\n",
              "    </tr>\n",
              "  </tbody>\n",
              "</table>\n",
              "</div>\n",
              "    <div class=\"colab-df-buttons\">\n",
              "\n",
              "  <div class=\"colab-df-container\">\n",
              "    <button class=\"colab-df-convert\" onclick=\"convertToInteractive('df-6e725f99-aecc-4715-9bfb-d8ed44c6bf90')\"\n",
              "            title=\"Convert this dataframe to an interactive table.\"\n",
              "            style=\"display:none;\">\n",
              "\n",
              "  <svg xmlns=\"http://www.w3.org/2000/svg\" height=\"24px\" viewBox=\"0 -960 960 960\">\n",
              "    <path d=\"M120-120v-720h720v720H120Zm60-500h600v-160H180v160Zm220 220h160v-160H400v160Zm0 220h160v-160H400v160ZM180-400h160v-160H180v160Zm440 0h160v-160H620v160ZM180-180h160v-160H180v160Zm440 0h160v-160H620v160Z\"/>\n",
              "  </svg>\n",
              "    </button>\n",
              "\n",
              "  <style>\n",
              "    .colab-df-container {\n",
              "      display:flex;\n",
              "      gap: 12px;\n",
              "    }\n",
              "\n",
              "    .colab-df-convert {\n",
              "      background-color: #E8F0FE;\n",
              "      border: none;\n",
              "      border-radius: 50%;\n",
              "      cursor: pointer;\n",
              "      display: none;\n",
              "      fill: #1967D2;\n",
              "      height: 32px;\n",
              "      padding: 0 0 0 0;\n",
              "      width: 32px;\n",
              "    }\n",
              "\n",
              "    .colab-df-convert:hover {\n",
              "      background-color: #E2EBFA;\n",
              "      box-shadow: 0px 1px 2px rgba(60, 64, 67, 0.3), 0px 1px 3px 1px rgba(60, 64, 67, 0.15);\n",
              "      fill: #174EA6;\n",
              "    }\n",
              "\n",
              "    .colab-df-buttons div {\n",
              "      margin-bottom: 4px;\n",
              "    }\n",
              "\n",
              "    [theme=dark] .colab-df-convert {\n",
              "      background-color: #3B4455;\n",
              "      fill: #D2E3FC;\n",
              "    }\n",
              "\n",
              "    [theme=dark] .colab-df-convert:hover {\n",
              "      background-color: #434B5C;\n",
              "      box-shadow: 0px 1px 3px 1px rgba(0, 0, 0, 0.15);\n",
              "      filter: drop-shadow(0px 1px 2px rgba(0, 0, 0, 0.3));\n",
              "      fill: #FFFFFF;\n",
              "    }\n",
              "  </style>\n",
              "\n",
              "    <script>\n",
              "      const buttonEl =\n",
              "        document.querySelector('#df-6e725f99-aecc-4715-9bfb-d8ed44c6bf90 button.colab-df-convert');\n",
              "      buttonEl.style.display =\n",
              "        google.colab.kernel.accessAllowed ? 'block' : 'none';\n",
              "\n",
              "      async function convertToInteractive(key) {\n",
              "        const element = document.querySelector('#df-6e725f99-aecc-4715-9bfb-d8ed44c6bf90');\n",
              "        const dataTable =\n",
              "          await google.colab.kernel.invokeFunction('convertToInteractive',\n",
              "                                                    [key], {});\n",
              "        if (!dataTable) return;\n",
              "\n",
              "        const docLinkHtml = 'Like what you see? Visit the ' +\n",
              "          '<a target=\"_blank\" href=https://colab.research.google.com/notebooks/data_table.ipynb>data table notebook</a>'\n",
              "          + ' to learn more about interactive tables.';\n",
              "        element.innerHTML = '';\n",
              "        dataTable['output_type'] = 'display_data';\n",
              "        await google.colab.output.renderOutput(dataTable, element);\n",
              "        const docLink = document.createElement('div');\n",
              "        docLink.innerHTML = docLinkHtml;\n",
              "        element.appendChild(docLink);\n",
              "      }\n",
              "    </script>\n",
              "  </div>\n",
              "\n",
              "\n",
              "<div id=\"df-6c81561f-175c-42f9-b14a-fcd9062e4447\">\n",
              "  <button class=\"colab-df-quickchart\" onclick=\"quickchart('df-6c81561f-175c-42f9-b14a-fcd9062e4447')\"\n",
              "            title=\"Suggest charts\"\n",
              "            style=\"display:none;\">\n",
              "\n",
              "<svg xmlns=\"http://www.w3.org/2000/svg\" height=\"24px\"viewBox=\"0 0 24 24\"\n",
              "     width=\"24px\">\n",
              "    <g>\n",
              "        <path d=\"M19 3H5c-1.1 0-2 .9-2 2v14c0 1.1.9 2 2 2h14c1.1 0 2-.9 2-2V5c0-1.1-.9-2-2-2zM9 17H7v-7h2v7zm4 0h-2V7h2v10zm4 0h-2v-4h2v4z\"/>\n",
              "    </g>\n",
              "</svg>\n",
              "  </button>\n",
              "\n",
              "<style>\n",
              "  .colab-df-quickchart {\n",
              "      --bg-color: #E8F0FE;\n",
              "      --fill-color: #1967D2;\n",
              "      --hover-bg-color: #E2EBFA;\n",
              "      --hover-fill-color: #174EA6;\n",
              "      --disabled-fill-color: #AAA;\n",
              "      --disabled-bg-color: #DDD;\n",
              "  }\n",
              "\n",
              "  [theme=dark] .colab-df-quickchart {\n",
              "      --bg-color: #3B4455;\n",
              "      --fill-color: #D2E3FC;\n",
              "      --hover-bg-color: #434B5C;\n",
              "      --hover-fill-color: #FFFFFF;\n",
              "      --disabled-bg-color: #3B4455;\n",
              "      --disabled-fill-color: #666;\n",
              "  }\n",
              "\n",
              "  .colab-df-quickchart {\n",
              "    background-color: var(--bg-color);\n",
              "    border: none;\n",
              "    border-radius: 50%;\n",
              "    cursor: pointer;\n",
              "    display: none;\n",
              "    fill: var(--fill-color);\n",
              "    height: 32px;\n",
              "    padding: 0;\n",
              "    width: 32px;\n",
              "  }\n",
              "\n",
              "  .colab-df-quickchart:hover {\n",
              "    background-color: var(--hover-bg-color);\n",
              "    box-shadow: 0 1px 2px rgba(60, 64, 67, 0.3), 0 1px 3px 1px rgba(60, 64, 67, 0.15);\n",
              "    fill: var(--button-hover-fill-color);\n",
              "  }\n",
              "\n",
              "  .colab-df-quickchart-complete:disabled,\n",
              "  .colab-df-quickchart-complete:disabled:hover {\n",
              "    background-color: var(--disabled-bg-color);\n",
              "    fill: var(--disabled-fill-color);\n",
              "    box-shadow: none;\n",
              "  }\n",
              "\n",
              "  .colab-df-spinner {\n",
              "    border: 2px solid var(--fill-color);\n",
              "    border-color: transparent;\n",
              "    border-bottom-color: var(--fill-color);\n",
              "    animation:\n",
              "      spin 1s steps(1) infinite;\n",
              "  }\n",
              "\n",
              "  @keyframes spin {\n",
              "    0% {\n",
              "      border-color: transparent;\n",
              "      border-bottom-color: var(--fill-color);\n",
              "      border-left-color: var(--fill-color);\n",
              "    }\n",
              "    20% {\n",
              "      border-color: transparent;\n",
              "      border-left-color: var(--fill-color);\n",
              "      border-top-color: var(--fill-color);\n",
              "    }\n",
              "    30% {\n",
              "      border-color: transparent;\n",
              "      border-left-color: var(--fill-color);\n",
              "      border-top-color: var(--fill-color);\n",
              "      border-right-color: var(--fill-color);\n",
              "    }\n",
              "    40% {\n",
              "      border-color: transparent;\n",
              "      border-right-color: var(--fill-color);\n",
              "      border-top-color: var(--fill-color);\n",
              "    }\n",
              "    60% {\n",
              "      border-color: transparent;\n",
              "      border-right-color: var(--fill-color);\n",
              "    }\n",
              "    80% {\n",
              "      border-color: transparent;\n",
              "      border-right-color: var(--fill-color);\n",
              "      border-bottom-color: var(--fill-color);\n",
              "    }\n",
              "    90% {\n",
              "      border-color: transparent;\n",
              "      border-bottom-color: var(--fill-color);\n",
              "    }\n",
              "  }\n",
              "</style>\n",
              "\n",
              "  <script>\n",
              "    async function quickchart(key) {\n",
              "      const quickchartButtonEl =\n",
              "        document.querySelector('#' + key + ' button');\n",
              "      quickchartButtonEl.disabled = true;  // To prevent multiple clicks.\n",
              "      quickchartButtonEl.classList.add('colab-df-spinner');\n",
              "      try {\n",
              "        const charts = await google.colab.kernel.invokeFunction(\n",
              "            'suggestCharts', [key], {});\n",
              "      } catch (error) {\n",
              "        console.error('Error during call to suggestCharts:', error);\n",
              "      }\n",
              "      quickchartButtonEl.classList.remove('colab-df-spinner');\n",
              "      quickchartButtonEl.classList.add('colab-df-quickchart-complete');\n",
              "    }\n",
              "    (() => {\n",
              "      let quickchartButtonEl =\n",
              "        document.querySelector('#df-6c81561f-175c-42f9-b14a-fcd9062e4447 button');\n",
              "      quickchartButtonEl.style.display =\n",
              "        google.colab.kernel.accessAllowed ? 'block' : 'none';\n",
              "    })();\n",
              "  </script>\n",
              "</div>\n",
              "\n",
              "    </div>\n",
              "  </div>\n"
            ],
            "application/vnd.google.colaboratory.intrinsic+json": {
              "type": "dataframe",
              "variable_name": "df",
              "summary": "{\n  \"name\": \"df\",\n  \"rows\": 14999,\n  \"fields\": [\n    {\n      \"column\": \"satisfaction_level\",\n      \"properties\": {\n        \"dtype\": \"number\",\n        \"std\": 0.24863065106114257,\n        \"min\": 0.09,\n        \"max\": 1.0,\n        \"num_unique_values\": 92,\n        \"samples\": [\n          0.83,\n          0.13,\n          0.55\n        ],\n        \"semantic_type\": \"\",\n        \"description\": \"\"\n      }\n    },\n    {\n      \"column\": \"last_evaluation\",\n      \"properties\": {\n        \"dtype\": \"number\",\n        \"std\": 0.17116911062327533,\n        \"min\": 0.36,\n        \"max\": 1.0,\n        \"num_unique_values\": 65,\n        \"samples\": [\n          0.66,\n          0.44,\n          0.53\n        ],\n        \"semantic_type\": \"\",\n        \"description\": \"\"\n      }\n    },\n    {\n      \"column\": \"number_project\",\n      \"properties\": {\n        \"dtype\": \"number\",\n        \"std\": 1,\n        \"min\": 2,\n        \"max\": 7,\n        \"num_unique_values\": 6,\n        \"samples\": [\n          2,\n          5,\n          3\n        ],\n        \"semantic_type\": \"\",\n        \"description\": \"\"\n      }\n    },\n    {\n      \"column\": \"average_montly_hours\",\n      \"properties\": {\n        \"dtype\": \"number\",\n        \"std\": 49,\n        \"min\": 96,\n        \"max\": 310,\n        \"num_unique_values\": 215,\n        \"samples\": [\n          118,\n          112,\n          222\n        ],\n        \"semantic_type\": \"\",\n        \"description\": \"\"\n      }\n    },\n    {\n      \"column\": \"time_spend_company\",\n      \"properties\": {\n        \"dtype\": \"number\",\n        \"std\": 1,\n        \"min\": 2,\n        \"max\": 10,\n        \"num_unique_values\": 8,\n        \"samples\": [\n          6,\n          8,\n          3\n        ],\n        \"semantic_type\": \"\",\n        \"description\": \"\"\n      }\n    },\n    {\n      \"column\": \"Work_accident\",\n      \"properties\": {\n        \"dtype\": \"number\",\n        \"std\": 0,\n        \"min\": 0,\n        \"max\": 1,\n        \"num_unique_values\": 2,\n        \"samples\": [\n          1,\n          0\n        ],\n        \"semantic_type\": \"\",\n        \"description\": \"\"\n      }\n    },\n    {\n      \"column\": \"left\",\n      \"properties\": {\n        \"dtype\": \"number\",\n        \"std\": 0,\n        \"min\": 0,\n        \"max\": 1,\n        \"num_unique_values\": 2,\n        \"samples\": [\n          0,\n          1\n        ],\n        \"semantic_type\": \"\",\n        \"description\": \"\"\n      }\n    },\n    {\n      \"column\": \"promotion_last_5years\",\n      \"properties\": {\n        \"dtype\": \"number\",\n        \"std\": 0,\n        \"min\": 0,\n        \"max\": 1,\n        \"num_unique_values\": 2,\n        \"samples\": [\n          1,\n          0\n        ],\n        \"semantic_type\": \"\",\n        \"description\": \"\"\n      }\n    },\n    {\n      \"column\": \"Department\",\n      \"properties\": {\n        \"dtype\": \"category\",\n        \"num_unique_values\": 10,\n        \"samples\": [\n          \"marketing\",\n          \"accounting\"\n        ],\n        \"semantic_type\": \"\",\n        \"description\": \"\"\n      }\n    },\n    {\n      \"column\": \"salary\",\n      \"properties\": {\n        \"dtype\": \"category\",\n        \"num_unique_values\": 3,\n        \"samples\": [\n          \"low\",\n          \"medium\"\n        ],\n        \"semantic_type\": \"\",\n        \"description\": \"\"\n      }\n    }\n  ]\n}"
            }
          },
          "metadata": {},
          "execution_count": 11
        }
      ]
    },
    {
      "cell_type": "code",
      "source": [
        "df.shape"
      ],
      "metadata": {
        "colab": {
          "base_uri": "https://localhost:8080/"
        },
        "id": "EdA6BjJEbyWt",
        "outputId": "c210ae7b-2b9e-4a25-c6b4-9986bcb5400f"
      },
      "execution_count": 12,
      "outputs": [
        {
          "output_type": "execute_result",
          "data": {
            "text/plain": [
              "(14999, 10)"
            ]
          },
          "metadata": {},
          "execution_count": 12
        }
      ]
    },
    {
      "cell_type": "code",
      "source": [
        "df.columns"
      ],
      "metadata": {
        "colab": {
          "base_uri": "https://localhost:8080/"
        },
        "id": "m_Z2QdYtb1Wl",
        "outputId": "78510cc7-0c4c-41a7-ea7f-5734b6cb020b"
      },
      "execution_count": 13,
      "outputs": [
        {
          "output_type": "execute_result",
          "data": {
            "text/plain": [
              "Index(['satisfaction_level', 'last_evaluation', 'number_project',\n",
              "       'average_montly_hours', 'time_spend_company', 'Work_accident', 'left',\n",
              "       'promotion_last_5years', 'Department', 'salary'],\n",
              "      dtype='object')"
            ]
          },
          "metadata": {},
          "execution_count": 13
        }
      ]
    },
    {
      "cell_type": "code",
      "source": [
        "df.dtypes"
      ],
      "metadata": {
        "colab": {
          "base_uri": "https://localhost:8080/"
        },
        "id": "m6uTCUOtb31L",
        "outputId": "ff914ffe-6aeb-4bd7-eb7c-164220267012"
      },
      "execution_count": 14,
      "outputs": [
        {
          "output_type": "execute_result",
          "data": {
            "text/plain": [
              "satisfaction_level       float64\n",
              "last_evaluation          float64\n",
              "number_project             int64\n",
              "average_montly_hours       int64\n",
              "time_spend_company         int64\n",
              "Work_accident              int64\n",
              "left                       int64\n",
              "promotion_last_5years      int64\n",
              "Department                object\n",
              "salary                    object\n",
              "dtype: object"
            ]
          },
          "metadata": {},
          "execution_count": 14
        }
      ]
    },
    {
      "cell_type": "code",
      "source": [
        "df.info()"
      ],
      "metadata": {
        "colab": {
          "base_uri": "https://localhost:8080/"
        },
        "id": "MKC-YaDKcDZr",
        "outputId": "04f2a89c-8c36-4140-ac15-3c439e79a794"
      },
      "execution_count": 15,
      "outputs": [
        {
          "output_type": "stream",
          "name": "stdout",
          "text": [
            "<class 'pandas.core.frame.DataFrame'>\n",
            "RangeIndex: 14999 entries, 0 to 14998\n",
            "Data columns (total 10 columns):\n",
            " #   Column                 Non-Null Count  Dtype  \n",
            "---  ------                 --------------  -----  \n",
            " 0   satisfaction_level     14999 non-null  float64\n",
            " 1   last_evaluation        14999 non-null  float64\n",
            " 2   number_project         14999 non-null  int64  \n",
            " 3   average_montly_hours   14999 non-null  int64  \n",
            " 4   time_spend_company     14999 non-null  int64  \n",
            " 5   Work_accident          14999 non-null  int64  \n",
            " 6   left                   14999 non-null  int64  \n",
            " 7   promotion_last_5years  14999 non-null  int64  \n",
            " 8   Department             14999 non-null  object \n",
            " 9   salary                 14999 non-null  object \n",
            "dtypes: float64(2), int64(6), object(2)\n",
            "memory usage: 1.1+ MB\n"
          ]
        }
      ]
    },
    {
      "cell_type": "code",
      "source": [
        "df[df.duplicated()]"
      ],
      "metadata": {
        "colab": {
          "base_uri": "https://localhost:8080/",
          "height": 423
        },
        "id": "d6_bZxX_cJS5",
        "outputId": "13c817f6-6e33-485a-b257-2bd75f4ed4bc"
      },
      "execution_count": 16,
      "outputs": [
        {
          "output_type": "execute_result",
          "data": {
            "text/plain": [
              "       satisfaction_level  last_evaluation  number_project  \\\n",
              "396                  0.46             0.57               2   \n",
              "866                  0.41             0.46               2   \n",
              "1317                 0.37             0.51               2   \n",
              "1368                 0.41             0.52               2   \n",
              "1461                 0.42             0.53               2   \n",
              "...                   ...              ...             ...   \n",
              "14994                0.40             0.57               2   \n",
              "14995                0.37             0.48               2   \n",
              "14996                0.37             0.53               2   \n",
              "14997                0.11             0.96               6   \n",
              "14998                0.37             0.52               2   \n",
              "\n",
              "       average_montly_hours  time_spend_company  Work_accident  left  \\\n",
              "396                     139                   3              0     1   \n",
              "866                     128                   3              0     1   \n",
              "1317                    127                   3              0     1   \n",
              "1368                    132                   3              0     1   \n",
              "1461                    142                   3              0     1   \n",
              "...                     ...                 ...            ...   ...   \n",
              "14994                   151                   3              0     1   \n",
              "14995                   160                   3              0     1   \n",
              "14996                   143                   3              0     1   \n",
              "14997                   280                   4              0     1   \n",
              "14998                   158                   3              0     1   \n",
              "\n",
              "       promotion_last_5years  Department  salary  \n",
              "396                        0       sales     low  \n",
              "866                        0  accounting     low  \n",
              "1317                       0       sales  medium  \n",
              "1368                       0       RandD     low  \n",
              "1461                       0       sales     low  \n",
              "...                      ...         ...     ...  \n",
              "14994                      0     support     low  \n",
              "14995                      0     support     low  \n",
              "14996                      0     support     low  \n",
              "14997                      0     support     low  \n",
              "14998                      0     support     low  \n",
              "\n",
              "[3008 rows x 10 columns]"
            ],
            "text/html": [
              "\n",
              "  <div id=\"df-d4ea9cd2-bc10-4cd5-92ca-26aee84adb9e\" class=\"colab-df-container\">\n",
              "    <div>\n",
              "<style scoped>\n",
              "    .dataframe tbody tr th:only-of-type {\n",
              "        vertical-align: middle;\n",
              "    }\n",
              "\n",
              "    .dataframe tbody tr th {\n",
              "        vertical-align: top;\n",
              "    }\n",
              "\n",
              "    .dataframe thead th {\n",
              "        text-align: right;\n",
              "    }\n",
              "</style>\n",
              "<table border=\"1\" class=\"dataframe\">\n",
              "  <thead>\n",
              "    <tr style=\"text-align: right;\">\n",
              "      <th></th>\n",
              "      <th>satisfaction_level</th>\n",
              "      <th>last_evaluation</th>\n",
              "      <th>number_project</th>\n",
              "      <th>average_montly_hours</th>\n",
              "      <th>time_spend_company</th>\n",
              "      <th>Work_accident</th>\n",
              "      <th>left</th>\n",
              "      <th>promotion_last_5years</th>\n",
              "      <th>Department</th>\n",
              "      <th>salary</th>\n",
              "    </tr>\n",
              "  </thead>\n",
              "  <tbody>\n",
              "    <tr>\n",
              "      <th>396</th>\n",
              "      <td>0.46</td>\n",
              "      <td>0.57</td>\n",
              "      <td>2</td>\n",
              "      <td>139</td>\n",
              "      <td>3</td>\n",
              "      <td>0</td>\n",
              "      <td>1</td>\n",
              "      <td>0</td>\n",
              "      <td>sales</td>\n",
              "      <td>low</td>\n",
              "    </tr>\n",
              "    <tr>\n",
              "      <th>866</th>\n",
              "      <td>0.41</td>\n",
              "      <td>0.46</td>\n",
              "      <td>2</td>\n",
              "      <td>128</td>\n",
              "      <td>3</td>\n",
              "      <td>0</td>\n",
              "      <td>1</td>\n",
              "      <td>0</td>\n",
              "      <td>accounting</td>\n",
              "      <td>low</td>\n",
              "    </tr>\n",
              "    <tr>\n",
              "      <th>1317</th>\n",
              "      <td>0.37</td>\n",
              "      <td>0.51</td>\n",
              "      <td>2</td>\n",
              "      <td>127</td>\n",
              "      <td>3</td>\n",
              "      <td>0</td>\n",
              "      <td>1</td>\n",
              "      <td>0</td>\n",
              "      <td>sales</td>\n",
              "      <td>medium</td>\n",
              "    </tr>\n",
              "    <tr>\n",
              "      <th>1368</th>\n",
              "      <td>0.41</td>\n",
              "      <td>0.52</td>\n",
              "      <td>2</td>\n",
              "      <td>132</td>\n",
              "      <td>3</td>\n",
              "      <td>0</td>\n",
              "      <td>1</td>\n",
              "      <td>0</td>\n",
              "      <td>RandD</td>\n",
              "      <td>low</td>\n",
              "    </tr>\n",
              "    <tr>\n",
              "      <th>1461</th>\n",
              "      <td>0.42</td>\n",
              "      <td>0.53</td>\n",
              "      <td>2</td>\n",
              "      <td>142</td>\n",
              "      <td>3</td>\n",
              "      <td>0</td>\n",
              "      <td>1</td>\n",
              "      <td>0</td>\n",
              "      <td>sales</td>\n",
              "      <td>low</td>\n",
              "    </tr>\n",
              "    <tr>\n",
              "      <th>...</th>\n",
              "      <td>...</td>\n",
              "      <td>...</td>\n",
              "      <td>...</td>\n",
              "      <td>...</td>\n",
              "      <td>...</td>\n",
              "      <td>...</td>\n",
              "      <td>...</td>\n",
              "      <td>...</td>\n",
              "      <td>...</td>\n",
              "      <td>...</td>\n",
              "    </tr>\n",
              "    <tr>\n",
              "      <th>14994</th>\n",
              "      <td>0.40</td>\n",
              "      <td>0.57</td>\n",
              "      <td>2</td>\n",
              "      <td>151</td>\n",
              "      <td>3</td>\n",
              "      <td>0</td>\n",
              "      <td>1</td>\n",
              "      <td>0</td>\n",
              "      <td>support</td>\n",
              "      <td>low</td>\n",
              "    </tr>\n",
              "    <tr>\n",
              "      <th>14995</th>\n",
              "      <td>0.37</td>\n",
              "      <td>0.48</td>\n",
              "      <td>2</td>\n",
              "      <td>160</td>\n",
              "      <td>3</td>\n",
              "      <td>0</td>\n",
              "      <td>1</td>\n",
              "      <td>0</td>\n",
              "      <td>support</td>\n",
              "      <td>low</td>\n",
              "    </tr>\n",
              "    <tr>\n",
              "      <th>14996</th>\n",
              "      <td>0.37</td>\n",
              "      <td>0.53</td>\n",
              "      <td>2</td>\n",
              "      <td>143</td>\n",
              "      <td>3</td>\n",
              "      <td>0</td>\n",
              "      <td>1</td>\n",
              "      <td>0</td>\n",
              "      <td>support</td>\n",
              "      <td>low</td>\n",
              "    </tr>\n",
              "    <tr>\n",
              "      <th>14997</th>\n",
              "      <td>0.11</td>\n",
              "      <td>0.96</td>\n",
              "      <td>6</td>\n",
              "      <td>280</td>\n",
              "      <td>4</td>\n",
              "      <td>0</td>\n",
              "      <td>1</td>\n",
              "      <td>0</td>\n",
              "      <td>support</td>\n",
              "      <td>low</td>\n",
              "    </tr>\n",
              "    <tr>\n",
              "      <th>14998</th>\n",
              "      <td>0.37</td>\n",
              "      <td>0.52</td>\n",
              "      <td>2</td>\n",
              "      <td>158</td>\n",
              "      <td>3</td>\n",
              "      <td>0</td>\n",
              "      <td>1</td>\n",
              "      <td>0</td>\n",
              "      <td>support</td>\n",
              "      <td>low</td>\n",
              "    </tr>\n",
              "  </tbody>\n",
              "</table>\n",
              "<p>3008 rows × 10 columns</p>\n",
              "</div>\n",
              "    <div class=\"colab-df-buttons\">\n",
              "\n",
              "  <div class=\"colab-df-container\">\n",
              "    <button class=\"colab-df-convert\" onclick=\"convertToInteractive('df-d4ea9cd2-bc10-4cd5-92ca-26aee84adb9e')\"\n",
              "            title=\"Convert this dataframe to an interactive table.\"\n",
              "            style=\"display:none;\">\n",
              "\n",
              "  <svg xmlns=\"http://www.w3.org/2000/svg\" height=\"24px\" viewBox=\"0 -960 960 960\">\n",
              "    <path d=\"M120-120v-720h720v720H120Zm60-500h600v-160H180v160Zm220 220h160v-160H400v160Zm0 220h160v-160H400v160ZM180-400h160v-160H180v160Zm440 0h160v-160H620v160ZM180-180h160v-160H180v160Zm440 0h160v-160H620v160Z\"/>\n",
              "  </svg>\n",
              "    </button>\n",
              "\n",
              "  <style>\n",
              "    .colab-df-container {\n",
              "      display:flex;\n",
              "      gap: 12px;\n",
              "    }\n",
              "\n",
              "    .colab-df-convert {\n",
              "      background-color: #E8F0FE;\n",
              "      border: none;\n",
              "      border-radius: 50%;\n",
              "      cursor: pointer;\n",
              "      display: none;\n",
              "      fill: #1967D2;\n",
              "      height: 32px;\n",
              "      padding: 0 0 0 0;\n",
              "      width: 32px;\n",
              "    }\n",
              "\n",
              "    .colab-df-convert:hover {\n",
              "      background-color: #E2EBFA;\n",
              "      box-shadow: 0px 1px 2px rgba(60, 64, 67, 0.3), 0px 1px 3px 1px rgba(60, 64, 67, 0.15);\n",
              "      fill: #174EA6;\n",
              "    }\n",
              "\n",
              "    .colab-df-buttons div {\n",
              "      margin-bottom: 4px;\n",
              "    }\n",
              "\n",
              "    [theme=dark] .colab-df-convert {\n",
              "      background-color: #3B4455;\n",
              "      fill: #D2E3FC;\n",
              "    }\n",
              "\n",
              "    [theme=dark] .colab-df-convert:hover {\n",
              "      background-color: #434B5C;\n",
              "      box-shadow: 0px 1px 3px 1px rgba(0, 0, 0, 0.15);\n",
              "      filter: drop-shadow(0px 1px 2px rgba(0, 0, 0, 0.3));\n",
              "      fill: #FFFFFF;\n",
              "    }\n",
              "  </style>\n",
              "\n",
              "    <script>\n",
              "      const buttonEl =\n",
              "        document.querySelector('#df-d4ea9cd2-bc10-4cd5-92ca-26aee84adb9e button.colab-df-convert');\n",
              "      buttonEl.style.display =\n",
              "        google.colab.kernel.accessAllowed ? 'block' : 'none';\n",
              "\n",
              "      async function convertToInteractive(key) {\n",
              "        const element = document.querySelector('#df-d4ea9cd2-bc10-4cd5-92ca-26aee84adb9e');\n",
              "        const dataTable =\n",
              "          await google.colab.kernel.invokeFunction('convertToInteractive',\n",
              "                                                    [key], {});\n",
              "        if (!dataTable) return;\n",
              "\n",
              "        const docLinkHtml = 'Like what you see? Visit the ' +\n",
              "          '<a target=\"_blank\" href=https://colab.research.google.com/notebooks/data_table.ipynb>data table notebook</a>'\n",
              "          + ' to learn more about interactive tables.';\n",
              "        element.innerHTML = '';\n",
              "        dataTable['output_type'] = 'display_data';\n",
              "        await google.colab.output.renderOutput(dataTable, element);\n",
              "        const docLink = document.createElement('div');\n",
              "        docLink.innerHTML = docLinkHtml;\n",
              "        element.appendChild(docLink);\n",
              "      }\n",
              "    </script>\n",
              "  </div>\n",
              "\n",
              "\n",
              "<div id=\"df-d2a14162-df00-4b6f-9e1f-5c8835d1fb9f\">\n",
              "  <button class=\"colab-df-quickchart\" onclick=\"quickchart('df-d2a14162-df00-4b6f-9e1f-5c8835d1fb9f')\"\n",
              "            title=\"Suggest charts\"\n",
              "            style=\"display:none;\">\n",
              "\n",
              "<svg xmlns=\"http://www.w3.org/2000/svg\" height=\"24px\"viewBox=\"0 0 24 24\"\n",
              "     width=\"24px\">\n",
              "    <g>\n",
              "        <path d=\"M19 3H5c-1.1 0-2 .9-2 2v14c0 1.1.9 2 2 2h14c1.1 0 2-.9 2-2V5c0-1.1-.9-2-2-2zM9 17H7v-7h2v7zm4 0h-2V7h2v10zm4 0h-2v-4h2v4z\"/>\n",
              "    </g>\n",
              "</svg>\n",
              "  </button>\n",
              "\n",
              "<style>\n",
              "  .colab-df-quickchart {\n",
              "      --bg-color: #E8F0FE;\n",
              "      --fill-color: #1967D2;\n",
              "      --hover-bg-color: #E2EBFA;\n",
              "      --hover-fill-color: #174EA6;\n",
              "      --disabled-fill-color: #AAA;\n",
              "      --disabled-bg-color: #DDD;\n",
              "  }\n",
              "\n",
              "  [theme=dark] .colab-df-quickchart {\n",
              "      --bg-color: #3B4455;\n",
              "      --fill-color: #D2E3FC;\n",
              "      --hover-bg-color: #434B5C;\n",
              "      --hover-fill-color: #FFFFFF;\n",
              "      --disabled-bg-color: #3B4455;\n",
              "      --disabled-fill-color: #666;\n",
              "  }\n",
              "\n",
              "  .colab-df-quickchart {\n",
              "    background-color: var(--bg-color);\n",
              "    border: none;\n",
              "    border-radius: 50%;\n",
              "    cursor: pointer;\n",
              "    display: none;\n",
              "    fill: var(--fill-color);\n",
              "    height: 32px;\n",
              "    padding: 0;\n",
              "    width: 32px;\n",
              "  }\n",
              "\n",
              "  .colab-df-quickchart:hover {\n",
              "    background-color: var(--hover-bg-color);\n",
              "    box-shadow: 0 1px 2px rgba(60, 64, 67, 0.3), 0 1px 3px 1px rgba(60, 64, 67, 0.15);\n",
              "    fill: var(--button-hover-fill-color);\n",
              "  }\n",
              "\n",
              "  .colab-df-quickchart-complete:disabled,\n",
              "  .colab-df-quickchart-complete:disabled:hover {\n",
              "    background-color: var(--disabled-bg-color);\n",
              "    fill: var(--disabled-fill-color);\n",
              "    box-shadow: none;\n",
              "  }\n",
              "\n",
              "  .colab-df-spinner {\n",
              "    border: 2px solid var(--fill-color);\n",
              "    border-color: transparent;\n",
              "    border-bottom-color: var(--fill-color);\n",
              "    animation:\n",
              "      spin 1s steps(1) infinite;\n",
              "  }\n",
              "\n",
              "  @keyframes spin {\n",
              "    0% {\n",
              "      border-color: transparent;\n",
              "      border-bottom-color: var(--fill-color);\n",
              "      border-left-color: var(--fill-color);\n",
              "    }\n",
              "    20% {\n",
              "      border-color: transparent;\n",
              "      border-left-color: var(--fill-color);\n",
              "      border-top-color: var(--fill-color);\n",
              "    }\n",
              "    30% {\n",
              "      border-color: transparent;\n",
              "      border-left-color: var(--fill-color);\n",
              "      border-top-color: var(--fill-color);\n",
              "      border-right-color: var(--fill-color);\n",
              "    }\n",
              "    40% {\n",
              "      border-color: transparent;\n",
              "      border-right-color: var(--fill-color);\n",
              "      border-top-color: var(--fill-color);\n",
              "    }\n",
              "    60% {\n",
              "      border-color: transparent;\n",
              "      border-right-color: var(--fill-color);\n",
              "    }\n",
              "    80% {\n",
              "      border-color: transparent;\n",
              "      border-right-color: var(--fill-color);\n",
              "      border-bottom-color: var(--fill-color);\n",
              "    }\n",
              "    90% {\n",
              "      border-color: transparent;\n",
              "      border-bottom-color: var(--fill-color);\n",
              "    }\n",
              "  }\n",
              "</style>\n",
              "\n",
              "  <script>\n",
              "    async function quickchart(key) {\n",
              "      const quickchartButtonEl =\n",
              "        document.querySelector('#' + key + ' button');\n",
              "      quickchartButtonEl.disabled = true;  // To prevent multiple clicks.\n",
              "      quickchartButtonEl.classList.add('colab-df-spinner');\n",
              "      try {\n",
              "        const charts = await google.colab.kernel.invokeFunction(\n",
              "            'suggestCharts', [key], {});\n",
              "      } catch (error) {\n",
              "        console.error('Error during call to suggestCharts:', error);\n",
              "      }\n",
              "      quickchartButtonEl.classList.remove('colab-df-spinner');\n",
              "      quickchartButtonEl.classList.add('colab-df-quickchart-complete');\n",
              "    }\n",
              "    (() => {\n",
              "      let quickchartButtonEl =\n",
              "        document.querySelector('#df-d2a14162-df00-4b6f-9e1f-5c8835d1fb9f button');\n",
              "      quickchartButtonEl.style.display =\n",
              "        google.colab.kernel.accessAllowed ? 'block' : 'none';\n",
              "    })();\n",
              "  </script>\n",
              "</div>\n",
              "\n",
              "    </div>\n",
              "  </div>\n"
            ],
            "application/vnd.google.colaboratory.intrinsic+json": {
              "type": "dataframe",
              "summary": "{\n  \"name\": \"df[df\",\n  \"rows\": 3008,\n  \"fields\": [\n    {\n      \"column\": \"satisfaction_level\",\n      \"properties\": {\n        \"dtype\": \"number\",\n        \"std\": 0.2664062282849882,\n        \"min\": 0.09,\n        \"max\": 1.0,\n        \"num_unique_values\": 92,\n        \"samples\": [\n          0.83,\n          0.43,\n          0.55\n        ],\n        \"semantic_type\": \"\",\n        \"description\": \"\"\n      }\n    },\n    {\n      \"column\": \"last_evaluation\",\n      \"properties\": {\n        \"dtype\": \"number\",\n        \"std\": 0.18201197073723113,\n        \"min\": 0.36,\n        \"max\": 1.0,\n        \"num_unique_values\": 65,\n        \"samples\": [\n          0.44,\n          0.38,\n          0.57\n        ],\n        \"semantic_type\": \"\",\n        \"description\": \"\"\n      }\n    },\n    {\n      \"column\": \"number_project\",\n      \"properties\": {\n        \"dtype\": \"number\",\n        \"std\": 1,\n        \"min\": 2,\n        \"max\": 7,\n        \"num_unique_values\": 6,\n        \"samples\": [\n          2,\n          6,\n          3\n        ],\n        \"semantic_type\": \"\",\n        \"description\": \"\"\n      }\n    },\n    {\n      \"column\": \"average_montly_hours\",\n      \"properties\": {\n        \"dtype\": \"number\",\n        \"std\": 54,\n        \"min\": 97,\n        \"max\": 310,\n        \"num_unique_values\": 207,\n        \"samples\": [\n          163,\n          259,\n          289\n        ],\n        \"semantic_type\": \"\",\n        \"description\": \"\"\n      }\n    },\n    {\n      \"column\": \"time_spend_company\",\n      \"properties\": {\n        \"dtype\": \"number\",\n        \"std\": 1,\n        \"min\": 2,\n        \"max\": 10,\n        \"num_unique_values\": 8,\n        \"samples\": [\n          4,\n          8,\n          3\n        ],\n        \"semantic_type\": \"\",\n        \"description\": \"\"\n      }\n    },\n    {\n      \"column\": \"Work_accident\",\n      \"properties\": {\n        \"dtype\": \"number\",\n        \"std\": 0,\n        \"min\": 0,\n        \"max\": 1,\n        \"num_unique_values\": 2,\n        \"samples\": [\n          1,\n          0\n        ],\n        \"semantic_type\": \"\",\n        \"description\": \"\"\n      }\n    },\n    {\n      \"column\": \"left\",\n      \"properties\": {\n        \"dtype\": \"number\",\n        \"std\": 0,\n        \"min\": 0,\n        \"max\": 1,\n        \"num_unique_values\": 2,\n        \"samples\": [\n          0,\n          1\n        ],\n        \"semantic_type\": \"\",\n        \"description\": \"\"\n      }\n    },\n    {\n      \"column\": \"promotion_last_5years\",\n      \"properties\": {\n        \"dtype\": \"number\",\n        \"std\": 0,\n        \"min\": 0,\n        \"max\": 1,\n        \"num_unique_values\": 2,\n        \"samples\": [\n          1,\n          0\n        ],\n        \"semantic_type\": \"\",\n        \"description\": \"\"\n      }\n    },\n    {\n      \"column\": \"Department\",\n      \"properties\": {\n        \"dtype\": \"category\",\n        \"num_unique_values\": 10,\n        \"samples\": [\n          \"product_mng\",\n          \"accounting\"\n        ],\n        \"semantic_type\": \"\",\n        \"description\": \"\"\n      }\n    },\n    {\n      \"column\": \"salary\",\n      \"properties\": {\n        \"dtype\": \"category\",\n        \"num_unique_values\": 3,\n        \"samples\": [\n          \"low\",\n          \"medium\"\n        ],\n        \"semantic_type\": \"\",\n        \"description\": \"\"\n      }\n    }\n  ]\n}"
            }
          },
          "metadata": {},
          "execution_count": 16
        }
      ]
    },
    {
      "cell_type": "code",
      "source": [
        "#to check for duplicate values\n",
        "df1= df.drop_duplicates()"
      ],
      "metadata": {
        "id": "uUm87IHOcWLC"
      },
      "execution_count": 17,
      "outputs": []
    },
    {
      "cell_type": "code",
      "source": [
        "df1.shape"
      ],
      "metadata": {
        "colab": {
          "base_uri": "https://localhost:8080/"
        },
        "id": "-UChSPzocbce",
        "outputId": "e5cef623-8f66-4e91-a032-d6dae7e63770"
      },
      "execution_count": 18,
      "outputs": [
        {
          "output_type": "execute_result",
          "data": {
            "text/plain": [
              "(11991, 10)"
            ]
          },
          "metadata": {},
          "execution_count": 18
        }
      ]
    },
    {
      "cell_type": "code",
      "source": [
        "#to check for null values\n",
        "df1.isnull().sum()"
      ],
      "metadata": {
        "colab": {
          "base_uri": "https://localhost:8080/"
        },
        "id": "UdXfLvTlcevd",
        "outputId": "78b8d7f4-4981-4ffc-bb80-b0f57663a6aa"
      },
      "execution_count": 19,
      "outputs": [
        {
          "output_type": "execute_result",
          "data": {
            "text/plain": [
              "satisfaction_level       0\n",
              "last_evaluation          0\n",
              "number_project           0\n",
              "average_montly_hours     0\n",
              "time_spend_company       0\n",
              "Work_accident            0\n",
              "left                     0\n",
              "promotion_last_5years    0\n",
              "Department               0\n",
              "salary                   0\n",
              "dtype: int64"
            ]
          },
          "metadata": {},
          "execution_count": 19
        }
      ]
    },
    {
      "cell_type": "code",
      "source": [
        "#hence no null values are present"
      ],
      "metadata": {
        "id": "aBN8drFuctNi"
      },
      "execution_count": 20,
      "outputs": []
    },
    {
      "cell_type": "code",
      "source": [
        "#0 means stay in company and 1 means leave the company"
      ],
      "metadata": {
        "id": "PfqWoGKtc4hy"
      },
      "execution_count": 21,
      "outputs": []
    },
    {
      "cell_type": "markdown",
      "source": [
        "**DATA EXPLORATION AND VISUALIZATION**"
      ],
      "metadata": {
        "id": "QFTWv9spdM5H"
      }
    },
    {
      "cell_type": "code",
      "source": [
        "df1['left'].value_counts()"
      ],
      "metadata": {
        "colab": {
          "base_uri": "https://localhost:8080/"
        },
        "id": "qF6Qkul9dVoa",
        "outputId": "bb285b14-bc13-4079-d201-517e53b19760"
      },
      "execution_count": 22,
      "outputs": [
        {
          "output_type": "execute_result",
          "data": {
            "text/plain": [
              "left\n",
              "0    10000\n",
              "1     1991\n",
              "Name: count, dtype: int64"
            ]
          },
          "metadata": {},
          "execution_count": 22
        }
      ]
    },
    {
      "cell_type": "code",
      "source": [
        "df1['left'].value_counts().plot(kind='pie',autopct='%1.1f%%') #as a pie chart repr"
      ],
      "metadata": {
        "colab": {
          "base_uri": "https://localhost:8080/",
          "height": 423
        },
        "id": "X6l_jdaSdyxc",
        "outputId": "0d9f15cb-4732-4bbe-9834-5112316446e6"
      },
      "execution_count": 23,
      "outputs": [
        {
          "output_type": "execute_result",
          "data": {
            "text/plain": [
              "<Axes: ylabel='count'>"
            ]
          },
          "metadata": {},
          "execution_count": 23
        },
        {
          "output_type": "display_data",
          "data": {
            "text/plain": [
              "<Figure size 640x480 with 1 Axes>"
            ],
            "image/png": "[encoded data removed]"
          },
          "metadata": {}
        }
      ]
    },
    {
      "cell_type": "code",
      "source": [
        "df1['left'].value_counts().plot(kind='bar')"
      ],
      "metadata": {
        "colab": {
          "base_uri": "https://localhost:8080/",
          "height": 461
        },
        "id": "rNlDF_dBd4pX",
        "outputId": "4e1cab2f-5eab-4903-dbbb-94ad337e5c32"
      },
      "execution_count": 24,
      "outputs": [
        {
          "output_type": "execute_result",
          "data": {
            "text/plain": [
              "<Axes: xlabel='left'>"
            ]
          },
          "metadata": {},
          "execution_count": 24
        },
        {
          "output_type": "display_data",
          "data": {
            "text/plain": [
              "<Figure size 640x480 with 1 Axes>"
            ],
            "image/png": "[encoded data removed]"
          },
          "metadata": {}
        }
      ]
    },
    {
      "cell_type": "code",
      "source": [
        "#to find the impact of salary on the employee retention we'll use crosstab"
      ],
      "metadata": {
        "id": "b6CsTZa0eAyw"
      },
      "execution_count": 25,
      "outputs": []
    },
    {
      "cell_type": "code",
      "source": [
        "pd.crosstab(df1.salary,df1.left).plot(kind='bar')"
      ],
      "metadata": {
        "colab": {
          "base_uri": "https://localhost:8080/",
          "height": 509
        },
        "id": "IPtsLlnWeaqy",
        "outputId": "54547a26-41ba-41f0-dca7-55c0e39a03f6"
      },
      "execution_count": 26,
      "outputs": [
        {
          "output_type": "execute_result",
          "data": {
            "text/plain": [
              "<Axes: xlabel='salary'>"
            ]
          },
          "metadata": {},
          "execution_count": 26
        },
        {
          "output_type": "display_data",
          "data": {
            "text/plain": [
              "<Figure size 640x480 with 1 Axes>"
            ],
            "image/png": "[encoded data removed]"
          },
          "metadata": {}
        }
      ]
    },
    {
      "cell_type": "code",
      "source": [
        "#to find the impact of department on the employee retention we'll use crosstab\n",
        "pd.crosstab(df1.Department,df1.left).plot(kind='bar')"
      ],
      "metadata": {
        "colab": {
          "base_uri": "https://localhost:8080/",
          "height": 546
        },
        "id": "gFxbfMLoedNd",
        "outputId": "b68d20a5-ff50-486a-f632-949bcab0df30"
      },
      "execution_count": 27,
      "outputs": [
        {
          "output_type": "execute_result",
          "data": {
            "text/plain": [
              "<Axes: xlabel='Department'>"
            ]
          },
          "metadata": {},
          "execution_count": 27
        },
        {
          "output_type": "display_data",
          "data": {
            "text/plain": [
              "<Figure size 640x480 with 1 Axes>"
            ],
            "image/png": "[encoded data removed]"
          },
          "metadata": {}
        }
      ]
    },
    {
      "cell_type": "code",
      "source": [
        "#to plot the histogram of various factors(here columns)\n",
        "df1.hist(bins=5,figsize=(20,20),color='r')\n",
        "plt.show()"
      ],
      "metadata": {
        "colab": {
          "base_uri": "https://localhost:8080/",
          "height": 1000
        },
        "id": "ZwJqPFHYfjSf",
        "outputId": "025df440-7ed6-48db-d8b6-7f6e8a63c30b"
      },
      "execution_count": 28,
      "outputs": [
        {
          "output_type": "display_data",
          "data": {
            "text/plain": [
              "<Figure size 2000x2000 with 9 Axes>"
            ],
            "image/png": "[encoded data removed]"
          },
          "metadata": {}
        }
      ]
    },
    {
      "cell_type": "code",
      "source": [
        "#we can do the same by using separate histograms"
      ],
      "metadata": {
        "id": "6GP4NAJagLBt"
      },
      "execution_count": 29,
      "outputs": []
    },
    {
      "cell_type": "code",
      "source": [
        "df1['satisfaction_level'].hist(bins=5,color='g')\n",
        "plt.show()"
      ],
      "metadata": {
        "colab": {
          "base_uri": "https://localhost:8080/",
          "height": 430
        },
        "id": "LX6zUQi5glX-",
        "outputId": "e7af6a29-3664-4f1d-e364-8b662941a69e"
      },
      "execution_count": 30,
      "outputs": [
        {
          "output_type": "display_data",
          "data": {
            "text/plain": [
              "<Figure size 640x480 with 1 Axes>"
            ],
            "image/png": "[encoded data removed]"
          },
          "metadata": {}
        }
      ]
    },
    {
      "cell_type": "code",
      "source": [
        "#similar for rest separately"
      ],
      "metadata": {
        "id": "DKSRB7VCgtVn"
      },
      "execution_count": 31,
      "outputs": []
    },
    {
      "cell_type": "markdown",
      "source": [
        "# ***FEATURE ENGINEERING***"
      ],
      "metadata": {
        "id": "fsnYWUkEg59f"
      }
    },
    {
      "cell_type": "markdown",
      "source": [
        "![image.png](data:image/png;base64,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)"
      ],
      "metadata": {
        "id": "_0tw3E4jhMQZ"
      }
    },
    {
      "cell_type": "code",
      "source": [
        "from sklearn.preprocessing import LabelEncoder\n",
        "le= LabelEncoder()"
      ],
      "metadata": {
        "id": "LdHjX0d5gzc0"
      },
      "execution_count": 32,
      "outputs": []
    },
    {
      "cell_type": "code",
      "source": [
        "df1['salary']=le.fit_transform(df1['salary'])\n",
        "df1['Department']=le.fit_transform(df1['Department'])"
      ],
      "metadata": {
        "colab": {
          "base_uri": "https://localhost:8080/"
        },
        "id": "9bmogT8Mho4N",
        "outputId": "fa89b2c3-06a9-408b-a50c-10ebbbd5add2"
      },
      "execution_count": 33,
      "outputs": [
        {
          "output_type": "stream",
          "name": "stderr",
          "text": [
            "<ipython-input-33-789993e3a963>:1: SettingWithCopyWarning: \n",
            "A value is trying to be set on a copy of a slice from a DataFrame.\n",
            "Try using .loc[row_indexer,col_indexer] = value instead\n",
            "\n",
            "See the caveats in the documentation: https://pandas.pydata.org/pandas-docs/stable/user_guide/indexing.html#returning-a-view-versus-a-copy\n",
            "  df1['salary']=le.fit_transform(df1['salary'])\n",
            "<ipython-input-33-789993e3a963>:2: SettingWithCopyWarning: \n",
            "A value is trying to be set on a copy of a slice from a DataFrame.\n",
            "Try using .loc[row_indexer,col_indexer] = value instead\n",
            "\n",
            "See the caveats in the documentation: https://pandas.pydata.org/pandas-docs/stable/user_guide/indexing.html#returning-a-view-versus-a-copy\n",
            "  df1['Department']=le.fit_transform(df1['Department'])\n"
          ]
        }
      ]
    },
    {
      "cell_type": "code",
      "source": [
        "df1.head()"
      ],
      "metadata": {
        "colab": {
          "base_uri": "https://localhost:8080/",
          "height": 206
        },
        "id": "HvNJb9qbiFvz",
        "outputId": "0e8d4a77-902c-4cdd-8df7-7291be7739fa"
      },
      "execution_count": 34,
      "outputs": [
        {
          "output_type": "execute_result",
          "data": {
            "text/plain": [
              "   satisfaction_level  last_evaluation  number_project  average_montly_hours  \\\n",
              "0                0.38             0.53               2                   157   \n",
              "1                0.80             0.86               5                   262   \n",
              "2                0.11             0.88               7                   272   \n",
              "3                0.72             0.87               5                   223   \n",
              "4                0.37             0.52               2                   159   \n",
              "\n",
              "   time_spend_company  Work_accident  left  promotion_last_5years  Department  \\\n",
              "0                   3              0     1                      0           7   \n",
              "1                   6              0     1                      0           7   \n",
              "2                   4              0     1                      0           7   \n",
              "3                   5              0     1                      0           7   \n",
              "4                   3              0     1                      0           7   \n",
              "\n",
              "   salary  \n",
              "0       1  \n",
              "1       2  \n",
              "2       2  \n",
              "3       1  \n",
              "4       1  "
            ],
            "text/html": [
              "\n",
              "  <div id=\"df-73950ed4-ebca-47e9-822a-8056fdd9b998\" class=\"colab-df-container\">\n",
              "    <div>\n",
              "<style scoped>\n",
              "    .dataframe tbody tr th:only-of-type {\n",
              "        vertical-align: middle;\n",
              "    }\n",
              "\n",
              "    .dataframe tbody tr th {\n",
              "        vertical-align: top;\n",
              "    }\n",
              "\n",
              "    .dataframe thead th {\n",
              "        text-align: right;\n",
              "    }\n",
              "</style>\n",
              "<table border=\"1\" class=\"dataframe\">\n",
              "  <thead>\n",
              "    <tr style=\"text-align: right;\">\n",
              "      <th></th>\n",
              "      <th>satisfaction_level</th>\n",
              "      <th>last_evaluation</th>\n",
              "      <th>number_project</th>\n",
              "      <th>average_montly_hours</th>\n",
              "      <th>time_spend_company</th>\n",
              "      <th>Work_accident</th>\n",
              "      <th>left</th>\n",
              "      <th>promotion_last_5years</th>\n",
              "      <th>Department</th>\n",
              "      <th>salary</th>\n",
              "    </tr>\n",
              "  </thead>\n",
              "  <tbody>\n",
              "    <tr>\n",
              "      <th>0</th>\n",
              "      <td>0.38</td>\n",
              "      <td>0.53</td>\n",
              "      <td>2</td>\n",
              "      <td>157</td>\n",
              "      <td>3</td>\n",
              "      <td>0</td>\n",
              "      <td>1</td>\n",
              "      <td>0</td>\n",
              "      <td>7</td>\n",
              "      <td>1</td>\n",
              "    </tr>\n",
              "    <tr>\n",
              "      <th>1</th>\n",
              "      <td>0.80</td>\n",
              "      <td>0.86</td>\n",
              "      <td>5</td>\n",
              "      <td>262</td>\n",
              "      <td>6</td>\n",
              "      <td>0</td>\n",
              "      <td>1</td>\n",
              "      <td>0</td>\n",
              "      <td>7</td>\n",
              "      <td>2</td>\n",
              "    </tr>\n",
              "    <tr>\n",
              "      <th>2</th>\n",
              "      <td>0.11</td>\n",
              "      <td>0.88</td>\n",
              "      <td>7</td>\n",
              "      <td>272</td>\n",
              "      <td>4</td>\n",
              "      <td>0</td>\n",
              "      <td>1</td>\n",
              "      <td>0</td>\n",
              "      <td>7</td>\n",
              "      <td>2</td>\n",
              "    </tr>\n",
              "    <tr>\n",
              "      <th>3</th>\n",
              "      <td>0.72</td>\n",
              "      <td>0.87</td>\n",
              "      <td>5</td>\n",
              "      <td>223</td>\n",
              "      <td>5</td>\n",
              "      <td>0</td>\n",
              "      <td>1</td>\n",
              "      <td>0</td>\n",
              "      <td>7</td>\n",
              "      <td>1</td>\n",
              "    </tr>\n",
              "    <tr>\n",
              "      <th>4</th>\n",
              "      <td>0.37</td>\n",
              "      <td>0.52</td>\n",
              "      <td>2</td>\n",
              "      <td>159</td>\n",
              "      <td>3</td>\n",
              "      <td>0</td>\n",
              "      <td>1</td>\n",
              "      <td>0</td>\n",
              "      <td>7</td>\n",
              "      <td>1</td>\n",
              "    </tr>\n",
              "  </tbody>\n",
              "</table>\n",
              "</div>\n",
              "    <div class=\"colab-df-buttons\">\n",
              "\n",
              "  <div class=\"colab-df-container\">\n",
              "    <button class=\"colab-df-convert\" onclick=\"convertToInteractive('df-73950ed4-ebca-47e9-822a-8056fdd9b998')\"\n",
              "            title=\"Convert this dataframe to an interactive table.\"\n",
              "            style=\"display:none;\">\n",
              "\n",
              "  <svg xmlns=\"http://www.w3.org/2000/svg\" height=\"24px\" viewBox=\"0 -960 960 960\">\n",
              "    <path d=\"M120-120v-720h720v720H120Zm60-500h600v-160H180v160Zm220 220h160v-160H400v160Zm0 220h160v-160H400v160ZM180-400h160v-160H180v160Zm440 0h160v-160H620v160ZM180-180h160v-160H180v160Zm440 0h160v-160H620v160Z\"/>\n",
              "  </svg>\n",
              "    </button>\n",
              "\n",
              "  <style>\n",
              "    .colab-df-container {\n",
              "      display:flex;\n",
              "      gap: 12px;\n",
              "    }\n",
              "\n",
              "    .colab-df-convert {\n",
              "      background-color: #E8F0FE;\n",
              "      border: none;\n",
              "      border-radius: 50%;\n",
              "      cursor: pointer;\n",
              "      display: none;\n",
              "      fill: #1967D2;\n",
              "      height: 32px;\n",
              "      padding: 0 0 0 0;\n",
              "      width: 32px;\n",
              "    }\n",
              "\n",
              "    .colab-df-convert:hover {\n",
              "      background-color: #E2EBFA;\n",
              "      box-shadow: 0px 1px 2px rgba(60, 64, 67, 0.3), 0px 1px 3px 1px rgba(60, 64, 67, 0.15);\n",
              "      fill: #174EA6;\n",
              "    }\n",
              "\n",
              "    .colab-df-buttons div {\n",
              "      margin-bottom: 4px;\n",
              "    }\n",
              "\n",
              "    [theme=dark] .colab-df-convert {\n",
              "      background-color: #3B4455;\n",
              "      fill: #D2E3FC;\n",
              "    }\n",
              "\n",
              "    [theme=dark] .colab-df-convert:hover {\n",
              "      background-color: #434B5C;\n",
              "      box-shadow: 0px 1px 3px 1px rgba(0, 0, 0, 0.15);\n",
              "      filter: drop-shadow(0px 1px 2px rgba(0, 0, 0, 0.3));\n",
              "      fill: #FFFFFF;\n",
              "    }\n",
              "  </style>\n",
              "\n",
              "    <script>\n",
              "      const buttonEl =\n",
              "        document.querySelector('#df-73950ed4-ebca-47e9-822a-8056fdd9b998 button.colab-df-convert');\n",
              "      buttonEl.style.display =\n",
              "        google.colab.kernel.accessAllowed ? 'block' : 'none';\n",
              "\n",
              "      async function convertToInteractive(key) {\n",
              "        const element = document.querySelector('#df-73950ed4-ebca-47e9-822a-8056fdd9b998');\n",
              "        const dataTable =\n",
              "          await google.colab.kernel.invokeFunction('convertToInteractive',\n",
              "                                                    [key], {});\n",
              "        if (!dataTable) return;\n",
              "\n",
              "        const docLinkHtml = 'Like what you see? Visit the ' +\n",
              "          '<a target=\"_blank\" href=https://colab.research.google.com/notebooks/data_table.ipynb>data table notebook</a>'\n",
              "          + ' to learn more about interactive tables.';\n",
              "        element.innerHTML = '';\n",
              "        dataTable['output_type'] = 'display_data';\n",
              "        await google.colab.output.renderOutput(dataTable, element);\n",
              "        const docLink = document.createElement('div');\n",
              "        docLink.innerHTML = docLinkHtml;\n",
              "        element.appendChild(docLink);\n",
              "      }\n",
              "    </script>\n",
              "  </div>\n",
              "\n",
              "\n",
              "<div id=\"df-f299154d-e7f8-47d9-985b-82c7ed87c6c8\">\n",
              "  <button class=\"colab-df-quickchart\" onclick=\"quickchart('df-f299154d-e7f8-47d9-985b-82c7ed87c6c8')\"\n",
              "            title=\"Suggest charts\"\n",
              "            style=\"display:none;\">\n",
              "\n",
              "<svg xmlns=\"http://www.w3.org/2000/svg\" height=\"24px\"viewBox=\"0 0 24 24\"\n",
              "     width=\"24px\">\n",
              "    <g>\n",
              "        <path d=\"M19 3H5c-1.1 0-2 .9-2 2v14c0 1.1.9 2 2 2h14c1.1 0 2-.9 2-2V5c0-1.1-.9-2-2-2zM9 17H7v-7h2v7zm4 0h-2V7h2v10zm4 0h-2v-4h2v4z\"/>\n",
              "    </g>\n",
              "</svg>\n",
              "  </button>\n",
              "\n",
              "<style>\n",
              "  .colab-df-quickchart {\n",
              "      --bg-color: #E8F0FE;\n",
              "      --fill-color: #1967D2;\n",
              "      --hover-bg-color: #E2EBFA;\n",
              "      --hover-fill-color: #174EA6;\n",
              "      --disabled-fill-color: #AAA;\n",
              "      --disabled-bg-color: #DDD;\n",
              "  }\n",
              "\n",
              "  [theme=dark] .colab-df-quickchart {\n",
              "      --bg-color: #3B4455;\n",
              "      --fill-color: #D2E3FC;\n",
              "      --hover-bg-color: #434B5C;\n",
              "      --hover-fill-color: #FFFFFF;\n",
              "      --disabled-bg-color: #3B4455;\n",
              "      --disabled-fill-color: #666;\n",
              "  }\n",
              "\n",
              "  .colab-df-quickchart {\n",
              "    background-color: var(--bg-color);\n",
              "    border: none;\n",
              "    border-radius: 50%;\n",
              "    cursor: pointer;\n",
              "    display: none;\n",
              "    fill: var(--fill-color);\n",
              "    height: 32px;\n",
              "    padding: 0;\n",
              "    width: 32px;\n",
              "  }\n",
              "\n",
              "  .colab-df-quickchart:hover {\n",
              "    background-color: var(--hover-bg-color);\n",
              "    box-shadow: 0 1px 2px rgba(60, 64, 67, 0.3), 0 1px 3px 1px rgba(60, 64, 67, 0.15);\n",
              "    fill: var(--button-hover-fill-color);\n",
              "  }\n",
              "\n",
              "  .colab-df-quickchart-complete:disabled,\n",
              "  .colab-df-quickchart-complete:disabled:hover {\n",
              "    background-color: var(--disabled-bg-color);\n",
              "    fill: var(--disabled-fill-color);\n",
              "    box-shadow: none;\n",
              "  }\n",
              "\n",
              "  .colab-df-spinner {\n",
              "    border: 2px solid var(--fill-color);\n",
              "    border-color: transparent;\n",
              "    border-bottom-color: var(--fill-color);\n",
              "    animation:\n",
              "      spin 1s steps(1) infinite;\n",
              "  }\n",
              "\n",
              "  @keyframes spin {\n",
              "    0% {\n",
              "      border-color: transparent;\n",
              "      border-bottom-color: var(--fill-color);\n",
              "      border-left-color: var(--fill-color);\n",
              "    }\n",
              "    20% {\n",
              "      border-color: transparent;\n",
              "      border-left-color: var(--fill-color);\n",
              "      border-top-color: var(--fill-color);\n",
              "    }\n",
              "    30% {\n",
              "      border-color: transparent;\n",
              "      border-left-color: var(--fill-color);\n",
              "      border-top-color: var(--fill-color);\n",
              "      border-right-color: var(--fill-color);\n",
              "    }\n",
              "    40% {\n",
              "      border-color: transparent;\n",
              "      border-right-color: var(--fill-color);\n",
              "      border-top-color: var(--fill-color);\n",
              "    }\n",
              "    60% {\n",
              "      border-color: transparent;\n",
              "      border-right-color: var(--fill-color);\n",
              "    }\n",
              "    80% {\n",
              "      border-color: transparent;\n",
              "      border-right-color: var(--fill-color);\n",
              "      border-bottom-color: var(--fill-color);\n",
              "    }\n",
              "    90% {\n",
              "      border-color: transparent;\n",
              "      border-bottom-color: var(--fill-color);\n",
              "    }\n",
              "  }\n",
              "</style>\n",
              "\n",
              "  <script>\n",
              "    async function quickchart(key) {\n",
              "      const quickchartButtonEl =\n",
              "        document.querySelector('#' + key + ' button');\n",
              "      quickchartButtonEl.disabled = true;  // To prevent multiple clicks.\n",
              "      quickchartButtonEl.classList.add('colab-df-spinner');\n",
              "      try {\n",
              "        const charts = await google.colab.kernel.invokeFunction(\n",
              "            'suggestCharts', [key], {});\n",
              "      } catch (error) {\n",
              "        console.error('Error during call to suggestCharts:', error);\n",
              "      }\n",
              "      quickchartButtonEl.classList.remove('colab-df-spinner');\n",
              "      quickchartButtonEl.classList.add('colab-df-quickchart-complete');\n",
              "    }\n",
              "    (() => {\n",
              "      let quickchartButtonEl =\n",
              "        document.querySelector('#df-f299154d-e7f8-47d9-985b-82c7ed87c6c8 button');\n",
              "      quickchartButtonEl.style.display =\n",
              "        google.colab.kernel.accessAllowed ? 'block' : 'none';\n",
              "    })();\n",
              "  </script>\n",
              "</div>\n",
              "\n",
              "    </div>\n",
              "  </div>\n"
            ],
            "application/vnd.google.colaboratory.intrinsic+json": {
              "type": "dataframe",
              "variable_name": "df1",
              "summary": "{\n  \"name\": \"df1\",\n  \"rows\": 11991,\n  \"fields\": [\n    {\n      \"column\": \"satisfaction_level\",\n      \"properties\": {\n        \"dtype\": \"number\",\n        \"std\": 0.24107000117011218,\n        \"min\": 0.09,\n        \"max\": 1.0,\n        \"num_unique_values\": 92,\n        \"samples\": [\n          0.83,\n          0.13,\n          0.55\n        ],\n        \"semantic_type\": \"\",\n        \"description\": \"\"\n      }\n    },\n    {\n      \"column\": \"last_evaluation\",\n      \"properties\": {\n        \"dtype\": \"number\",\n        \"std\": 0.16834256307406967,\n        \"min\": 0.36,\n        \"max\": 1.0,\n        \"num_unique_values\": 65,\n        \"samples\": [\n          0.66,\n          0.44,\n          0.53\n        ],\n        \"semantic_type\": \"\",\n        \"description\": \"\"\n      }\n    },\n    {\n      \"column\": \"number_project\",\n      \"properties\": {\n        \"dtype\": \"number\",\n        \"std\": 1,\n        \"min\": 2,\n        \"max\": 7,\n        \"num_unique_values\": 6,\n        \"samples\": [\n          2,\n          5,\n          3\n        ],\n        \"semantic_type\": \"\",\n        \"description\": \"\"\n      }\n    },\n    {\n      \"column\": \"average_montly_hours\",\n      \"properties\": {\n        \"dtype\": \"number\",\n        \"std\": 48,\n        \"min\": 96,\n        \"max\": 310,\n        \"num_unique_values\": 215,\n        \"samples\": [\n          118,\n          112,\n          222\n        ],\n        \"semantic_type\": \"\",\n        \"description\": \"\"\n      }\n    },\n    {\n      \"column\": \"time_spend_company\",\n      \"properties\": {\n        \"dtype\": \"number\",\n        \"std\": 1,\n        \"min\": 2,\n        \"max\": 10,\n        \"num_unique_values\": 8,\n        \"samples\": [\n          6,\n          8,\n          3\n        ],\n        \"semantic_type\": \"\",\n        \"description\": \"\"\n      }\n    },\n    {\n      \"column\": \"Work_accident\",\n      \"properties\": {\n        \"dtype\": \"number\",\n        \"std\": 0,\n        \"min\": 0,\n        \"max\": 1,\n        \"num_unique_values\": 2,\n        \"samples\": [\n          1,\n          0\n        ],\n        \"semantic_type\": \"\",\n        \"description\": \"\"\n      }\n    },\n    {\n      \"column\": \"left\",\n      \"properties\": {\n        \"dtype\": \"number\",\n        \"std\": 0,\n        \"min\": 0,\n        \"max\": 1,\n        \"num_unique_values\": 2,\n        \"samples\": [\n          0,\n          1\n        ],\n        \"semantic_type\": \"\",\n        \"description\": \"\"\n      }\n    },\n    {\n      \"column\": \"promotion_last_5years\",\n      \"properties\": {\n        \"dtype\": \"number\",\n        \"std\": 0,\n        \"min\": 0,\n        \"max\": 1,\n        \"num_unique_values\": 2,\n        \"samples\": [\n          1,\n          0\n        ],\n        \"semantic_type\": \"\",\n        \"description\": \"\"\n      }\n    },\n    {\n      \"column\": \"Department\",\n      \"properties\": {\n        \"dtype\": \"number\",\n        \"std\": 2,\n        \"min\": 0,\n        \"max\": 9,\n        \"num_unique_values\": 10,\n        \"samples\": [\n          5,\n          2\n        ],\n        \"semantic_type\": \"\",\n        \"description\": \"\"\n      }\n    },\n    {\n      \"column\": \"salary\",\n      \"properties\": {\n        \"dtype\": \"number\",\n        \"std\": 0,\n        \"min\": 0,\n        \"max\": 2,\n        \"num_unique_values\": 3,\n        \"samples\": [\n          1,\n          2\n        ],\n        \"semantic_type\": \"\",\n        \"description\": \"\"\n      }\n    }\n  ]\n}"
            }
          },
          "metadata": {},
          "execution_count": 34
        }
      ]
    },
    {
      "cell_type": "code",
      "source": [
        "#we have to separate in the form of x and y, where y is target column i.e. 'left'"
      ],
      "metadata": {
        "id": "s68PkRRJiI83"
      },
      "execution_count": 35,
      "outputs": []
    },
    {
      "cell_type": "code",
      "source": [
        "x=df1.drop('left',axis='columns')\n",
        "y=df1['left']"
      ],
      "metadata": {
        "id": "LYTVZDaDibfx"
      },
      "execution_count": 36,
      "outputs": []
    },
    {
      "cell_type": "code",
      "source": [
        "x"
      ],
      "metadata": {
        "colab": {
          "base_uri": "https://localhost:8080/",
          "height": 423
        },
        "id": "b6_JmSudimTJ",
        "outputId": "e4a8aa56-dc81-4358-f426-338f140dfbb1"
      },
      "execution_count": 37,
      "outputs": [
        {
          "output_type": "execute_result",
          "data": {
            "text/plain": [
              "       satisfaction_level  last_evaluation  number_project  \\\n",
              "0                    0.38             0.53               2   \n",
              "1                    0.80             0.86               5   \n",
              "2                    0.11             0.88               7   \n",
              "3                    0.72             0.87               5   \n",
              "4                    0.37             0.52               2   \n",
              "...                   ...              ...             ...   \n",
              "11995                0.90             0.55               3   \n",
              "11996                0.74             0.95               5   \n",
              "11997                0.85             0.54               3   \n",
              "11998                0.33             0.65               3   \n",
              "11999                0.50             0.73               4   \n",
              "\n",
              "       average_montly_hours  time_spend_company  Work_accident  \\\n",
              "0                       157                   3              0   \n",
              "1                       262                   6              0   \n",
              "2                       272                   4              0   \n",
              "3                       223                   5              0   \n",
              "4                       159                   3              0   \n",
              "...                     ...                 ...            ...   \n",
              "11995                   259                  10              1   \n",
              "11996                   266                  10              0   \n",
              "11997                   185                  10              0   \n",
              "11998                   172                  10              0   \n",
              "11999                   180                   3              0   \n",
              "\n",
              "       promotion_last_5years  Department  salary  \n",
              "0                          0           7       1  \n",
              "1                          0           7       2  \n",
              "2                          0           7       2  \n",
              "3                          0           7       1  \n",
              "4                          0           7       1  \n",
              "...                      ...         ...     ...  \n",
              "11995                      1           4       0  \n",
              "11996                      1           4       0  \n",
              "11997                      1           4       0  \n",
              "11998                      1           5       0  \n",
              "11999                      0           0       1  \n",
              "\n",
              "[11991 rows x 9 columns]"
            ],
            "text/html": [
              "\n",
              "  <div id=\"df-549e6fb9-e3a4-4246-8c3c-0d0448e5297b\" class=\"colab-df-container\">\n",
              "    <div>\n",
              "<style scoped>\n",
              "    .dataframe tbody tr th:only-of-type {\n",
              "        vertical-align: middle;\n",
              "    }\n",
              "\n",
              "    .dataframe tbody tr th {\n",
              "        vertical-align: top;\n",
              "    }\n",
              "\n",
              "    .dataframe thead th {\n",
              "        text-align: right;\n",
              "    }\n",
              "</style>\n",
              "<table border=\"1\" class=\"dataframe\">\n",
              "  <thead>\n",
              "    <tr style=\"text-align: right;\">\n",
              "      <th></th>\n",
              "      <th>satisfaction_level</th>\n",
              "      <th>last_evaluation</th>\n",
              "      <th>number_project</th>\n",
              "      <th>average_montly_hours</th>\n",
              "      <th>time_spend_company</th>\n",
              "      <th>Work_accident</th>\n",
              "      <th>promotion_last_5years</th>\n",
              "      <th>Department</th>\n",
              "      <th>salary</th>\n",
              "    </tr>\n",
              "  </thead>\n",
              "  <tbody>\n",
              "    <tr>\n",
              "      <th>0</th>\n",
              "      <td>0.38</td>\n",
              "      <td>0.53</td>\n",
              "      <td>2</td>\n",
              "      <td>157</td>\n",
              "      <td>3</td>\n",
              "      <td>0</td>\n",
              "      <td>0</td>\n",
              "      <td>7</td>\n",
              "      <td>1</td>\n",
              "    </tr>\n",
              "    <tr>\n",
              "      <th>1</th>\n",
              "      <td>0.80</td>\n",
              "      <td>0.86</td>\n",
              "      <td>5</td>\n",
              "      <td>262</td>\n",
              "      <td>6</td>\n",
              "      <td>0</td>\n",
              "      <td>0</td>\n",
              "      <td>7</td>\n",
              "      <td>2</td>\n",
              "    </tr>\n",
              "    <tr>\n",
              "      <th>2</th>\n",
              "      <td>0.11</td>\n",
              "      <td>0.88</td>\n",
              "      <td>7</td>\n",
              "      <td>272</td>\n",
              "      <td>4</td>\n",
              "      <td>0</td>\n",
              "      <td>0</td>\n",
              "      <td>7</td>\n",
              "      <td>2</td>\n",
              "    </tr>\n",
              "    <tr>\n",
              "      <th>3</th>\n",
              "      <td>0.72</td>\n",
              "      <td>0.87</td>\n",
              "      <td>5</td>\n",
              "      <td>223</td>\n",
              "      <td>5</td>\n",
              "      <td>0</td>\n",
              "      <td>0</td>\n",
              "      <td>7</td>\n",
              "      <td>1</td>\n",
              "    </tr>\n",
              "    <tr>\n",
              "      <th>4</th>\n",
              "      <td>0.37</td>\n",
              "      <td>0.52</td>\n",
              "      <td>2</td>\n",
              "      <td>159</td>\n",
              "      <td>3</td>\n",
              "      <td>0</td>\n",
              "      <td>0</td>\n",
              "      <td>7</td>\n",
              "      <td>1</td>\n",
              "    </tr>\n",
              "    <tr>\n",
              "      <th>...</th>\n",
              "      <td>...</td>\n",
              "      <td>...</td>\n",
              "      <td>...</td>\n",
              "      <td>...</td>\n",
              "      <td>...</td>\n",
              "      <td>...</td>\n",
              "      <td>...</td>\n",
              "      <td>...</td>\n",
              "      <td>...</td>\n",
              "    </tr>\n",
              "    <tr>\n",
              "      <th>11995</th>\n",
              "      <td>0.90</td>\n",
              "      <td>0.55</td>\n",
              "      <td>3</td>\n",
              "      <td>259</td>\n",
              "      <td>10</td>\n",
              "      <td>1</td>\n",
              "      <td>1</td>\n",
              "      <td>4</td>\n",
              "      <td>0</td>\n",
              "    </tr>\n",
              "    <tr>\n",
              "      <th>11996</th>\n",
              "      <td>0.74</td>\n",
              "      <td>0.95</td>\n",
              "      <td>5</td>\n",
              "      <td>266</td>\n",
              "      <td>10</td>\n",
              "      <td>0</td>\n",
              "      <td>1</td>\n",
              "      <td>4</td>\n",
              "      <td>0</td>\n",
              "    </tr>\n",
              "    <tr>\n",
              "      <th>11997</th>\n",
              "      <td>0.85</td>\n",
              "      <td>0.54</td>\n",
              "      <td>3</td>\n",
              "      <td>185</td>\n",
              "      <td>10</td>\n",
              "      <td>0</td>\n",
              "      <td>1</td>\n",
              "      <td>4</td>\n",
              "      <td>0</td>\n",
              "    </tr>\n",
              "    <tr>\n",
              "      <th>11998</th>\n",
              "      <td>0.33</td>\n",
              "      <td>0.65</td>\n",
              "      <td>3</td>\n",
              "      <td>172</td>\n",
              "      <td>10</td>\n",
              "      <td>0</td>\n",
              "      <td>1</td>\n",
              "      <td>5</td>\n",
              "      <td>0</td>\n",
              "    </tr>\n",
              "    <tr>\n",
              "      <th>11999</th>\n",
              "      <td>0.50</td>\n",
              "      <td>0.73</td>\n",
              "      <td>4</td>\n",
              "      <td>180</td>\n",
              "      <td>3</td>\n",
              "      <td>0</td>\n",
              "      <td>0</td>\n",
              "      <td>0</td>\n",
              "      <td>1</td>\n",
              "    </tr>\n",
              "  </tbody>\n",
              "</table>\n",
              "<p>11991 rows × 9 columns</p>\n",
              "</div>\n",
              "    <div class=\"colab-df-buttons\">\n",
              "\n",
              "  <div class=\"colab-df-container\">\n",
              "    <button class=\"colab-df-convert\" onclick=\"convertToInteractive('df-549e6fb9-e3a4-4246-8c3c-0d0448e5297b')\"\n",
              "            title=\"Convert this dataframe to an interactive table.\"\n",
              "            style=\"display:none;\">\n",
              "\n",
              "  <svg xmlns=\"http://www.w3.org/2000/svg\" height=\"24px\" viewBox=\"0 -960 960 960\">\n",
              "    <path d=\"M120-120v-720h720v720H120Zm60-500h600v-160H180v160Zm220 220h160v-160H400v160Zm0 220h160v-160H400v160ZM180-400h160v-160H180v160Zm440 0h160v-160H620v160ZM180-180h160v-160H180v160Zm440 0h160v-160H620v160Z\"/>\n",
              "  </svg>\n",
              "    </button>\n",
              "\n",
              "  <style>\n",
              "    .colab-df-container {\n",
              "      display:flex;\n",
              "      gap: 12px;\n",
              "    }\n",
              "\n",
              "    .colab-df-convert {\n",
              "      background-color: #E8F0FE;\n",
              "      border: none;\n",
              "      border-radius: 50%;\n",
              "      cursor: pointer;\n",
              "      display: none;\n",
              "      fill: #1967D2;\n",
              "      height: 32px;\n",
              "      padding: 0 0 0 0;\n",
              "      width: 32px;\n",
              "    }\n",
              "\n",
              "    .colab-df-convert:hover {\n",
              "      background-color: #E2EBFA;\n",
              "      box-shadow: 0px 1px 2px rgba(60, 64, 67, 0.3), 0px 1px 3px 1px rgba(60, 64, 67, 0.15);\n",
              "      fill: #174EA6;\n",
              "    }\n",
              "\n",
              "    .colab-df-buttons div {\n",
              "      margin-bottom: 4px;\n",
              "    }\n",
              "\n",
              "    [theme=dark] .colab-df-convert {\n",
              "      background-color: #3B4455;\n",
              "      fill: #D2E3FC;\n",
              "    }\n",
              "\n",
              "    [theme=dark] .colab-df-convert:hover {\n",
              "      background-color: #434B5C;\n",
              "      box-shadow: 0px 1px 3px 1px rgba(0, 0, 0, 0.15);\n",
              "      filter: drop-shadow(0px 1px 2px rgba(0, 0, 0, 0.3));\n",
              "      fill: #FFFFFF;\n",
              "    }\n",
              "  </style>\n",
              "\n",
              "    <script>\n",
              "      const buttonEl =\n",
              "        document.querySelector('#df-549e6fb9-e3a4-4246-8c3c-0d0448e5297b button.colab-df-convert');\n",
              "      buttonEl.style.display =\n",
              "        google.colab.kernel.accessAllowed ? 'block' : 'none';\n",
              "\n",
              "      async function convertToInteractive(key) {\n",
              "        const element = document.querySelector('#df-549e6fb9-e3a4-4246-8c3c-0d0448e5297b');\n",
              "        const dataTable =\n",
              "          await google.colab.kernel.invokeFunction('convertToInteractive',\n",
              "                                                    [key], {});\n",
              "        if (!dataTable) return;\n",
              "\n",
              "        const docLinkHtml = 'Like what you see? Visit the ' +\n",
              "          '<a target=\"_blank\" href=https://colab.research.google.com/notebooks/data_table.ipynb>data table notebook</a>'\n",
              "          + ' to learn more about interactive tables.';\n",
              "        element.innerHTML = '';\n",
              "        dataTable['output_type'] = 'display_data';\n",
              "        await google.colab.output.renderOutput(dataTable, element);\n",
              "        const docLink = document.createElement('div');\n",
              "        docLink.innerHTML = docLinkHtml;\n",
              "        element.appendChild(docLink);\n",
              "      }\n",
              "    </script>\n",
              "  </div>\n",
              "\n",
              "\n",
              "<div id=\"df-cced1cd1-161c-4093-bfd1-b2dd980ab095\">\n",
              "  <button class=\"colab-df-quickchart\" onclick=\"quickchart('df-cced1cd1-161c-4093-bfd1-b2dd980ab095')\"\n",
              "            title=\"Suggest charts\"\n",
              "            style=\"display:none;\">\n",
              "\n",
              "<svg xmlns=\"http://www.w3.org/2000/svg\" height=\"24px\"viewBox=\"0 0 24 24\"\n",
              "     width=\"24px\">\n",
              "    <g>\n",
              "        <path d=\"M19 3H5c-1.1 0-2 .9-2 2v14c0 1.1.9 2 2 2h14c1.1 0 2-.9 2-2V5c0-1.1-.9-2-2-2zM9 17H7v-7h2v7zm4 0h-2V7h2v10zm4 0h-2v-4h2v4z\"/>\n",
              "    </g>\n",
              "</svg>\n",
              "  </button>\n",
              "\n",
              "<style>\n",
              "  .colab-df-quickchart {\n",
              "      --bg-color: #E8F0FE;\n",
              "      --fill-color: #1967D2;\n",
              "      --hover-bg-color: #E2EBFA;\n",
              "      --hover-fill-color: #174EA6;\n",
              "      --disabled-fill-color: #AAA;\n",
              "      --disabled-bg-color: #DDD;\n",
              "  }\n",
              "\n",
              "  [theme=dark] .colab-df-quickchart {\n",
              "      --bg-color: #3B4455;\n",
              "      --fill-color: #D2E3FC;\n",
              "      --hover-bg-color: #434B5C;\n",
              "      --hover-fill-color: #FFFFFF;\n",
              "      --disabled-bg-color: #3B4455;\n",
              "      --disabled-fill-color: #666;\n",
              "  }\n",
              "\n",
              "  .colab-df-quickchart {\n",
              "    background-color: var(--bg-color);\n",
              "    border: none;\n",
              "    border-radius: 50%;\n",
              "    cursor: pointer;\n",
              "    display: none;\n",
              "    fill: var(--fill-color);\n",
              "    height: 32px;\n",
              "    padding: 0;\n",
              "    width: 32px;\n",
              "  }\n",
              "\n",
              "  .colab-df-quickchart:hover {\n",
              "    background-color: var(--hover-bg-color);\n",
              "    box-shadow: 0 1px 2px rgba(60, 64, 67, 0.3), 0 1px 3px 1px rgba(60, 64, 67, 0.15);\n",
              "    fill: var(--button-hover-fill-color);\n",
              "  }\n",
              "\n",
              "  .colab-df-quickchart-complete:disabled,\n",
              "  .colab-df-quickchart-complete:disabled:hover {\n",
              "    background-color: var(--disabled-bg-color);\n",
              "    fill: var(--disabled-fill-color);\n",
              "    box-shadow: none;\n",
              "  }\n",
              "\n",
              "  .colab-df-spinner {\n",
              "    border: 2px solid var(--fill-color);\n",
              "    border-color: transparent;\n",
              "    border-bottom-color: var(--fill-color);\n",
              "    animation:\n",
              "      spin 1s steps(1) infinite;\n",
              "  }\n",
              "\n",
              "  @keyframes spin {\n",
              "    0% {\n",
              "      border-color: transparent;\n",
              "      border-bottom-color: var(--fill-color);\n",
              "      border-left-color: var(--fill-color);\n",
              "    }\n",
              "    20% {\n",
              "      border-color: transparent;\n",
              "      border-left-color: var(--fill-color);\n",
              "      border-top-color: var(--fill-color);\n",
              "    }\n",
              "    30% {\n",
              "      border-color: transparent;\n",
              "      border-left-color: var(--fill-color);\n",
              "      border-top-color: var(--fill-color);\n",
              "      border-right-color: var(--fill-color);\n",
              "    }\n",
              "    40% {\n",
              "      border-color: transparent;\n",
              "      border-right-color: var(--fill-color);\n",
              "      border-top-color: var(--fill-color);\n",
              "    }\n",
              "    60% {\n",
              "      border-color: transparent;\n",
              "      border-right-color: var(--fill-color);\n",
              "    }\n",
              "    80% {\n",
              "      border-color: transparent;\n",
              "      border-right-color: var(--fill-color);\n",
              "      border-bottom-color: var(--fill-color);\n",
              "    }\n",
              "    90% {\n",
              "      border-color: transparent;\n",
              "      border-bottom-color: var(--fill-color);\n",
              "    }\n",
              "  }\n",
              "</style>\n",
              "\n",
              "  <script>\n",
              "    async function quickchart(key) {\n",
              "      const quickchartButtonEl =\n",
              "        document.querySelector('#' + key + ' button');\n",
              "      quickchartButtonEl.disabled = true;  // To prevent multiple clicks.\n",
              "      quickchartButtonEl.classList.add('colab-df-spinner');\n",
              "      try {\n",
              "        const charts = await google.colab.kernel.invokeFunction(\n",
              "            'suggestCharts', [key], {});\n",
              "      } catch (error) {\n",
              "        console.error('Error during call to suggestCharts:', error);\n",
              "      }\n",
              "      quickchartButtonEl.classList.remove('colab-df-spinner');\n",
              "      quickchartButtonEl.classList.add('colab-df-quickchart-complete');\n",
              "    }\n",
              "    (() => {\n",
              "      let quickchartButtonEl =\n",
              "        document.querySelector('#df-cced1cd1-161c-4093-bfd1-b2dd980ab095 button');\n",
              "      quickchartButtonEl.style.display =\n",
              "        google.colab.kernel.accessAllowed ? 'block' : 'none';\n",
              "    })();\n",
              "  </script>\n",
              "</div>\n",
              "\n",
              "  <div id=\"id_8536b90c-cc03-47f7-bd78-a7e25908c8b3\">\n",
              "    <style>\n",
              "      .colab-df-generate {\n",
              "        background-color: #E8F0FE;\n",
              "        border: none;\n",
              "        border-radius: 50%;\n",
              "        cursor: pointer;\n",
              "        display: none;\n",
              "        fill: #1967D2;\n",
              "        height: 32px;\n",
              "        padding: 0 0 0 0;\n",
              "        width: 32px;\n",
              "      }\n",
              "\n",
              "      .colab-df-generate:hover {\n",
              "        background-color: #E2EBFA;\n",
              "        box-shadow: 0px 1px 2px rgba(60, 64, 67, 0.3), 0px 1px 3px 1px rgba(60, 64, 67, 0.15);\n",
              "        fill: #174EA6;\n",
              "      }\n",
              "\n",
              "      [theme=dark] .colab-df-generate {\n",
              "        background-color: #3B4455;\n",
              "        fill: #D2E3FC;\n",
              "      }\n",
              "\n",
              "      [theme=dark] .colab-df-generate:hover {\n",
              "        background-color: #434B5C;\n",
              "        box-shadow: 0px 1px 3px 1px rgba(0, 0, 0, 0.15);\n",
              "        filter: drop-shadow(0px 1px 2px rgba(0, 0, 0, 0.3));\n",
              "        fill: #FFFFFF;\n",
              "      }\n",
              "    </style>\n",
              "    <button class=\"colab-df-generate\" onclick=\"generateWithVariable('x')\"\n",
              "            title=\"Generate code using this dataframe.\"\n",
              "            style=\"display:none;\">\n",
              "\n",
              "  <svg xmlns=\"http://www.w3.org/2000/svg\" height=\"24px\"viewBox=\"0 0 24 24\"\n",
              "       width=\"24px\">\n",
              "    <path d=\"M7,19H8.4L18.45,9,17,7.55,7,17.6ZM5,21V16.75L18.45,3.32a2,2,0,0,1,2.83,0l1.4,1.43a1.91,1.91,0,0,1,.58,1.4,1.91,1.91,0,0,1-.58,1.4L9.25,21ZM18.45,9,17,7.55Zm-12,3A5.31,5.31,0,0,0,4.9,8.1,5.31,5.31,0,0,0,1,6.5,5.31,5.31,0,0,0,4.9,4.9,5.31,5.31,0,0,0,6.5,1,5.31,5.31,0,0,0,8.1,4.9,5.31,5.31,0,0,0,12,6.5,5.46,5.46,0,0,0,6.5,12Z\"/>\n",
              "  </svg>\n",
              "    </button>\n",
              "    <script>\n",
              "      (() => {\n",
              "      const buttonEl =\n",
              "        document.querySelector('#id_8536b90c-cc03-47f7-bd78-a7e25908c8b3 button.colab-df-generate');\n",
              "      buttonEl.style.display =\n",
              "        google.colab.kernel.accessAllowed ? 'block' : 'none';\n",
              "\n",
              "      buttonEl.onclick = () => {\n",
              "        google.colab.notebook.generateWithVariable('x');\n",
              "      }\n",
              "      })();\n",
              "    </script>\n",
              "  </div>\n",
              "\n",
              "    </div>\n",
              "  </div>\n"
            ],
            "application/vnd.google.colaboratory.intrinsic+json": {
              "type": "dataframe",
              "variable_name": "x",
              "summary": "{\n  \"name\": \"x\",\n  \"rows\": 11991,\n  \"fields\": [\n    {\n      \"column\": \"satisfaction_level\",\n      \"properties\": {\n        \"dtype\": \"number\",\n        \"std\": 0.24107000117011218,\n        \"min\": 0.09,\n        \"max\": 1.0,\n        \"num_unique_values\": 92,\n        \"samples\": [\n          0.83,\n          0.13,\n          0.55\n        ],\n        \"semantic_type\": \"\",\n        \"description\": \"\"\n      }\n    },\n    {\n      \"column\": \"last_evaluation\",\n      \"properties\": {\n        \"dtype\": \"number\",\n        \"std\": 0.16834256307406967,\n        \"min\": 0.36,\n        \"max\": 1.0,\n        \"num_unique_values\": 65,\n        \"samples\": [\n          0.66,\n          0.44,\n          0.53\n        ],\n        \"semantic_type\": \"\",\n        \"description\": \"\"\n      }\n    },\n    {\n      \"column\": \"number_project\",\n      \"properties\": {\n        \"dtype\": \"number\",\n        \"std\": 1,\n        \"min\": 2,\n        \"max\": 7,\n        \"num_unique_values\": 6,\n        \"samples\": [\n          2,\n          5,\n          3\n        ],\n        \"semantic_type\": \"\",\n        \"description\": \"\"\n      }\n    },\n    {\n      \"column\": \"average_montly_hours\",\n      \"properties\": {\n        \"dtype\": \"number\",\n        \"std\": 48,\n        \"min\": 96,\n        \"max\": 310,\n        \"num_unique_values\": 215,\n        \"samples\": [\n          118,\n          112,\n          222\n        ],\n        \"semantic_type\": \"\",\n        \"description\": \"\"\n      }\n    },\n    {\n      \"column\": \"time_spend_company\",\n      \"properties\": {\n        \"dtype\": \"number\",\n        \"std\": 1,\n        \"min\": 2,\n        \"max\": 10,\n        \"num_unique_values\": 8,\n        \"samples\": [\n          6,\n          8,\n          3\n        ],\n        \"semantic_type\": \"\",\n        \"description\": \"\"\n      }\n    },\n    {\n      \"column\": \"Work_accident\",\n      \"properties\": {\n        \"dtype\": \"number\",\n        \"std\": 0,\n        \"min\": 0,\n        \"max\": 1,\n        \"num_unique_values\": 2,\n        \"samples\": [\n          1,\n          0\n        ],\n        \"semantic_type\": \"\",\n        \"description\": \"\"\n      }\n    },\n    {\n      \"column\": \"promotion_last_5years\",\n      \"properties\": {\n        \"dtype\": \"number\",\n        \"std\": 0,\n        \"min\": 0,\n        \"max\": 1,\n        \"num_unique_values\": 2,\n        \"samples\": [\n          1,\n          0\n        ],\n        \"semantic_type\": \"\",\n        \"description\": \"\"\n      }\n    },\n    {\n      \"column\": \"Department\",\n      \"properties\": {\n        \"dtype\": \"number\",\n        \"std\": 2,\n        \"min\": 0,\n        \"max\": 9,\n        \"num_unique_values\": 10,\n        \"samples\": [\n          5,\n          2\n        ],\n        \"semantic_type\": \"\",\n        \"description\": \"\"\n      }\n    },\n    {\n      \"column\": \"salary\",\n      \"properties\": {\n        \"dtype\": \"number\",\n        \"std\": 0,\n        \"min\": 0,\n        \"max\": 2,\n        \"num_unique_values\": 3,\n        \"samples\": [\n          1,\n          2\n        ],\n        \"semantic_type\": \"\",\n        \"description\": \"\"\n      }\n    }\n  ]\n}"
            }
          },
          "metadata": {},
          "execution_count": 37
        }
      ]
    },
    {
      "cell_type": "code",
      "source": [
        "y"
      ],
      "metadata": {
        "colab": {
          "base_uri": "https://localhost:8080/"
        },
        "id": "RJ0WV6u0ioHD",
        "outputId": "b85495ba-9c95-4bb6-a8fb-3fe08122a6ba"
      },
      "execution_count": 38,
      "outputs": [
        {
          "output_type": "execute_result",
          "data": {
            "text/plain": [
              "0        1\n",
              "1        1\n",
              "2        1\n",
              "3        1\n",
              "4        1\n",
              "        ..\n",
              "11995    0\n",
              "11996    0\n",
              "11997    0\n",
              "11998    0\n",
              "11999    0\n",
              "Name: left, Length: 11991, dtype: int64"
            ]
          },
          "metadata": {},
          "execution_count": 38
        }
      ]
    },
    {
      "cell_type": "code",
      "source": [
        "from sklearn.model_selection import train_test_split\n",
        "x_train,x_test,y_train,y_test=train_test_split(x,y,test_size=0.3, random_state=42)"
      ],
      "metadata": {
        "id": "SoHp6RVIip7n"
      },
      "execution_count": 39,
      "outputs": []
    },
    {
      "cell_type": "code",
      "source": [
        "x_train.shape"
      ],
      "metadata": {
        "colab": {
          "base_uri": "https://localhost:8080/"
        },
        "id": "0dheILN2jIv6",
        "outputId": "32f59799-4f7f-49da-81a4-47adc62650f3"
      },
      "execution_count": 40,
      "outputs": [
        {
          "output_type": "execute_result",
          "data": {
            "text/plain": [
              "(8393, 9)"
            ]
          },
          "metadata": {},
          "execution_count": 40
        }
      ]
    },
    {
      "cell_type": "markdown",
      "source": [
        "***FEATURE SCALING***"
      ],
      "metadata": {
        "id": "PzVGdMhHjEo9"
      }
    },
    {
      "cell_type": "code",
      "source": [
        "from sklearn.preprocessing import StandardScaler\n",
        "sc=StandardScaler()\n",
        "x_train=sc.fit_transform(x_train)\n",
        "x_test=sc.transform(x_test)"
      ],
      "metadata": {
        "id": "BjYr-Yk5jAPi"
      },
      "execution_count": 41,
      "outputs": []
    },
    {
      "cell_type": "markdown",
      "source": [
        "# ***MODEL DEVELOPMENT USING RANDOM FOREST***"
      ],
      "metadata": {
        "id": "Ju9nzbsAjcqu"
      }
    },
    {
      "cell_type": "code",
      "source": [
        "from sklearn.ensemble import RandomForestClassifier\n",
        "rf=RandomForestClassifier()\n",
        "rf.fit(x_train,y_train)"
      ],
      "metadata": {
        "colab": {
          "base_uri": "https://localhost:8080/",
          "height": 74
        },
        "id": "w_oLjQy-jUoK",
        "outputId": "ec54ba55-83a8-4c52-ee08-7499b7983cbf"
      },
      "execution_count": 42,
      "outputs": [
        {
          "output_type": "execute_result",
          "data": {
            "text/plain": [
              "RandomForestClassifier()"
            ],
            "text/html": [
              "<style>#sk-container-id-1 {color: black;background-color: white;}#sk-container-id-1 pre{padding: 0;}#sk-container-id-1 div.sk-toggleable {background-color: white;}#sk-container-id-1 label.sk-toggleable__label {cursor: pointer;display: block;width: 100%;margin-bottom: 0;padding: 0.3em;box-sizing: border-box;text-align: center;}#sk-container-id-1 label.sk-toggleable__label-arrow:before {content: \"▸\";float: left;margin-right: 0.25em;color: #696969;}#sk-container-id-1 label.sk-toggleable__label-arrow:hover:before {color: black;}#sk-container-id-1 div.sk-estimator:hover label.sk-toggleable__label-arrow:before {color: black;}#sk-container-id-1 div.sk-toggleable__content {max-height: 0;max-width: 0;overflow: hidden;text-align: left;background-color: #f0f8ff;}#sk-container-id-1 div.sk-toggleable__content pre {margin: 0.2em;color: black;border-radius: 0.25em;background-color: #f0f8ff;}#sk-container-id-1 input.sk-toggleable__control:checked~div.sk-toggleable__content {max-height: 200px;max-width: 100%;overflow: auto;}#sk-container-id-1 input.sk-toggleable__control:checked~label.sk-toggleable__label-arrow:before {content: \"▾\";}#sk-container-id-1 div.sk-estimator input.sk-toggleable__control:checked~label.sk-toggleable__label {background-color: #d4ebff;}#sk-container-id-1 div.sk-label input.sk-toggleable__control:checked~label.sk-toggleable__label {background-color: #d4ebff;}#sk-container-id-1 input.sk-hidden--visually {border: 0;clip: rect(1px 1px 1px 1px);clip: rect(1px, 1px, 1px, 1px);height: 1px;margin: -1px;overflow: hidden;padding: 0;position: absolute;width: 1px;}#sk-container-id-1 div.sk-estimator {font-family: monospace;background-color: #f0f8ff;border: 1px dotted black;border-radius: 0.25em;box-sizing: border-box;margin-bottom: 0.5em;}#sk-container-id-1 div.sk-estimator:hover {background-color: #d4ebff;}#sk-container-id-1 div.sk-parallel-item::after {content: \"\";width: 100%;border-bottom: 1px solid gray;flex-grow: 1;}#sk-container-id-1 div.sk-label:hover label.sk-toggleable__label {background-color: #d4ebff;}#sk-container-id-1 div.sk-serial::before {content: \"\";position: absolute;border-left: 1px solid gray;box-sizing: border-box;top: 0;bottom: 0;left: 50%;z-index: 0;}#sk-container-id-1 div.sk-serial {display: flex;flex-direction: column;align-items: center;background-color: white;padding-right: 0.2em;padding-left: 0.2em;position: relative;}#sk-container-id-1 div.sk-item {position: relative;z-index: 1;}#sk-container-id-1 div.sk-parallel {display: flex;align-items: stretch;justify-content: center;background-color: white;position: relative;}#sk-container-id-1 div.sk-item::before, #sk-container-id-1 div.sk-parallel-item::before {content: \"\";position: absolute;border-left: 1px solid gray;box-sizing: border-box;top: 0;bottom: 0;left: 50%;z-index: -1;}#sk-container-id-1 div.sk-parallel-item {display: flex;flex-direction: column;z-index: 1;position: relative;background-color: white;}#sk-container-id-1 div.sk-parallel-item:first-child::after {align-self: flex-end;width: 50%;}#sk-container-id-1 div.sk-parallel-item:last-child::after {align-self: flex-start;width: 50%;}#sk-container-id-1 div.sk-parallel-item:only-child::after {width: 0;}#sk-container-id-1 div.sk-dashed-wrapped {border: 1px dashed gray;margin: 0 0.4em 0.5em 0.4em;box-sizing: border-box;padding-bottom: 0.4em;background-color: white;}#sk-container-id-1 div.sk-label label {font-family: monospace;font-weight: bold;display: inline-block;line-height: 1.2em;}#sk-container-id-1 div.sk-label-container {text-align: center;}#sk-container-id-1 div.sk-container {/* jupyter's `normalize.less` sets `[hidden] { display: none; }` but bootstrap.min.css set `[hidden] { display: none !important; }` so we also need the `!important` here to be able to override the default hidden behavior on the sphinx rendered scikit-learn.org. See: https://github.com/scikit-learn/scikit-learn/issues/21755 */display: inline-block !important;position: relative;}#sk-container-id-1 div.sk-text-repr-fallback {display: none;}</style><div id=\"sk-container-id-1\" class=\"sk-top-container\"><div class=\"sk-text-repr-fallback\"><pre>RandomForestClassifier()</pre><b>In a Jupyter environment, please rerun this cell to show the HTML representation or trust the notebook. <br />On GitHub, the HTML representation is unable to render, please try loading this page with nbviewer.org.</b></div><div class=\"sk-container\" hidden><div class=\"sk-item\"><div class=\"sk-estimator sk-toggleable\"><input class=\"sk-toggleable__control sk-hidden--visually\" id=\"sk-estimator-id-1\" type=\"checkbox\" checked><label for=\"sk-estimator-id-1\" class=\"sk-toggleable__label sk-toggleable__label-arrow\">RandomForestClassifier</label><div class=\"sk-toggleable__content\"><pre>RandomForestClassifier()</pre></div></div></div></div></div>"
            ]
          },
          "metadata": {},
          "execution_count": 42
        }
      ]
    },
    {
      "cell_type": "code",
      "source": [
        "y_pred=rf.predict(x_test)"
      ],
      "metadata": {
        "id": "jSHusl4yjwC4"
      },
      "execution_count": 43,
      "outputs": []
    },
    {
      "cell_type": "code",
      "source": [
        "from sklearn.metrics import accuracy_score,confusion_matrix,classification_report\n",
        "print(\"ACCURACY=\",accuracy_score(y_test,y_pred)*100,\"%\")\n",
        "print(\"\\n \\n \")\n",
        "cm=confusion_matrix(y_test,y_pred)\n",
        "print(\"CONFUSION MATRIX \\n\",cm)\n",
        "print(\"\\n \\n \")\n",
        "print(\"CLASSIFICATION REPORT: \\n\",classification_report(y_test,y_pred))"
      ],
      "metadata": {
        "colab": {
          "base_uri": "https://localhost:8080/"
        },
        "id": "o0XuKPdZjzBM",
        "outputId": "a1031864-0bc3-4b17-a870-9ec739922496"
      },
      "execution_count": 44,
      "outputs": [
        {
          "output_type": "stream",
          "name": "stdout",
          "text": [
            "ACCURACY= 98.33240689271817 %\n",
            "\n",
            " \n",
            " \n",
            "CONFUSION MATRIX \n",
            " [[2986    9]\n",
            " [  51  552]]\n",
            "\n",
            " \n",
            " \n",
            "CLASSIFICATION REPORT: \n",
            "               precision    recall  f1-score   support\n",
            "\n",
            "           0       0.98      1.00      0.99      2995\n",
            "           1       0.98      0.92      0.95       603\n",
            "\n",
            "    accuracy                           0.98      3598\n",
            "   macro avg       0.98      0.96      0.97      3598\n",
            "weighted avg       0.98      0.98      0.98      3598\n",
            "\n"
          ]
        }
      ]
    },
    {
      "cell_type": "markdown",
      "source": [
        "***LETS VISUALIZE THE SAME USING HEAT MAP***"
      ],
      "metadata": {
        "id": "4bNEw-9ClRU8"
      }
    },
    {
      "cell_type": "code",
      "source": [
        "sns.heatmap(cm,annot=True,fmt='d')   #fmt='d' is used for fetting complete values(no.s)"
      ],
      "metadata": {
        "colab": {
          "base_uri": "https://localhost:8080/",
          "height": 447
        },
        "id": "QSew59Ayj677",
        "outputId": "e955871d-71ab-4424-a97d-abd62ec4684e"
      },
      "execution_count": 45,
      "outputs": [
        {
          "output_type": "execute_result",
          "data": {
            "text/plain": [
              "<Axes: >"
            ]
          },
          "metadata": {},
          "execution_count": 45
        },
        {
          "output_type": "display_data",
          "data": {
            "text/plain": [
              "<Figure size 640x480 with 2 Axes>"
            ],
            "image/png": "[encoded data removed]"
          },
          "metadata": {}
        }
      ]
    },
    {
      "cell_type": "code",
      "source": [
        " from sklearn.metrics import precision_score\n",
        " precision_score(y_test,y_pred)   #already done in classification report"
      ],
      "metadata": {
        "colab": {
          "base_uri": "https://localhost:8080/"
        },
        "id": "NtfozwuOlmv4",
        "outputId": "1cacc3ca-177c-4cb6-ebfd-a1de43a96c11"
      },
      "execution_count": 46,
      "outputs": [
        {
          "output_type": "execute_result",
          "data": {
            "text/plain": [
              "0.983957219251337"
            ]
          },
          "metadata": {},
          "execution_count": 46
        }
      ]
    },
    {
      "cell_type": "markdown",
      "source": [
        "**FEATURE IMPORTANCE METRIX IN RANDOM FOREST/FEATURE EXTRACTION**"
      ],
      "metadata": {
        "id": "hfR8npdEmlXq"
      }
    },
    {
      "cell_type": "code",
      "source": [
        "score_list=rf.feature_importances_\n",
        "list_of_features=list(x.columns)\n",
        "score_df=pd.DataFrame({'features':list_of_features,'score':score_list})\n",
        "score_df.sort_values(by='score',ascending=False)"
      ],
      "metadata": {
        "colab": {
          "base_uri": "https://localhost:8080/",
          "height": 331
        },
        "id": "TkOKyPKtmMUu",
        "outputId": "e182c32a-b8a6-45e9-fffd-8731b2dc56d2"
      },
      "execution_count": 47,
      "outputs": [
        {
          "output_type": "execute_result",
          "data": {
            "text/plain": [
              "                features     score\n",
              "0     satisfaction_level  0.354132\n",
              "2         number_project  0.177653\n",
              "3   average_montly_hours  0.162293\n",
              "4     time_spend_company  0.159487\n",
              "1        last_evaluation  0.121844\n",
              "7             Department  0.012013\n",
              "8                 salary  0.007954\n",
              "5          Work_accident  0.003883\n",
              "6  promotion_last_5years  0.000740"
            ],
            "text/html": [
              "\n",
              "  <div id=\"df-10add51e-3f8b-4b40-838b-9fc9c930ede3\" class=\"colab-df-container\">\n",
              "    <div>\n",
              "<style scoped>\n",
              "    .dataframe tbody tr th:only-of-type {\n",
              "        vertical-align: middle;\n",
              "    }\n",
              "\n",
              "    .dataframe tbody tr th {\n",
              "        vertical-align: top;\n",
              "    }\n",
              "\n",
              "    .dataframe thead th {\n",
              "        text-align: right;\n",
              "    }\n",
              "</style>\n",
              "<table border=\"1\" class=\"dataframe\">\n",
              "  <thead>\n",
              "    <tr style=\"text-align: right;\">\n",
              "      <th></th>\n",
              "      <th>features</th>\n",
              "      <th>score</th>\n",
              "    </tr>\n",
              "  </thead>\n",
              "  <tbody>\n",
              "    <tr>\n",
              "      <th>0</th>\n",
              "      <td>satisfaction_level</td>\n",
              "      <td>0.354132</td>\n",
              "    </tr>\n",
              "    <tr>\n",
              "      <th>2</th>\n",
              "      <td>number_project</td>\n",
              "      <td>0.177653</td>\n",
              "    </tr>\n",
              "    <tr>\n",
              "      <th>3</th>\n",
              "      <td>average_montly_hours</td>\n",
              "      <td>0.162293</td>\n",
              "    </tr>\n",
              "    <tr>\n",
              "      <th>4</th>\n",
              "      <td>time_spend_company</td>\n",
              "      <td>0.159487</td>\n",
              "    </tr>\n",
              "    <tr>\n",
              "      <th>1</th>\n",
              "      <td>last_evaluation</td>\n",
              "      <td>0.121844</td>\n",
              "    </tr>\n",
              "    <tr>\n",
              "      <th>7</th>\n",
              "      <td>Department</td>\n",
              "      <td>0.012013</td>\n",
              "    </tr>\n",
              "    <tr>\n",
              "      <th>8</th>\n",
              "      <td>salary</td>\n",
              "      <td>0.007954</td>\n",
              "    </tr>\n",
              "    <tr>\n",
              "      <th>5</th>\n",
              "      <td>Work_accident</td>\n",
              "      <td>0.003883</td>\n",
              "    </tr>\n",
              "    <tr>\n",
              "      <th>6</th>\n",
              "      <td>promotion_last_5years</td>\n",
              "      <td>0.000740</td>\n",
              "    </tr>\n",
              "  </tbody>\n",
              "</table>\n",
              "</div>\n",
              "    <div class=\"colab-df-buttons\">\n",
              "\n",
              "  <div class=\"colab-df-container\">\n",
              "    <button class=\"colab-df-convert\" onclick=\"convertToInteractive('df-10add51e-3f8b-4b40-838b-9fc9c930ede3')\"\n",
              "            title=\"Convert this dataframe to an interactive table.\"\n",
              "            style=\"display:none;\">\n",
              "\n",
              "  <svg xmlns=\"http://www.w3.org/2000/svg\" height=\"24px\" viewBox=\"0 -960 960 960\">\n",
              "    <path d=\"M120-120v-720h720v720H120Zm60-500h600v-160H180v160Zm220 220h160v-160H400v160Zm0 220h160v-160H400v160ZM180-400h160v-160H180v160Zm440 0h160v-160H620v160ZM180-180h160v-160H180v160Zm440 0h160v-160H620v160Z\"/>\n",
              "  </svg>\n",
              "    </button>\n",
              "\n",
              "  <style>\n",
              "    .colab-df-container {\n",
              "      display:flex;\n",
              "      gap: 12px;\n",
              "    }\n",
              "\n",
              "    .colab-df-convert {\n",
              "      background-color: #E8F0FE;\n",
              "      border: none;\n",
              "      border-radius: 50%;\n",
              "      cursor: pointer;\n",
              "      display: none;\n",
              "      fill: #1967D2;\n",
              "      height: 32px;\n",
              "      padding: 0 0 0 0;\n",
              "      width: 32px;\n",
              "    }\n",
              "\n",
              "    .colab-df-convert:hover {\n",
              "      background-color: #E2EBFA;\n",
              "      box-shadow: 0px 1px 2px rgba(60, 64, 67, 0.3), 0px 1px 3px 1px rgba(60, 64, 67, 0.15);\n",
              "      fill: #174EA6;\n",
              "    }\n",
              "\n",
              "    .colab-df-buttons div {\n",
              "      margin-bottom: 4px;\n",
              "    }\n",
              "\n",
              "    [theme=dark] .colab-df-convert {\n",
              "      background-color: #3B4455;\n",
              "      fill: #D2E3FC;\n",
              "    }\n",
              "\n",
              "    [theme=dark] .colab-df-convert:hover {\n",
              "      background-color: #434B5C;\n",
              "      box-shadow: 0px 1px 3px 1px rgba(0, 0, 0, 0.15);\n",
              "      filter: drop-shadow(0px 1px 2px rgba(0, 0, 0, 0.3));\n",
              "      fill: #FFFFFF;\n",
              "    }\n",
              "  </style>\n",
              "\n",
              "    <script>\n",
              "      const buttonEl =\n",
              "        document.querySelector('#df-10add51e-3f8b-4b40-838b-9fc9c930ede3 button.colab-df-convert');\n",
              "      buttonEl.style.display =\n",
              "        google.colab.kernel.accessAllowed ? 'block' : 'none';\n",
              "\n",
              "      async function convertToInteractive(key) {\n",
              "        const element = document.querySelector('#df-10add51e-3f8b-4b40-838b-9fc9c930ede3');\n",
              "        const dataTable =\n",
              "          await google.colab.kernel.invokeFunction('convertToInteractive',\n",
              "                                                    [key], {});\n",
              "        if (!dataTable) return;\n",
              "\n",
              "        const docLinkHtml = 'Like what you see? Visit the ' +\n",
              "          '<a target=\"_blank\" href=https://colab.research.google.com/notebooks/data_table.ipynb>data table notebook</a>'\n",
              "          + ' to learn more about interactive tables.';\n",
              "        element.innerHTML = '';\n",
              "        dataTable['output_type'] = 'display_data';\n",
              "        await google.colab.output.renderOutput(dataTable, element);\n",
              "        const docLink = document.createElement('div');\n",
              "        docLink.innerHTML = docLinkHtml;\n",
              "        element.appendChild(docLink);\n",
              "      }\n",
              "    </script>\n",
              "  </div>\n",
              "\n",
              "\n",
              "<div id=\"df-476ac330-c458-437f-9401-7b81a1a174b2\">\n",
              "  <button class=\"colab-df-quickchart\" onclick=\"quickchart('df-476ac330-c458-437f-9401-7b81a1a174b2')\"\n",
              "            title=\"Suggest charts\"\n",
              "            style=\"display:none;\">\n",
              "\n",
              "<svg xmlns=\"http://www.w3.org/2000/svg\" height=\"24px\"viewBox=\"0 0 24 24\"\n",
              "     width=\"24px\">\n",
              "    <g>\n",
              "        <path d=\"M19 3H5c-1.1 0-2 .9-2 2v14c0 1.1.9 2 2 2h14c1.1 0 2-.9 2-2V5c0-1.1-.9-2-2-2zM9 17H7v-7h2v7zm4 0h-2V7h2v10zm4 0h-2v-4h2v4z\"/>\n",
              "    </g>\n",
              "</svg>\n",
              "  </button>\n",
              "\n",
              "<style>\n",
              "  .colab-df-quickchart {\n",
              "      --bg-color: #E8F0FE;\n",
              "      --fill-color: #1967D2;\n",
              "      --hover-bg-color: #E2EBFA;\n",
              "      --hover-fill-color: #174EA6;\n",
              "      --disabled-fill-color: #AAA;\n",
              "      --disabled-bg-color: #DDD;\n",
              "  }\n",
              "\n",
              "  [theme=dark] .colab-df-quickchart {\n",
              "      --bg-color: #3B4455;\n",
              "      --fill-color: #D2E3FC;\n",
              "      --hover-bg-color: #434B5C;\n",
              "      --hover-fill-color: #FFFFFF;\n",
              "      --disabled-bg-color: #3B4455;\n",
              "      --disabled-fill-color: #666;\n",
              "  }\n",
              "\n",
              "  .colab-df-quickchart {\n",
              "    background-color: var(--bg-color);\n",
              "    border: none;\n",
              "    border-radius: 50%;\n",
              "    cursor: pointer;\n",
              "    display: none;\n",
              "    fill: var(--fill-color);\n",
              "    height: 32px;\n",
              "    padding: 0;\n",
              "    width: 32px;\n",
              "  }\n",
              "\n",
              "  .colab-df-quickchart:hover {\n",
              "    background-color: var(--hover-bg-color);\n",
              "    box-shadow: 0 1px 2px rgba(60, 64, 67, 0.3), 0 1px 3px 1px rgba(60, 64, 67, 0.15);\n",
              "    fill: var(--button-hover-fill-color);\n",
              "  }\n",
              "\n",
              "  .colab-df-quickchart-complete:disabled,\n",
              "  .colab-df-quickchart-complete:disabled:hover {\n",
              "    background-color: var(--disabled-bg-color);\n",
              "    fill: var(--disabled-fill-color);\n",
              "    box-shadow: none;\n",
              "  }\n",
              "\n",
              "  .colab-df-spinner {\n",
              "    border: 2px solid var(--fill-color);\n",
              "    border-color: transparent;\n",
              "    border-bottom-color: var(--fill-color);\n",
              "    animation:\n",
              "      spin 1s steps(1) infinite;\n",
              "  }\n",
              "\n",
              "  @keyframes spin {\n",
              "    0% {\n",
              "      border-color: transparent;\n",
              "      border-bottom-color: var(--fill-color);\n",
              "      border-left-color: var(--fill-color);\n",
              "    }\n",
              "    20% {\n",
              "      border-color: transparent;\n",
              "      border-left-color: var(--fill-color);\n",
              "      border-top-color: var(--fill-color);\n",
              "    }\n",
              "    30% {\n",
              "      border-color: transparent;\n",
              "      border-left-color: var(--fill-color);\n",
              "      border-top-color: var(--fill-color);\n",
              "      border-right-color: var(--fill-color);\n",
              "    }\n",
              "    40% {\n",
              "      border-color: transparent;\n",
              "      border-right-color: var(--fill-color);\n",
              "      border-top-color: var(--fill-color);\n",
              "    }\n",
              "    60% {\n",
              "      border-color: transparent;\n",
              "      border-right-color: var(--fill-color);\n",
              "    }\n",
              "    80% {\n",
              "      border-color: transparent;\n",
              "      border-right-color: var(--fill-color);\n",
              "      border-bottom-color: var(--fill-color);\n",
              "    }\n",
              "    90% {\n",
              "      border-color: transparent;\n",
              "      border-bottom-color: var(--fill-color);\n",
              "    }\n",
              "  }\n",
              "</style>\n",
              "\n",
              "  <script>\n",
              "    async function quickchart(key) {\n",
              "      const quickchartButtonEl =\n",
              "        document.querySelector('#' + key + ' button');\n",
              "      quickchartButtonEl.disabled = true;  // To prevent multiple clicks.\n",
              "      quickchartButtonEl.classList.add('colab-df-spinner');\n",
              "      try {\n",
              "        const charts = await google.colab.kernel.invokeFunction(\n",
              "            'suggestCharts', [key], {});\n",
              "      } catch (error) {\n",
              "        console.error('Error during call to suggestCharts:', error);\n",
              "      }\n",
              "      quickchartButtonEl.classList.remove('colab-df-spinner');\n",
              "      quickchartButtonEl.classList.add('colab-df-quickchart-complete');\n",
              "    }\n",
              "    (() => {\n",
              "      let quickchartButtonEl =\n",
              "        document.querySelector('#df-476ac330-c458-437f-9401-7b81a1a174b2 button');\n",
              "      quickchartButtonEl.style.display =\n",
              "        google.colab.kernel.accessAllowed ? 'block' : 'none';\n",
              "    })();\n",
              "  </script>\n",
              "</div>\n",
              "\n",
              "    </div>\n",
              "  </div>\n"
            ],
            "application/vnd.google.colaboratory.intrinsic+json": {
              "type": "dataframe",
              "summary": "{\n  \"name\": \"score_df\",\n  \"rows\": 9,\n  \"fields\": [\n    {\n      \"column\": \"features\",\n      \"properties\": {\n        \"dtype\": \"string\",\n        \"num_unique_values\": 9,\n        \"samples\": [\n          \"Work_accident\",\n          \"number_project\",\n          \"Department\"\n        ],\n        \"semantic_type\": \"\",\n        \"description\": \"\"\n      }\n    },\n    {\n      \"column\": \"score\",\n      \"properties\": {\n        \"dtype\": \"number\",\n        \"std\": 0.11869260063227693,\n        \"min\": 0.0007397657670475347,\n        \"max\": 0.35413232058246624,\n        \"num_unique_values\": 9,\n        \"samples\": [\n          0.003883424263690707,\n          0.17765297877475467,\n          0.012013235970324583\n        ],\n        \"semantic_type\": \"\",\n        \"description\": \"\"\n      }\n    }\n  ]\n}"
            }
          },
          "metadata": {},
          "execution_count": 47
        }
      ]
    },
    {
      "cell_type": "code",
      "source": [
        "plt.figure(figsize=(15,10))\n",
        "sns.barplot(x='features',y='score',data=score_df)"
      ],
      "metadata": {
        "colab": {
          "base_uri": "https://localhost:8080/",
          "height": 867
        },
        "id": "87CNC6BunJPa",
        "outputId": "f4c050c5-dac0-45df-d1ca-d22966ad6f9c"
      },
      "execution_count": 48,
      "outputs": [
        {
          "output_type": "execute_result",
          "data": {
            "text/plain": [
              "<Axes: xlabel='features', ylabel='score'>"
            ]
          },
          "metadata": {},
          "execution_count": 48
        },
        {
          "output_type": "display_data",
          "data": {
            "text/plain": [
              "<Figure size 1500x1000 with 1 Axes>"
            ],
            "image/png": "[encoded data removed]"
          },
          "metadata": {}
        }
      ]
    },
    {
      "cell_type": "markdown",
      "source": [
        "***K FOLD CROSS VALIDATION***"
      ],
      "metadata": {
        "id": "cePS46m2nuu7"
      }
    },
    {
      "cell_type": "code",
      "source": [
        "#appying e fold cross validation"
      ],
      "metadata": {
        "id": "T2xZjXiynURY"
      },
      "execution_count": 49,
      "outputs": []
    },
    {
      "cell_type": "code",
      "source": [
        "from sklearn.model_selection import cross_val_score\n",
        "scores=cross_val_score(rf,x_train,y_train,cv=5)\n",
        "print(\"CROSS VALIDATION SCORES=\",scores)"
      ],
      "metadata": {
        "colab": {
          "base_uri": "https://localhost:8080/"
        },
        "id": "d48EbOKpn2zq",
        "outputId": "64f003f1-2769-40b7-cd33-bca8cf4ce80f"
      },
      "execution_count": 50,
      "outputs": [
        {
          "output_type": "stream",
          "name": "stdout",
          "text": [
            "CROSS VALIDATION SCORES= [0.98630137 0.983919   0.98451459 0.98510131 0.98808105]\n"
          ]
        }
      ]
    },
    {
      "cell_type": "code",
      "source": [
        "avg_model_score=scores.mean()\n",
        "print(\"AVERAGE MODEL SCORE=\",avg_model_score)"
      ],
      "metadata": {
        "colab": {
          "base_uri": "https://localhost:8080/"
        },
        "id": "dC5DFvNvoEEE",
        "outputId": "68690de7-0ceb-49b8-8bb4-52d371174403"
      },
      "execution_count": 51,
      "outputs": [
        {
          "output_type": "stream",
          "name": "stdout",
          "text": [
            "AVERAGE MODEL SCORE= 0.9855834642477609\n"
          ]
        }
      ]
    },
    {
      "cell_type": "markdown",
      "source": [
        "# **HYPER PARAMETER TUNING**"
      ],
      "metadata": {
        "id": "4cl8WO1XpHkj"
      }
    },
    {
      "cell_type": "code",
      "source": [
        "#GRID SEARCH CV/RANDOM SEARCH CV"
      ],
      "metadata": {
        "id": "xbqs6h2Dob8c"
      },
      "execution_count": 52,
      "outputs": []
    },
    {
      "cell_type": "code",
      "source": [
        "from sklearn.model_selection import GridSearchCV,RandomizedSearchCV"
      ],
      "metadata": {
        "id": "lN8UAFLhlZUa"
      },
      "execution_count": 53,
      "outputs": []
    },
    {
      "cell_type": "code",
      "source": [
        "parameters={'n_estimators':[50,100], 'max_features':['sqrt','log2',None]}"
      ],
      "metadata": {
        "id": "2tXyO4FKlogn"
      },
      "execution_count": 54,
      "outputs": []
    },
    {
      "cell_type": "code",
      "source": [
        "#SEARCH THE BEST PARAMETERS\n",
        "grid_search=GridSearchCV(estimator=rf,param_grid=parameters)\n",
        "grid_search.fit(x_train,y_train)"
      ],
      "metadata": {
        "colab": {
          "base_uri": "https://localhost:8080/",
          "height": 117
        },
        "id": "Xio7DwOVmJN_",
        "outputId": "641f51c1-30b9-4e03-fcd0-b5f6a0776717"
      },
      "execution_count": 55,
      "outputs": [
        {
          "output_type": "execute_result",
          "data": {
            "text/plain": [
              "GridSearchCV(estimator=RandomForestClassifier(),\n",
              "             param_grid={'max_features': ['sqrt', 'log2', None],\n",
              "                         'n_estimators': [50, 100]})"
            ],
            "text/html": [
              "<style>#sk-container-id-2 {color: black;background-color: white;}#sk-container-id-2 pre{padding: 0;}#sk-container-id-2 div.sk-toggleable {background-color: white;}#sk-container-id-2 label.sk-toggleable__label {cursor: pointer;display: block;width: 100%;margin-bottom: 0;padding: 0.3em;box-sizing: border-box;text-align: center;}#sk-container-id-2 label.sk-toggleable__label-arrow:before {content: \"▸\";float: left;margin-right: 0.25em;color: #696969;}#sk-container-id-2 label.sk-toggleable__label-arrow:hover:before {color: black;}#sk-container-id-2 div.sk-estimator:hover label.sk-toggleable__label-arrow:before {color: black;}#sk-container-id-2 div.sk-toggleable__content {max-height: 0;max-width: 0;overflow: hidden;text-align: left;background-color: #f0f8ff;}#sk-container-id-2 div.sk-toggleable__content pre {margin: 0.2em;color: black;border-radius: 0.25em;background-color: #f0f8ff;}#sk-container-id-2 input.sk-toggleable__control:checked~div.sk-toggleable__content {max-height: 200px;max-width: 100%;overflow: auto;}#sk-container-id-2 input.sk-toggleable__control:checked~label.sk-toggleable__label-arrow:before {content: \"▾\";}#sk-container-id-2 div.sk-estimator input.sk-toggleable__control:checked~label.sk-toggleable__label {background-color: #d4ebff;}#sk-container-id-2 div.sk-label input.sk-toggleable__control:checked~label.sk-toggleable__label {background-color: #d4ebff;}#sk-container-id-2 input.sk-hidden--visually {border: 0;clip: rect(1px 1px 1px 1px);clip: rect(1px, 1px, 1px, 1px);height: 1px;margin: -1px;overflow: hidden;padding: 0;position: absolute;width: 1px;}#sk-container-id-2 div.sk-estimator {font-family: monospace;background-color: #f0f8ff;border: 1px dotted black;border-radius: 0.25em;box-sizing: border-box;margin-bottom: 0.5em;}#sk-container-id-2 div.sk-estimator:hover {background-color: #d4ebff;}#sk-container-id-2 div.sk-parallel-item::after {content: \"\";width: 100%;border-bottom: 1px solid gray;flex-grow: 1;}#sk-container-id-2 div.sk-label:hover label.sk-toggleable__label {background-color: #d4ebff;}#sk-container-id-2 div.sk-serial::before {content: \"\";position: absolute;border-left: 1px solid gray;box-sizing: border-box;top: 0;bottom: 0;left: 50%;z-index: 0;}#sk-container-id-2 div.sk-serial {display: flex;flex-direction: column;align-items: center;background-color: white;padding-right: 0.2em;padding-left: 0.2em;position: relative;}#sk-container-id-2 div.sk-item {position: relative;z-index: 1;}#sk-container-id-2 div.sk-parallel {display: flex;align-items: stretch;justify-content: center;background-color: white;position: relative;}#sk-container-id-2 div.sk-item::before, #sk-container-id-2 div.sk-parallel-item::before {content: \"\";position: absolute;border-left: 1px solid gray;box-sizing: border-box;top: 0;bottom: 0;left: 50%;z-index: -1;}#sk-container-id-2 div.sk-parallel-item {display: flex;flex-direction: column;z-index: 1;position: relative;background-color: white;}#sk-container-id-2 div.sk-parallel-item:first-child::after {align-self: flex-end;width: 50%;}#sk-container-id-2 div.sk-parallel-item:last-child::after {align-self: flex-start;width: 50%;}#sk-container-id-2 div.sk-parallel-item:only-child::after {width: 0;}#sk-container-id-2 div.sk-dashed-wrapped {border: 1px dashed gray;margin: 0 0.4em 0.5em 0.4em;box-sizing: border-box;padding-bottom: 0.4em;background-color: white;}#sk-container-id-2 div.sk-label label {font-family: monospace;font-weight: bold;display: inline-block;line-height: 1.2em;}#sk-container-id-2 div.sk-label-container {text-align: center;}#sk-container-id-2 div.sk-container {/* jupyter's `normalize.less` sets `[hidden] { display: none; }` but bootstrap.min.css set `[hidden] { display: none !important; }` so we also need the `!important` here to be able to override the default hidden behavior on the sphinx rendered scikit-learn.org. See: https://github.com/scikit-learn/scikit-learn/issues/21755 */display: inline-block !important;position: relative;}#sk-container-id-2 div.sk-text-repr-fallback {display: none;}</style><div id=\"sk-container-id-2\" class=\"sk-top-container\"><div class=\"sk-text-repr-fallback\"><pre>GridSearchCV(estimator=RandomForestClassifier(),\n",
              "             param_grid={&#x27;max_features&#x27;: [&#x27;sqrt&#x27;, &#x27;log2&#x27;, None],\n",
              "                         &#x27;n_estimators&#x27;: [50, 100]})</pre><b>In a Jupyter environment, please rerun this cell to show the HTML representation or trust the notebook. <br />On GitHub, the HTML representation is unable to render, please try loading this page with nbviewer.org.</b></div><div class=\"sk-container\" hidden><div class=\"sk-item sk-dashed-wrapped\"><div class=\"sk-label-container\"><div class=\"sk-label sk-toggleable\"><input class=\"sk-toggleable__control sk-hidden--visually\" id=\"sk-estimator-id-2\" type=\"checkbox\" ><label for=\"sk-estimator-id-2\" class=\"sk-toggleable__label sk-toggleable__label-arrow\">GridSearchCV</label><div class=\"sk-toggleable__content\"><pre>GridSearchCV(estimator=RandomForestClassifier(),\n",
              "             param_grid={&#x27;max_features&#x27;: [&#x27;sqrt&#x27;, &#x27;log2&#x27;, None],\n",
              "                         &#x27;n_estimators&#x27;: [50, 100]})</pre></div></div></div><div class=\"sk-parallel\"><div class=\"sk-parallel-item\"><div class=\"sk-item\"><div class=\"sk-label-container\"><div class=\"sk-label sk-toggleable\"><input class=\"sk-toggleable__control sk-hidden--visually\" id=\"sk-estimator-id-3\" type=\"checkbox\" ><label for=\"sk-estimator-id-3\" class=\"sk-toggleable__label sk-toggleable__label-arrow\">estimator: RandomForestClassifier</label><div class=\"sk-toggleable__content\"><pre>RandomForestClassifier()</pre></div></div></div><div class=\"sk-serial\"><div class=\"sk-item\"><div class=\"sk-estimator sk-toggleable\"><input class=\"sk-toggleable__control sk-hidden--visually\" id=\"sk-estimator-id-4\" type=\"checkbox\" ><label for=\"sk-estimator-id-4\" class=\"sk-toggleable__label sk-toggleable__label-arrow\">RandomForestClassifier</label><div class=\"sk-toggleable__content\"><pre>RandomForestClassifier()</pre></div></div></div></div></div></div></div></div></div></div>"
            ]
          },
          "metadata": {},
          "execution_count": 55
        }
      ]
    },
    {
      "cell_type": "code",
      "source": [
        "#BEST PARAMETERS\n",
        "grid_search.best_params_"
      ],
      "metadata": {
        "colab": {
          "base_uri": "https://localhost:8080/"
        },
        "id": "l_jjgqnymh5s",
        "outputId": "b372efff-e440-4c27-bbc4-5523ffa8ba12"
      },
      "execution_count": 56,
      "outputs": [
        {
          "output_type": "execute_result",
          "data": {
            "text/plain": [
              "{'max_features': 'sqrt', 'n_estimators': 100}"
            ]
          },
          "metadata": {},
          "execution_count": 56
        }
      ]
    },
    {
      "cell_type": "markdown",
      "source": [
        "***BUILDING MODEL WITH BEST PARAMETERS***"
      ],
      "metadata": {
        "id": "VkXpS922nI-4"
      }
    },
    {
      "cell_type": "code",
      "source": [
        "rf2=RandomForestClassifier(n_estimators=100,max_features='sqrt')\n",
        "rf2.fit(x_train,y_train)"
      ],
      "metadata": {
        "colab": {
          "base_uri": "https://localhost:8080/",
          "height": 74
        },
        "id": "FC9_SnpDm_gt",
        "outputId": "b8858789-88e1-4bb1-d335-5c61047ec249"
      },
      "execution_count": 57,
      "outputs": [
        {
          "output_type": "execute_result",
          "data": {
            "text/plain": [
              "RandomForestClassifier()"
            ],
            "text/html": [
              "<style>#sk-container-id-3 {color: black;background-color: white;}#sk-container-id-3 pre{padding: 0;}#sk-container-id-3 div.sk-toggleable {background-color: white;}#sk-container-id-3 label.sk-toggleable__label {cursor: pointer;display: block;width: 100%;margin-bottom: 0;padding: 0.3em;box-sizing: border-box;text-align: center;}#sk-container-id-3 label.sk-toggleable__label-arrow:before {content: \"▸\";float: left;margin-right: 0.25em;color: #696969;}#sk-container-id-3 label.sk-toggleable__label-arrow:hover:before {color: black;}#sk-container-id-3 div.sk-estimator:hover label.sk-toggleable__label-arrow:before {color: black;}#sk-container-id-3 div.sk-toggleable__content {max-height: 0;max-width: 0;overflow: hidden;text-align: left;background-color: #f0f8ff;}#sk-container-id-3 div.sk-toggleable__content pre {margin: 0.2em;color: black;border-radius: 0.25em;background-color: #f0f8ff;}#sk-container-id-3 input.sk-toggleable__control:checked~div.sk-toggleable__content {max-height: 200px;max-width: 100%;overflow: auto;}#sk-container-id-3 input.sk-toggleable__control:checked~label.sk-toggleable__label-arrow:before {content: \"▾\";}#sk-container-id-3 div.sk-estimator input.sk-toggleable__control:checked~label.sk-toggleable__label {background-color: #d4ebff;}#sk-container-id-3 div.sk-label input.sk-toggleable__control:checked~label.sk-toggleable__label {background-color: #d4ebff;}#sk-container-id-3 input.sk-hidden--visually {border: 0;clip: rect(1px 1px 1px 1px);clip: rect(1px, 1px, 1px, 1px);height: 1px;margin: -1px;overflow: hidden;padding: 0;position: absolute;width: 1px;}#sk-container-id-3 div.sk-estimator {font-family: monospace;background-color: #f0f8ff;border: 1px dotted black;border-radius: 0.25em;box-sizing: border-box;margin-bottom: 0.5em;}#sk-container-id-3 div.sk-estimator:hover {background-color: #d4ebff;}#sk-container-id-3 div.sk-parallel-item::after {content: \"\";width: 100%;border-bottom: 1px solid gray;flex-grow: 1;}#sk-container-id-3 div.sk-label:hover label.sk-toggleable__label {background-color: #d4ebff;}#sk-container-id-3 div.sk-serial::before {content: \"\";position: absolute;border-left: 1px solid gray;box-sizing: border-box;top: 0;bottom: 0;left: 50%;z-index: 0;}#sk-container-id-3 div.sk-serial {display: flex;flex-direction: column;align-items: center;background-color: white;padding-right: 0.2em;padding-left: 0.2em;position: relative;}#sk-container-id-3 div.sk-item {position: relative;z-index: 1;}#sk-container-id-3 div.sk-parallel {display: flex;align-items: stretch;justify-content: center;background-color: white;position: relative;}#sk-container-id-3 div.sk-item::before, #sk-container-id-3 div.sk-parallel-item::before {content: \"\";position: absolute;border-left: 1px solid gray;box-sizing: border-box;top: 0;bottom: 0;left: 50%;z-index: -1;}#sk-container-id-3 div.sk-parallel-item {display: flex;flex-direction: column;z-index: 1;position: relative;background-color: white;}#sk-container-id-3 div.sk-parallel-item:first-child::after {align-self: flex-end;width: 50%;}#sk-container-id-3 div.sk-parallel-item:last-child::after {align-self: flex-start;width: 50%;}#sk-container-id-3 div.sk-parallel-item:only-child::after {width: 0;}#sk-container-id-3 div.sk-dashed-wrapped {border: 1px dashed gray;margin: 0 0.4em 0.5em 0.4em;box-sizing: border-box;padding-bottom: 0.4em;background-color: white;}#sk-container-id-3 div.sk-label label {font-family: monospace;font-weight: bold;display: inline-block;line-height: 1.2em;}#sk-container-id-3 div.sk-label-container {text-align: center;}#sk-container-id-3 div.sk-container {/* jupyter's `normalize.less` sets `[hidden] { display: none; }` but bootstrap.min.css set `[hidden] { display: none !important; }` so we also need the `!important` here to be able to override the default hidden behavior on the sphinx rendered scikit-learn.org. See: https://github.com/scikit-learn/scikit-learn/issues/21755 */display: inline-block !important;position: relative;}#sk-container-id-3 div.sk-text-repr-fallback {display: none;}</style><div id=\"sk-container-id-3\" class=\"sk-top-container\"><div class=\"sk-text-repr-fallback\"><pre>RandomForestClassifier()</pre><b>In a Jupyter environment, please rerun this cell to show the HTML representation or trust the notebook. <br />On GitHub, the HTML representation is unable to render, please try loading this page with nbviewer.org.</b></div><div class=\"sk-container\" hidden><div class=\"sk-item\"><div class=\"sk-estimator sk-toggleable\"><input class=\"sk-toggleable__control sk-hidden--visually\" id=\"sk-estimator-id-5\" type=\"checkbox\" checked><label for=\"sk-estimator-id-5\" class=\"sk-toggleable__label sk-toggleable__label-arrow\">RandomForestClassifier</label><div class=\"sk-toggleable__content\"><pre>RandomForestClassifier()</pre></div></div></div></div></div>"
            ]
          },
          "metadata": {},
          "execution_count": 57
        }
      ]
    },
    {
      "cell_type": "code",
      "source": [
        "y_pred2=rf2.predict(x_test)"
      ],
      "metadata": {
        "id": "K9jW4Ub3nTTc"
      },
      "execution_count": 58,
      "outputs": []
    },
    {
      "cell_type": "code",
      "source": [
        "accuracy_score(y_test,y_pred2)*100"
      ],
      "metadata": {
        "colab": {
          "base_uri": "https://localhost:8080/"
        },
        "id": "TzDATasFnZ2Y",
        "outputId": "5e7be7b9-a9dc-491d-e109-9ad7a2ecd57c"
      },
      "execution_count": 59,
      "outputs": [
        {
          "output_type": "execute_result",
          "data": {
            "text/plain": [
              "98.30461367426348"
            ]
          },
          "metadata": {},
          "execution_count": 59
        }
      ]
    },
    {
      "cell_type": "code",
      "source": [
        "#K FOLD CROSS VALIDATION: K=5(USING THE NEW MODEL)"
      ],
      "metadata": {
        "id": "-xKzyAMbnqro"
      },
      "execution_count": 63,
      "outputs": []
    },
    {
      "cell_type": "code",
      "source": [
        "from sklearn.model_selection import cross_val_score\n",
        "scores=cross_val_score(rf2,x_train,y_train,cv=5)\n",
        "print(\"CROSS VALIDATION SCORES=\",scores)"
      ],
      "metadata": {
        "colab": {
          "base_uri": "https://localhost:8080/"
        },
        "id": "tO8iNue2nvZU",
        "outputId": "26b46fab-5272-4183-e598-f99db0fa42ee"
      },
      "execution_count": 64,
      "outputs": [
        {
          "output_type": "stream",
          "name": "stdout",
          "text": [
            "CROSS VALIDATION SCORES= [0.98570578 0.983919   0.98451459 0.98569726 0.98808105]\n"
          ]
        }
      ]
    },
    {
      "cell_type": "code",
      "source": [
        "avg_model_score=scores.mean()\n",
        "print(\"AVERAGE MODEL SCORE=\",avg_model_score)"
      ],
      "metadata": {
        "colab": {
          "base_uri": "https://localhost:8080/"
        },
        "id": "ZrWpO5BPnzY1",
        "outputId": "69030981-d80a-44e5-9740-fb99c4343239"
      },
      "execution_count": 65,
      "outputs": [
        {
          "output_type": "stream",
          "name": "stdout",
          "text": [
            "AVERAGE MODEL SCORE= 0.9855835352361536\n"
          ]
        }
      ]
    },
    {
      "cell_type": "code",
      "source": [],
      "metadata": {
        "id": "SDHvacLNn4-r"
      },
      "execution_count": null,
      "outputs": []
    }
  ]
}