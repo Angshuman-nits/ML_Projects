{
  "nbformat": 4,
  "nbformat_minor": 0,
  "metadata": {
    "colab": {
      "provenance": [],
      "authorship_tag": "ABX9TyOWEULkCPjeU4QFynw+vI/e",
      "include_colab_link": true
    },
    "kernelspec": {
      "name": "python3",
      "display_name": "Python 3"
    },
    "language_info": {
      "name": "python"
    }
  },
  "cells": [
    {
      "cell_type": "markdown",
      "metadata": {
        "id": "view-in-github",
        "colab_type": "text"
      },
      "source": [
        "<a href=\"https://colab.research.google.com/github/Angshuman-nits/ML_Projects/blob/main/NeuralNetwork.ipynb\" target=\"_parent\"><img src=\"https://colab.research.google.com/assets/colab-badge.svg\" alt=\"Open In Colab\"/></a>"
      ]
    },
    {
      "cell_type": "code",
      "execution_count": 2,
      "metadata": {
        "colab": {
          "base_uri": "https://localhost:8080/"
        },
        "id": "zOGE9Ud9599T",
        "outputId": "bce05e8c-78e2-4c36-da0d-77b305bf3588"
      },
      "outputs": [
        {
          "output_type": "stream",
          "name": "stdout",
          "text": [
            "Requirement already satisfied: tensorflow in /usr/local/lib/python3.10/dist-packages (2.15.0)\n",
            "Requirement already satisfied: absl-py>=1.0.0 in /usr/local/lib/python3.10/dist-packages (from tensorflow) (1.4.0)\n",
            "Requirement already satisfied: astunparse>=1.6.0 in /usr/local/lib/python3.10/dist-packages (from tensorflow) (1.6.3)\n",
            "Requirement already satisfied: flatbuffers>=23.5.26 in /usr/local/lib/python3.10/dist-packages (from tensorflow) (24.3.25)\n",
            "Requirement already satisfied: gast!=0.5.0,!=0.5.1,!=0.5.2,>=0.2.1 in /usr/local/lib/python3.10/dist-packages (from tensorflow) (0.6.0)\n",
            "Requirement already satisfied: google-pasta>=0.1.1 in /usr/local/lib/python3.10/dist-packages (from tensorflow) (0.2.0)\n",
            "Requirement already satisfied: h5py>=2.9.0 in /usr/local/lib/python3.10/dist-packages (from tensorflow) (3.9.0)\n",
            "Requirement already satisfied: libclang>=13.0.0 in /usr/local/lib/python3.10/dist-packages (from tensorflow) (18.1.1)\n",
            "Requirement already satisfied: ml-dtypes~=0.2.0 in /usr/local/lib/python3.10/dist-packages (from tensorflow) (0.2.0)\n",
            "Requirement already satisfied: numpy<2.0.0,>=1.23.5 in /usr/local/lib/python3.10/dist-packages (from tensorflow) (1.25.2)\n",
            "Requirement already satisfied: opt-einsum>=2.3.2 in /usr/local/lib/python3.10/dist-packages (from tensorflow) (3.3.0)\n",
            "Requirement already satisfied: packaging in /usr/local/lib/python3.10/dist-packages (from tensorflow) (24.1)\n",
            "Requirement already satisfied: protobuf!=4.21.0,!=4.21.1,!=4.21.2,!=4.21.3,!=4.21.4,!=4.21.5,<5.0.0dev,>=3.20.3 in /usr/local/lib/python3.10/dist-packages (from tensorflow) (3.20.3)\n",
            "Requirement already satisfied: setuptools in /usr/local/lib/python3.10/dist-packages (from tensorflow) (67.7.2)\n",
            "Requirement already satisfied: six>=1.12.0 in /usr/local/lib/python3.10/dist-packages (from tensorflow) (1.16.0)\n",
            "Requirement already satisfied: termcolor>=1.1.0 in /usr/local/lib/python3.10/dist-packages (from tensorflow) (2.4.0)\n",
            "Requirement already satisfied: typing-extensions>=3.6.6 in /usr/local/lib/python3.10/dist-packages (from tensorflow) (4.12.2)\n",
            "Requirement already satisfied: wrapt<1.15,>=1.11.0 in /usr/local/lib/python3.10/dist-packages (from tensorflow) (1.14.1)\n",
            "Requirement already satisfied: tensorflow-io-gcs-filesystem>=0.23.1 in /usr/local/lib/python3.10/dist-packages (from tensorflow) (0.37.0)\n",
            "Requirement already satisfied: grpcio<2.0,>=1.24.3 in /usr/local/lib/python3.10/dist-packages (from tensorflow) (1.64.1)\n",
            "Requirement already satisfied: tensorboard<2.16,>=2.15 in /usr/local/lib/python3.10/dist-packages (from tensorflow) (2.15.2)\n",
            "Requirement already satisfied: tensorflow-estimator<2.16,>=2.15.0 in /usr/local/lib/python3.10/dist-packages (from tensorflow) (2.15.0)\n",
            "Requirement already satisfied: keras<2.16,>=2.15.0 in /usr/local/lib/python3.10/dist-packages (from tensorflow) (2.15.0)\n",
            "Requirement already satisfied: wheel<1.0,>=0.23.0 in /usr/local/lib/python3.10/dist-packages (from astunparse>=1.6.0->tensorflow) (0.43.0)\n",
            "Requirement already satisfied: google-auth<3,>=1.6.3 in /usr/local/lib/python3.10/dist-packages (from tensorboard<2.16,>=2.15->tensorflow) (2.27.0)\n",
            "Requirement already satisfied: google-auth-oauthlib<2,>=0.5 in /usr/local/lib/python3.10/dist-packages (from tensorboard<2.16,>=2.15->tensorflow) (1.2.0)\n",
            "Requirement already satisfied: markdown>=2.6.8 in /usr/local/lib/python3.10/dist-packages (from tensorboard<2.16,>=2.15->tensorflow) (3.6)\n",
            "Requirement already satisfied: requests<3,>=2.21.0 in /usr/local/lib/python3.10/dist-packages (from tensorboard<2.16,>=2.15->tensorflow) (2.31.0)\n",
            "Requirement already satisfied: tensorboard-data-server<0.8.0,>=0.7.0 in /usr/local/lib/python3.10/dist-packages (from tensorboard<2.16,>=2.15->tensorflow) (0.7.2)\n",
            "Requirement already satisfied: werkzeug>=1.0.1 in /usr/local/lib/python3.10/dist-packages (from tensorboard<2.16,>=2.15->tensorflow) (3.0.3)\n",
            "Requirement already satisfied: cachetools<6.0,>=2.0.0 in /usr/local/lib/python3.10/dist-packages (from google-auth<3,>=1.6.3->tensorboard<2.16,>=2.15->tensorflow) (5.3.3)\n",
            "Requirement already satisfied: pyasn1-modules>=0.2.1 in /usr/local/lib/python3.10/dist-packages (from google-auth<3,>=1.6.3->tensorboard<2.16,>=2.15->tensorflow) (0.4.0)\n",
            "Requirement already satisfied: rsa<5,>=3.1.4 in /usr/local/lib/python3.10/dist-packages (from google-auth<3,>=1.6.3->tensorboard<2.16,>=2.15->tensorflow) (4.9)\n",
            "Requirement already satisfied: requests-oauthlib>=0.7.0 in /usr/local/lib/python3.10/dist-packages (from google-auth-oauthlib<2,>=0.5->tensorboard<2.16,>=2.15->tensorflow) (1.3.1)\n",
            "Requirement already satisfied: charset-normalizer<4,>=2 in /usr/local/lib/python3.10/dist-packages (from requests<3,>=2.21.0->tensorboard<2.16,>=2.15->tensorflow) (3.3.2)\n",
            "Requirement already satisfied: idna<4,>=2.5 in /usr/local/lib/python3.10/dist-packages (from requests<3,>=2.21.0->tensorboard<2.16,>=2.15->tensorflow) (3.7)\n",
            "Requirement already satisfied: urllib3<3,>=1.21.1 in /usr/local/lib/python3.10/dist-packages (from requests<3,>=2.21.0->tensorboard<2.16,>=2.15->tensorflow) (2.0.7)\n",
            "Requirement already satisfied: certifi>=2017.4.17 in /usr/local/lib/python3.10/dist-packages (from requests<3,>=2.21.0->tensorboard<2.16,>=2.15->tensorflow) (2024.6.2)\n",
            "Requirement already satisfied: MarkupSafe>=2.1.1 in /usr/local/lib/python3.10/dist-packages (from werkzeug>=1.0.1->tensorboard<2.16,>=2.15->tensorflow) (2.1.5)\n",
            "Requirement already satisfied: pyasn1<0.7.0,>=0.4.6 in /usr/local/lib/python3.10/dist-packages (from pyasn1-modules>=0.2.1->google-auth<3,>=1.6.3->tensorboard<2.16,>=2.15->tensorflow) (0.6.0)\n",
            "Requirement already satisfied: oauthlib>=3.0.0 in /usr/local/lib/python3.10/dist-packages (from requests-oauthlib>=0.7.0->google-auth-oauthlib<2,>=0.5->tensorboard<2.16,>=2.15->tensorflow) (3.2.2)\n"
          ]
        }
      ],
      "source": [
        "!pip install tensorflow"
      ]
    },
    {
      "cell_type": "code",
      "source": [
        "import tensorflow as tf\n",
        "print(tf.__version__)\n"
      ],
      "metadata": {
        "colab": {
          "base_uri": "https://localhost:8080/"
        },
        "id": "N6n3QPlZ6Pnt",
        "outputId": "20128d90-0c55-4d20-d969-c962862b02b5"
      },
      "execution_count": 3,
      "outputs": [
        {
          "output_type": "stream",
          "name": "stdout",
          "text": [
            "2.15.0\n"
          ]
        }
      ]
    },
    {
      "cell_type": "code",
      "source": [
        "from tensorflow import keras\n",
        "import matplotlib.pyplot as plt\n",
        "%matplotlib inline\n",
        "import numpy as np"
      ],
      "metadata": {
        "id": "2JCZcx9p6YLY"
      },
      "execution_count": 4,
      "outputs": []
    },
    {
      "cell_type": "code",
      "source": [
        "(x_train, y_train), (x_test, y_test)= keras.datasets.mnist.load_data()"
      ],
      "metadata": {
        "colab": {
          "base_uri": "https://localhost:8080/"
        },
        "id": "xQVvt6hU6e_d",
        "outputId": "dc204f4e-2d68-4cc0-d809-5a9f43c2aedc"
      },
      "execution_count": 5,
      "outputs": [
        {
          "output_type": "stream",
          "name": "stdout",
          "text": [
            "Downloading data from https://storage.googleapis.com/tensorflow/tf-keras-datasets/mnist.npz\n",
            "11490434/11490434 [==============================] - 0s 0us/step\n"
          ]
        }
      ]
    },
    {
      "cell_type": "code",
      "source": [
        "len(x_train)"
      ],
      "metadata": {
        "colab": {
          "base_uri": "https://localhost:8080/"
        },
        "id": "arvSyBao7AL6",
        "outputId": "79639ece-8dc8-40d1-8029-203ef7fc65ed"
      },
      "execution_count": 6,
      "outputs": [
        {
          "output_type": "execute_result",
          "data": {
            "text/plain": [
              "60000"
            ]
          },
          "metadata": {},
          "execution_count": 6
        }
      ]
    },
    {
      "cell_type": "code",
      "source": [
        "len(x_test)"
      ],
      "metadata": {
        "colab": {
          "base_uri": "https://localhost:8080/"
        },
        "id": "kn4bXp577ErH",
        "outputId": "468ba374-a4f7-4663-d89f-1a9eed3360be"
      },
      "execution_count": 7,
      "outputs": [
        {
          "output_type": "execute_result",
          "data": {
            "text/plain": [
              "10000"
            ]
          },
          "metadata": {},
          "execution_count": 7
        }
      ]
    },
    {
      "cell_type": "code",
      "source": [
        "y_train"
      ],
      "metadata": {
        "colab": {
          "base_uri": "https://localhost:8080/"
        },
        "id": "CCnee37l7HAb",
        "outputId": "9c40b4d3-8258-4434-9de5-a9ab5214f64d"
      },
      "execution_count": 8,
      "outputs": [
        {
          "output_type": "execute_result",
          "data": {
            "text/plain": [
              "array([5, 0, 4, ..., 5, 6, 8], dtype=uint8)"
            ]
          },
          "metadata": {},
          "execution_count": 8
        }
      ]
    },
    {
      "cell_type": "code",
      "source": [
        "x_test"
      ],
      "metadata": {
        "colab": {
          "base_uri": "https://localhost:8080/"
        },
        "id": "D3EeuVGZ7Jji",
        "outputId": "5d5ed4d2-42f2-4cf1-fcf2-a168ae7423be"
      },
      "execution_count": 9,
      "outputs": [
        {
          "output_type": "execute_result",
          "data": {
            "text/plain": [
              "array([[[0, 0, 0, ..., 0, 0, 0],\n",
              "        [0, 0, 0, ..., 0, 0, 0],\n",
              "        [0, 0, 0, ..., 0, 0, 0],\n",
              "        ...,\n",
              "        [0, 0, 0, ..., 0, 0, 0],\n",
              "        [0, 0, 0, ..., 0, 0, 0],\n",
              "        [0, 0, 0, ..., 0, 0, 0]],\n",
              "\n",
              "       [[0, 0, 0, ..., 0, 0, 0],\n",
              "        [0, 0, 0, ..., 0, 0, 0],\n",
              "        [0, 0, 0, ..., 0, 0, 0],\n",
              "        ...,\n",
              "        [0, 0, 0, ..., 0, 0, 0],\n",
              "        [0, 0, 0, ..., 0, 0, 0],\n",
              "        [0, 0, 0, ..., 0, 0, 0]],\n",
              "\n",
              "       [[0, 0, 0, ..., 0, 0, 0],\n",
              "        [0, 0, 0, ..., 0, 0, 0],\n",
              "        [0, 0, 0, ..., 0, 0, 0],\n",
              "        ...,\n",
              "        [0, 0, 0, ..., 0, 0, 0],\n",
              "        [0, 0, 0, ..., 0, 0, 0],\n",
              "        [0, 0, 0, ..., 0, 0, 0]],\n",
              "\n",
              "       ...,\n",
              "\n",
              "       [[0, 0, 0, ..., 0, 0, 0],\n",
              "        [0, 0, 0, ..., 0, 0, 0],\n",
              "        [0, 0, 0, ..., 0, 0, 0],\n",
              "        ...,\n",
              "        [0, 0, 0, ..., 0, 0, 0],\n",
              "        [0, 0, 0, ..., 0, 0, 0],\n",
              "        [0, 0, 0, ..., 0, 0, 0]],\n",
              "\n",
              "       [[0, 0, 0, ..., 0, 0, 0],\n",
              "        [0, 0, 0, ..., 0, 0, 0],\n",
              "        [0, 0, 0, ..., 0, 0, 0],\n",
              "        ...,\n",
              "        [0, 0, 0, ..., 0, 0, 0],\n",
              "        [0, 0, 0, ..., 0, 0, 0],\n",
              "        [0, 0, 0, ..., 0, 0, 0]],\n",
              "\n",
              "       [[0, 0, 0, ..., 0, 0, 0],\n",
              "        [0, 0, 0, ..., 0, 0, 0],\n",
              "        [0, 0, 0, ..., 0, 0, 0],\n",
              "        ...,\n",
              "        [0, 0, 0, ..., 0, 0, 0],\n",
              "        [0, 0, 0, ..., 0, 0, 0],\n",
              "        [0, 0, 0, ..., 0, 0, 0]]], dtype=uint8)"
            ]
          },
          "metadata": {},
          "execution_count": 9
        }
      ]
    },
    {
      "cell_type": "code",
      "source": [
        "x_train.shape"
      ],
      "metadata": {
        "colab": {
          "base_uri": "https://localhost:8080/"
        },
        "id": "abjLS8wI9ZwB",
        "outputId": "f9bdda61-82cc-4f2f-82b9-5a3d2718dd37"
      },
      "execution_count": 10,
      "outputs": [
        {
          "output_type": "execute_result",
          "data": {
            "text/plain": [
              "(60000, 28, 28)"
            ]
          },
          "metadata": {},
          "execution_count": 10
        }
      ]
    },
    {
      "cell_type": "code",
      "source": [
        "x_train[0]"
      ],
      "metadata": {
        "colab": {
          "base_uri": "https://localhost:8080/",
          "height": 69
        },
        "id": "58fxigwB7MQi",
        "outputId": "1dc839de-7805-466f-ebcf-22811a4df962"
      },
      "execution_count": 11,
      "outputs": [
        {
          "output_type": "execute_result",
          "data": {
            "text/plain": [
              "array([[  0,   0,   0,   0,   0,   0,   0,   0,   0,   0,   0,   0,   0,\n",
              "          0,   0,   0,   0,   0,   0,   0,   0,   0,   0,   0,   0,   0,\n",
              "          0,   0],\n",
              "       [  0,   0,   0,   0,   0,   0,   0,   0,   0,   0,   0,   0,   0,\n",
              "          0,   0,   0,   0,   0,   0,   0,   0,   0,   0,   0,   0,   0,\n",
              "          0,   0],\n",
              "       [  0,   0,   0,   0,   0,   0,   0,   0,   0,   0,   0,   0,   0,\n",
              "          0,   0,   0,   0,   0,   0,   0,   0,   0,   0,   0,   0,   0,\n",
              "          0,   0],\n",
              "       [  0,   0,   0,   0,   0,   0,   0,   0,   0,   0,   0,   0,   0,\n",
              "          0,   0,   0,   0,   0,   0,   0,   0,   0,   0,   0,   0,   0,\n",
              "          0,   0],\n",
              "       [  0,   0,   0,   0,   0,   0,   0,   0,   0,   0,   0,   0,   0,\n",
              "          0,   0,   0,   0,   0,   0,   0,   0,   0,   0,   0,   0,   0,\n",
              "          0,   0],\n",
              "       [  0,   0,   0,   0,   0,   0,   0,   0,   0,   0,   0,   0,   3,\n",
              "         18,  18,  18, 126, 136, 175,  26, 166, 255, 247, 127,   0,   0,\n",
              "          0,   0],\n",
              "       [  0,   0,   0,   0,   0,   0,   0,   0,  30,  36,  94, 154, 170,\n",
              "        253, 253, 253, 253, 253, 225, 172, 253, 242, 195,  64,   0,   0,\n",
              "          0,   0],\n",
              "       [  0,   0,   0,   0,   0,   0,   0,  49, 238, 253, 253, 253, 253,\n",
              "        253, 253, 253, 253, 251,  93,  82,  82,  56,  39,   0,   0,   0,\n",
              "          0,   0],\n",
              "       [  0,   0,   0,   0,   0,   0,   0,  18, 219, 253, 253, 253, 253,\n",
              "        253, 198, 182, 247, 241,   0,   0,   0,   0,   0,   0,   0,   0,\n",
              "          0,   0],\n",
              "       [  0,   0,   0,   0,   0,   0,   0,   0,  80, 156, 107, 253, 253,\n",
              "        205,  11,   0,  43, 154,   0,   0,   0,   0,   0,   0,   0,   0,\n",
              "          0,   0],\n",
              "       [  0,   0,   0,   0,   0,   0,   0,   0,   0,  14,   1, 154, 253,\n",
              "         90,   0,   0,   0,   0,   0,   0,   0,   0,   0,   0,   0,   0,\n",
              "          0,   0],\n",
              "       [  0,   0,   0,   0,   0,   0,   0,   0,   0,   0,   0, 139, 253,\n",
              "        190,   2,   0,   0,   0,   0,   0,   0,   0,   0,   0,   0,   0,\n",
              "          0,   0],\n",
              "       [  0,   0,   0,   0,   0,   0,   0,   0,   0,   0,   0,  11, 190,\n",
              "        253,  70,   0,   0,   0,   0,   0,   0,   0,   0,   0,   0,   0,\n",
              "          0,   0],\n",
              "       [  0,   0,   0,   0,   0,   0,   0,   0,   0,   0,   0,   0,  35,\n",
              "        241, 225, 160, 108,   1,   0,   0,   0,   0,   0,   0,   0,   0,\n",
              "          0,   0],\n",
              "       [  0,   0,   0,   0,   0,   0,   0,   0,   0,   0,   0,   0,   0,\n",
              "         81, 240, 253, 253, 119,  25,   0,   0,   0,   0,   0,   0,   0,\n",
              "          0,   0],\n",
              "       [  0,   0,   0,   0,   0,   0,   0,   0,   0,   0,   0,   0,   0,\n",
              "          0,  45, 186, 253, 253, 150,  27,   0,   0,   0,   0,   0,   0,\n",
              "          0,   0],\n",
              "       [  0,   0,   0,   0,   0,   0,   0,   0,   0,   0,   0,   0,   0,\n",
              "          0,   0,  16,  93, 252, 253, 187,   0,   0,   0,   0,   0,   0,\n",
              "          0,   0],\n",
              "       [  0,   0,   0,   0,   0,   0,   0,   0,   0,   0,   0,   0,   0,\n",
              "          0,   0,   0,   0, 249, 253, 249,  64,   0,   0,   0,   0,   0,\n",
              "          0,   0],\n",
              "       [  0,   0,   0,   0,   0,   0,   0,   0,   0,   0,   0,   0,   0,\n",
              "          0,  46, 130, 183, 253, 253, 207,   2,   0,   0,   0,   0,   0,\n",
              "          0,   0],\n",
              "       [  0,   0,   0,   0,   0,   0,   0,   0,   0,   0,   0,   0,  39,\n",
              "        148, 229, 253, 253, 253, 250, 182,   0,   0,   0,   0,   0,   0,\n",
              "          0,   0],\n",
              "       [  0,   0,   0,   0,   0,   0,   0,   0,   0,   0,  24, 114, 221,\n",
              "        253, 253, 253, 253, 201,  78,   0,   0,   0,   0,   0,   0,   0,\n",
              "          0,   0],\n",
              "       [  0,   0,   0,   0,   0,   0,   0,   0,  23,  66, 213, 253, 253,\n",
              "        253, 253, 198,  81,   2,   0,   0,   0,   0,   0,   0,   0,   0,\n",
              "          0,   0],\n",
              "       [  0,   0,   0,   0,   0,   0,  18, 171, 219, 253, 253, 253, 253,\n",
              "        195,  80,   9,   0,   0,   0,   0,   0,   0,   0,   0,   0,   0,\n",
              "          0,   0],\n",
              "       [  0,   0,   0,   0,  55, 172, 226, 253, 253, 253, 253, 244, 133,\n",
              "         11,   0,   0,   0,   0,   0,   0,   0,   0,   0,   0,   0,   0,\n",
              "          0,   0],\n",
              "       [  0,   0,   0,   0, 136, 253, 253, 253, 212, 135, 132,  16,   0,\n",
              "          0,   0,   0,   0,   0,   0,   0,   0,   0,   0,   0,   0,   0,\n",
              "          0,   0],\n",
              "       [  0,   0,   0,   0,   0,   0,   0,   0,   0,   0,   0,   0,   0,\n",
              "          0,   0,   0,   0,   0,   0,   0,   0,   0,   0,   0,   0,   0,\n",
              "          0,   0],\n",
              "       [  0,   0,   0,   0,   0,   0,   0,   0,   0,   0,   0,   0,   0,\n",
              "          0,   0,   0,   0,   0,   0,   0,   0,   0,   0,   0,   0,   0,\n",
              "          0,   0],\n",
              "       [  0,   0,   0,   0,   0,   0,   0,   0,   0,   0,   0,   0,   0,\n",
              "          0,   0,   0,   0,   0,   0,   0,   0,   0,   0,   0,   0,   0,\n",
              "          0,   0]], dtype=uint8)"
            ],
            "text/html": [
              "<style>\n",
              "      .ndarray_repr .ndarray_raw_data {\n",
              "        display: none;\n",
              "      }\n",
              "      .ndarray_repr.show_array .ndarray_raw_data {\n",
              "        display: block;\n",
              "      }\n",
              "      .ndarray_repr.show_array .ndarray_image_preview {\n",
              "        display: none;\n",
              "      }\n",
              "      </style>\n",
              "      <div id=\"id-f6ad680d-c43e-481f-8cb6-3e622cd0ed92\" class=\"ndarray_repr\"><pre>ndarray (28, 28) <button style=\"padding: 0 2px;\">show data</button></pre><img src=\"data:image/png;base64,iVBORw0KGgoAAAANSUhEUgAAABwAAAAcCAAAAABXZoBIAAABAElEQVR4nGNgGMyAWUhIqK5jvdSy/9/rGRgYGFhgEnJsVjYCwQwMDAxPJgV+vniQgYGBgREqZ7iXH8r6l/SV4dn7m8gmCt3++/fv37/Htn3/iMW+gDnZf/+e5WbQnoXNNXyMs/5GoQoxwVmf/n9kSGFiwAW49/11wynJoPzx4YIcRlyygR/+/i2XxCWru+vv32nSuGQFYv/83Y3b4p9/fzpAmSyoMnohpiwM1w5h06Q+5enfv39/bcMiJVF09+/fv39P+mFKiTtd/fv3799jgZiBJLT69t+/f/8eDuDEkDJf8+jv379/v7Ryo4qzMDAwMAQGMjBc3/y35wM2V1IfAABFF16Aa0wAOwAAAABJRU5ErkJggg==\" class=\"ndarray_image_preview\" /><pre class=\"ndarray_raw_data\">array([[  0,   0,   0,   0,   0,   0,   0,   0,   0,   0,   0,   0,   0,\n",
              "          0,   0,   0,   0,   0,   0,   0,   0,   0,   0,   0,   0,   0,\n",
              "          0,   0],\n",
              "       [  0,   0,   0,   0,   0,   0,   0,   0,   0,   0,   0,   0,   0,\n",
              "          0,   0,   0,   0,   0,   0,   0,   0,   0,   0,   0,   0,   0,\n",
              "          0,   0],\n",
              "       [  0,   0,   0,   0,   0,   0,   0,   0,   0,   0,   0,   0,   0,\n",
              "          0,   0,   0,   0,   0,   0,   0,   0,   0,   0,   0,   0,   0,\n",
              "          0,   0],\n",
              "       [  0,   0,   0,   0,   0,   0,   0,   0,   0,   0,   0,   0,   0,\n",
              "          0,   0,   0,   0,   0,   0,   0,   0,   0,   0,   0,   0,   0,\n",
              "          0,   0],\n",
              "       [  0,   0,   0,   0,   0,   0,   0,   0,   0,   0,   0,   0,   0,\n",
              "          0,   0,   0,   0,   0,   0,   0,   0,   0,   0,   0,   0,   0,\n",
              "          0,   0],\n",
              "       [  0,   0,   0,   0,   0,   0,   0,   0,   0,   0,   0,   0,   3,\n",
              "         18,  18,  18, 126, 136, 175,  26, 166, 255, 247, 127,   0,   0,\n",
              "          0,   0],\n",
              "       [  0,   0,   0,   0,   0,   0,   0,   0,  30,  36,  94, 154, 170,\n",
              "        253, 253, 253, 253, 253, 225, 172, 253, 242, 195,  64,   0,   0,\n",
              "          0,   0],\n",
              "       [  0,   0,   0,   0,   0,   0,   0,  49, 238, 253, 253, 253, 253,\n",
              "        253, 253, 253, 253, 251,  93,  82,  82,  56,  39,   0,   0,   0,\n",
              "          0,   0],\n",
              "       [  0,   0,   0,   0,   0,   0,   0,  18, 219, 253, 253, 253, 253,\n",
              "        253, 198, 182, 247, 241,   0,   0,   0,   0,   0,   0,   0,   0,\n",
              "          0,   0],\n",
              "       [  0,   0,   0,   0,   0,   0,   0,   0,  80, 156, 107, 253, 253,\n",
              "        205,  11,   0,  43, 154,   0,   0,   0,   0,   0,   0,   0,   0,\n",
              "          0,   0],\n",
              "       [  0,   0,   0,   0,   0,   0,   0,   0,   0,  14,   1, 154, 253,\n",
              "         90,   0,   0,   0,   0,   0,   0,   0,   0,   0,   0,   0,   0,\n",
              "          0,   0],\n",
              "       [  0,   0,   0,   0,   0,   0,   0,   0,   0,   0,   0, 139, 253,\n",
              "        190,   2,   0,   0,   0,   0,   0,   0,   0,   0,   0,   0,   0,\n",
              "          0,   0],\n",
              "       [  0,   0,   0,   0,   0,   0,   0,   0,   0,   0,   0,  11, 190,\n",
              "        253,  70,   0,   0,   0,   0,   0,   0,   0,   0,   0,   0,   0,\n",
              "          0,   0],\n",
              "       [  0,   0,   0,   0,   0,   0,   0,   0,   0,   0,   0,   0,  35,\n",
              "        241, 225, 160, 108,   1,   0,   0,   0,   0,   0,   0,   0,   0,\n",
              "          0,   0],\n",
              "       [  0,   0,   0,   0,   0,   0,   0,   0,   0,   0,   0,   0,   0,\n",
              "         81, 240, 253, 253, 119,  25,   0,   0,   0,   0,   0,   0,   0,\n",
              "          0,   0],\n",
              "       [  0,   0,   0,   0,   0,   0,   0,   0,   0,   0,   0,   0,   0,\n",
              "          0,  45, 186, 253, 253, 150,  27,   0,   0,   0,   0,   0,   0,\n",
              "          0,   0],\n",
              "       [  0,   0,   0,   0,   0,   0,   0,   0,   0,   0,   0,   0,   0,\n",
              "          0,   0,  16,  93, 252, 253, 187,   0,   0,   0,   0,   0,   0,\n",
              "          0,   0],\n",
              "       [  0,   0,   0,   0,   0,   0,   0,   0,   0,   0,   0,   0,   0,\n",
              "          0,   0,   0,   0, 249, 253, 249,  64,   0,   0,   0,   0,   0,\n",
              "          0,   0],\n",
              "       [  0,   0,   0,   0,   0,   0,   0,   0,   0,   0,   0,   0,   0,\n",
              "          0,  46, 130, 183, 253, 253, 207,   2,   0,   0,   0,   0,   0,\n",
              "          0,   0],\n",
              "       [  0,   0,   0,   0,   0,   0,   0,   0,   0,   0,   0,   0,  39,\n",
              "        148, 229, 253, 253, 253, 250, 182,   0,   0,   0,   0,   0,   0,\n",
              "          0,   0],\n",
              "       [  0,   0,   0,   0,   0,   0,   0,   0,   0,   0,  24, 114, 221,\n",
              "        253, 253, 253, 253, 201,  78,   0,   0,   0,   0,   0,   0,   0,\n",
              "          0,   0],\n",
              "       [  0,   0,   0,   0,   0,   0,   0,   0,  23,  66, 213, 253, 253,\n",
              "        253, 253, 198,  81,   2,   0,   0,   0,   0,   0,   0,   0,   0,\n",
              "          0,   0],\n",
              "       [  0,   0,   0,   0,   0,   0,  18, 171, 219, 253, 253, 253, 253,\n",
              "        195,  80,   9,   0,   0,   0,   0,   0,   0,   0,   0,   0,   0,\n",
              "          0,   0],\n",
              "       [  0,   0,   0,   0,  55, 172, 226, 253, 253, 253, 253, 244, 133,\n",
              "         11,   0,   0,   0,   0,   0,   0,   0,   0,   0,   0,   0,   0,\n",
              "          0,   0],\n",
              "       [  0,   0,   0,   0, 136, 253, 253, 253, 212, 135, 132,  16,   0,\n",
              "          0,   0,   0,   0,   0,   0,   0,   0,   0,   0,   0,   0,   0,\n",
              "          0,   0],\n",
              "       [  0,   0,   0,   0,   0,   0,   0,   0,   0,   0,   0,   0,   0,\n",
              "          0,   0,   0,   0,   0,   0,   0,   0,   0,   0,   0,   0,   0,\n",
              "          0,   0],\n",
              "       [  0,   0,   0,   0,   0,   0,   0,   0,   0,   0,   0,   0,   0,\n",
              "          0,   0,   0,   0,   0,   0,   0,   0,   0,   0,   0,   0,   0,\n",
              "          0,   0],\n",
              "       [  0,   0,   0,   0,   0,   0,   0,   0,   0,   0,   0,   0,   0,\n",
              "          0,   0,   0,   0,   0,   0,   0,   0,   0,   0,   0,   0,   0,\n",
              "          0,   0]], dtype=uint8)</pre></div><script>\n",
              "      (() => {\n",
              "      const titles = ['show data', 'hide data'];\n",
              "      let index = 0\n",
              "      document.querySelector('#id-f6ad680d-c43e-481f-8cb6-3e622cd0ed92 button').onclick = (e) => {\n",
              "        document.querySelector('#id-f6ad680d-c43e-481f-8cb6-3e622cd0ed92').classList.toggle('show_array');\n",
              "        index = (++index) % 2;\n",
              "        document.querySelector('#id-f6ad680d-c43e-481f-8cb6-3e622cd0ed92 button').textContent = titles[index];\n",
              "        e.preventDefault();\n",
              "        e.stopPropagation();\n",
              "      }\n",
              "      })();\n",
              "    </script>"
            ]
          },
          "metadata": {},
          "execution_count": 11
        }
      ]
    },
    {
      "cell_type": "code",
      "source": [
        "x_train[0].shape"
      ],
      "metadata": {
        "colab": {
          "base_uri": "https://localhost:8080/"
        },
        "id": "px3spSIx7Td4",
        "outputId": "7462d939-57de-45bd-9d38-ff26e522f895"
      },
      "execution_count": 12,
      "outputs": [
        {
          "output_type": "execute_result",
          "data": {
            "text/plain": [
              "(28, 28)"
            ]
          },
          "metadata": {},
          "execution_count": 12
        }
      ]
    },
    {
      "cell_type": "code",
      "source": [
        "plt.matshow(x_train[0])\n",
        "plt.show()"
      ],
      "metadata": {
        "colab": {
          "base_uri": "https://localhost:8080/",
          "height": 437
        },
        "id": "3ILJU1jU7W7w",
        "outputId": "a56bd98e-d7e8-4aa9-9dc2-59dd8a29ad2f"
      },
      "execution_count": 13,
      "outputs": [
        {
          "output_type": "display_data",
          "data": {
            "text/plain": [
              "<Figure size 480x480 with 1 Axes>"
            ],
            "image/png": "[encoded data removed]"
          },
          "metadata": {}
        }
      ]
    },
    {
      "cell_type": "code",
      "source": [
        "y_train[0]"
      ],
      "metadata": {
        "colab": {
          "base_uri": "https://localhost:8080/"
        },
        "id": "Y6YzEHrl7hL1",
        "outputId": "cd8c3126-d9a3-4c86-ee6a-3a288e3634fc"
      },
      "execution_count": 14,
      "outputs": [
        {
          "output_type": "execute_result",
          "data": {
            "text/plain": [
              "5"
            ]
          },
          "metadata": {},
          "execution_count": 14
        }
      ]
    },
    {
      "cell_type": "markdown",
      "source": [
        "**NOW WE NEED TO DO SCALING SO THAT DATA (PIXEL VALUES) LIE BETWEEN 0 TO 1**"
      ],
      "metadata": {
        "id": "yRbM2c6V7uiJ"
      }
    },
    {
      "cell_type": "code",
      "source": [
        "x_train=x_train/255\n",
        "x_test=x_test/255"
      ],
      "metadata": {
        "id": "aYdGnYm77s0e"
      },
      "execution_count": 15,
      "outputs": []
    },
    {
      "cell_type": "code",
      "source": [
        "x_train[0]"
      ],
      "metadata": {
        "colab": {
          "base_uri": "https://localhost:8080/"
        },
        "id": "VKfkLlzl755L",
        "outputId": "526b6c56-ccfc-4994-fe55-a3598d562c65"
      },
      "execution_count": 16,
      "outputs": [
        {
          "output_type": "execute_result",
          "data": {
            "text/plain": [
              "array([[0.        , 0.        , 0.        , 0.        , 0.        ,\n",
              "        0.        , 0.        , 0.        , 0.        , 0.        ,\n",
              "        0.        , 0.        , 0.        , 0.        , 0.        ,\n",
              "        0.        , 0.        , 0.        , 0.        , 0.        ,\n",
              "        0.        , 0.        , 0.        , 0.        , 0.        ,\n",
              "        0.        , 0.        , 0.        ],\n",
              "       [0.        , 0.        , 0.        , 0.        , 0.        ,\n",
              "        0.        , 0.        , 0.        , 0.        , 0.        ,\n",
              "        0.        , 0.        , 0.        , 0.        , 0.        ,\n",
              "        0.        , 0.        , 0.        , 0.        , 0.        ,\n",
              "        0.        , 0.        , 0.        , 0.        , 0.        ,\n",
              "        0.        , 0.        , 0.        ],\n",
              "       [0.        , 0.        , 0.        , 0.        , 0.        ,\n",
              "        0.        , 0.        , 0.        , 0.        , 0.        ,\n",
              "        0.        , 0.        , 0.        , 0.        , 0.        ,\n",
              "        0.        , 0.        , 0.        , 0.        , 0.        ,\n",
              "        0.        , 0.        , 0.        , 0.        , 0.        ,\n",
              "        0.        , 0.        , 0.        ],\n",
              "       [0.        , 0.        , 0.        , 0.        , 0.        ,\n",
              "        0.        , 0.        , 0.        , 0.        , 0.        ,\n",
              "        0.        , 0.        , 0.        , 0.        , 0.        ,\n",
              "        0.        , 0.        , 0.        , 0.        , 0.        ,\n",
              "        0.        , 0.        , 0.        , 0.        , 0.        ,\n",
              "        0.        , 0.        , 0.        ],\n",
              "       [0.        , 0.        , 0.        , 0.        , 0.        ,\n",
              "        0.        , 0.        , 0.        , 0.        , 0.        ,\n",
              "        0.        , 0.        , 0.        , 0.        , 0.        ,\n",
              "        0.        , 0.        , 0.        , 0.        , 0.        ,\n",
              "        0.        , 0.        , 0.        , 0.        , 0.        ,\n",
              "        0.        , 0.        , 0.        ],\n",
              "       [0.        , 0.        , 0.        , 0.        , 0.        ,\n",
              "        0.        , 0.        , 0.        , 0.        , 0.        ,\n",
              "        0.        , 0.        , 0.01176471, 0.07058824, 0.07058824,\n",
              "        0.07058824, 0.49411765, 0.53333333, 0.68627451, 0.10196078,\n",
              "        0.65098039, 1.        , 0.96862745, 0.49803922, 0.        ,\n",
              "        0.        , 0.        , 0.        ],\n",
              "       [0.        , 0.        , 0.        , 0.        , 0.        ,\n",
              "        0.        , 0.        , 0.        , 0.11764706, 0.14117647,\n",
              "        0.36862745, 0.60392157, 0.66666667, 0.99215686, 0.99215686,\n",
              "        0.99215686, 0.99215686, 0.99215686, 0.88235294, 0.6745098 ,\n",
              "        0.99215686, 0.94901961, 0.76470588, 0.25098039, 0.        ,\n",
              "        0.        , 0.        , 0.        ],\n",
              "       [0.        , 0.        , 0.        , 0.        , 0.        ,\n",
              "        0.        , 0.        , 0.19215686, 0.93333333, 0.99215686,\n",
              "        0.99215686, 0.99215686, 0.99215686, 0.99215686, 0.99215686,\n",
              "        0.99215686, 0.99215686, 0.98431373, 0.36470588, 0.32156863,\n",
              "        0.32156863, 0.21960784, 0.15294118, 0.        , 0.        ,\n",
              "        0.        , 0.        , 0.        ],\n",
              "       [0.        , 0.        , 0.        , 0.        , 0.        ,\n",
              "        0.        , 0.        , 0.07058824, 0.85882353, 0.99215686,\n",
              "        0.99215686, 0.99215686, 0.99215686, 0.99215686, 0.77647059,\n",
              "        0.71372549, 0.96862745, 0.94509804, 0.        , 0.        ,\n",
              "        0.        , 0.        , 0.        , 0.        , 0.        ,\n",
              "        0.        , 0.        , 0.        ],\n",
              "       [0.        , 0.        , 0.        , 0.        , 0.        ,\n",
              "        0.        , 0.        , 0.        , 0.31372549, 0.61176471,\n",
              "        0.41960784, 0.99215686, 0.99215686, 0.80392157, 0.04313725,\n",
              "        0.        , 0.16862745, 0.60392157, 0.        , 0.        ,\n",
              "        0.        , 0.        , 0.        , 0.        , 0.        ,\n",
              "        0.        , 0.        , 0.        ],\n",
              "       [0.        , 0.        , 0.        , 0.        , 0.        ,\n",
              "        0.        , 0.        , 0.        , 0.        , 0.05490196,\n",
              "        0.00392157, 0.60392157, 0.99215686, 0.35294118, 0.        ,\n",
              "        0.        , 0.        , 0.        , 0.        , 0.        ,\n",
              "        0.        , 0.        , 0.        , 0.        , 0.        ,\n",
              "        0.        , 0.        , 0.        ],\n",
              "       [0.        , 0.        , 0.        , 0.        , 0.        ,\n",
              "        0.        , 0.        , 0.        , 0.        , 0.        ,\n",
              "        0.        , 0.54509804, 0.99215686, 0.74509804, 0.00784314,\n",
              "        0.        , 0.        , 0.        , 0.        , 0.        ,\n",
              "        0.        , 0.        , 0.        , 0.        , 0.        ,\n",
              "        0.        , 0.        , 0.        ],\n",
              "       [0.        , 0.        , 0.        , 0.        , 0.        ,\n",
              "        0.        , 0.        , 0.        , 0.        , 0.        ,\n",
              "        0.        , 0.04313725, 0.74509804, 0.99215686, 0.2745098 ,\n",
              "        0.        , 0.        , 0.        , 0.        , 0.        ,\n",
              "        0.        , 0.        , 0.        , 0.        , 0.        ,\n",
              "        0.        , 0.        , 0.        ],\n",
              "       [0.        , 0.        , 0.        , 0.        , 0.        ,\n",
              "        0.        , 0.        , 0.        , 0.        , 0.        ,\n",
              "        0.        , 0.        , 0.1372549 , 0.94509804, 0.88235294,\n",
              "        0.62745098, 0.42352941, 0.00392157, 0.        , 0.        ,\n",
              "        0.        , 0.        , 0.        , 0.        , 0.        ,\n",
              "        0.        , 0.        , 0.        ],\n",
              "       [0.        , 0.        , 0.        , 0.        , 0.        ,\n",
              "        0.        , 0.        , 0.        , 0.        , 0.        ,\n",
              "        0.        , 0.        , 0.        , 0.31764706, 0.94117647,\n",
              "        0.99215686, 0.99215686, 0.46666667, 0.09803922, 0.        ,\n",
              "        0.        , 0.        , 0.        , 0.        , 0.        ,\n",
              "        0.        , 0.        , 0.        ],\n",
              "       [0.        , 0.        , 0.        , 0.        , 0.        ,\n",
              "        0.        , 0.        , 0.        , 0.        , 0.        ,\n",
              "        0.        , 0.        , 0.        , 0.        , 0.17647059,\n",
              "        0.72941176, 0.99215686, 0.99215686, 0.58823529, 0.10588235,\n",
              "        0.        , 0.        , 0.        , 0.        , 0.        ,\n",
              "        0.        , 0.        , 0.        ],\n",
              "       [0.        , 0.        , 0.        , 0.        , 0.        ,\n",
              "        0.        , 0.        , 0.        , 0.        , 0.        ,\n",
              "        0.        , 0.        , 0.        , 0.        , 0.        ,\n",
              "        0.0627451 , 0.36470588, 0.98823529, 0.99215686, 0.73333333,\n",
              "        0.        , 0.        , 0.        , 0.        , 0.        ,\n",
              "        0.        , 0.        , 0.        ],\n",
              "       [0.        , 0.        , 0.        , 0.        , 0.        ,\n",
              "        0.        , 0.        , 0.        , 0.        , 0.        ,\n",
              "        0.        , 0.        , 0.        , 0.        , 0.        ,\n",
              "        0.        , 0.        , 0.97647059, 0.99215686, 0.97647059,\n",
              "        0.25098039, 0.        , 0.        , 0.        , 0.        ,\n",
              "        0.        , 0.        , 0.        ],\n",
              "       [0.        , 0.        , 0.        , 0.        , 0.        ,\n",
              "        0.        , 0.        , 0.        , 0.        , 0.        ,\n",
              "        0.        , 0.        , 0.        , 0.        , 0.18039216,\n",
              "        0.50980392, 0.71764706, 0.99215686, 0.99215686, 0.81176471,\n",
              "        0.00784314, 0.        , 0.        , 0.        , 0.        ,\n",
              "        0.        , 0.        , 0.        ],\n",
              "       [0.        , 0.        , 0.        , 0.        , 0.        ,\n",
              "        0.        , 0.        , 0.        , 0.        , 0.        ,\n",
              "        0.        , 0.        , 0.15294118, 0.58039216, 0.89803922,\n",
              "        0.99215686, 0.99215686, 0.99215686, 0.98039216, 0.71372549,\n",
              "        0.        , 0.        , 0.        , 0.        , 0.        ,\n",
              "        0.        , 0.        , 0.        ],\n",
              "       [0.        , 0.        , 0.        , 0.        , 0.        ,\n",
              "        0.        , 0.        , 0.        , 0.        , 0.        ,\n",
              "        0.09411765, 0.44705882, 0.86666667, 0.99215686, 0.99215686,\n",
              "        0.99215686, 0.99215686, 0.78823529, 0.30588235, 0.        ,\n",
              "        0.        , 0.        , 0.        , 0.        , 0.        ,\n",
              "        0.        , 0.        , 0.        ],\n",
              "       [0.        , 0.        , 0.        , 0.        , 0.        ,\n",
              "        0.        , 0.        , 0.        , 0.09019608, 0.25882353,\n",
              "        0.83529412, 0.99215686, 0.99215686, 0.99215686, 0.99215686,\n",
              "        0.77647059, 0.31764706, 0.00784314, 0.        , 0.        ,\n",
              "        0.        , 0.        , 0.        , 0.        , 0.        ,\n",
              "        0.        , 0.        , 0.        ],\n",
              "       [0.        , 0.        , 0.        , 0.        , 0.        ,\n",
              "        0.        , 0.07058824, 0.67058824, 0.85882353, 0.99215686,\n",
              "        0.99215686, 0.99215686, 0.99215686, 0.76470588, 0.31372549,\n",
              "        0.03529412, 0.        , 0.        , 0.        , 0.        ,\n",
              "        0.        , 0.        , 0.        , 0.        , 0.        ,\n",
              "        0.        , 0.        , 0.        ],\n",
              "       [0.        , 0.        , 0.        , 0.        , 0.21568627,\n",
              "        0.6745098 , 0.88627451, 0.99215686, 0.99215686, 0.99215686,\n",
              "        0.99215686, 0.95686275, 0.52156863, 0.04313725, 0.        ,\n",
              "        0.        , 0.        , 0.        , 0.        , 0.        ,\n",
              "        0.        , 0.        , 0.        , 0.        , 0.        ,\n",
              "        0.        , 0.        , 0.        ],\n",
              "       [0.        , 0.        , 0.        , 0.        , 0.53333333,\n",
              "        0.99215686, 0.99215686, 0.99215686, 0.83137255, 0.52941176,\n",
              "        0.51764706, 0.0627451 , 0.        , 0.        , 0.        ,\n",
              "        0.        , 0.        , 0.        , 0.        , 0.        ,\n",
              "        0.        , 0.        , 0.        , 0.        , 0.        ,\n",
              "        0.        , 0.        , 0.        ],\n",
              "       [0.        , 0.        , 0.        , 0.        , 0.        ,\n",
              "        0.        , 0.        , 0.        , 0.        , 0.        ,\n",
              "        0.        , 0.        , 0.        , 0.        , 0.        ,\n",
              "        0.        , 0.        , 0.        , 0.        , 0.        ,\n",
              "        0.        , 0.        , 0.        , 0.        , 0.        ,\n",
              "        0.        , 0.        , 0.        ],\n",
              "       [0.        , 0.        , 0.        , 0.        , 0.        ,\n",
              "        0.        , 0.        , 0.        , 0.        , 0.        ,\n",
              "        0.        , 0.        , 0.        , 0.        , 0.        ,\n",
              "        0.        , 0.        , 0.        , 0.        , 0.        ,\n",
              "        0.        , 0.        , 0.        , 0.        , 0.        ,\n",
              "        0.        , 0.        , 0.        ],\n",
              "       [0.        , 0.        , 0.        , 0.        , 0.        ,\n",
              "        0.        , 0.        , 0.        , 0.        , 0.        ,\n",
              "        0.        , 0.        , 0.        , 0.        , 0.        ,\n",
              "        0.        , 0.        , 0.        , 0.        , 0.        ,\n",
              "        0.        , 0.        , 0.        , 0.        , 0.        ,\n",
              "        0.        , 0.        , 0.        ]])"
            ]
          },
          "metadata": {},
          "execution_count": 16
        }
      ]
    },
    {
      "cell_type": "markdown",
      "source": [
        "**NOW WE NEED TO FLATTEN THE 2D MATRIX(IMAGE) INTO 1 D ARRAY**"
      ],
      "metadata": {
        "id": "ptcodkPa8ITY"
      }
    },
    {
      "cell_type": "code",
      "source": [
        "x_train_flat=x_train.reshape(len(x_train),28*28)   #28*28 after flattening\n",
        "x_test_flat=x_test.reshape(len(x_test),28*28)"
      ],
      "metadata": {
        "id": "7-LGtpXg8Eqx"
      },
      "execution_count": 17,
      "outputs": []
    },
    {
      "cell_type": "markdown",
      "source": [
        "***here*** ![image.png](data:image/png;base64,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)"
      ],
      "metadata": {
        "id": "iDTvbD5p87Jm"
      }
    },
    {
      "cell_type": "markdown",
      "source": [
        "![image.png](data:image/png;base64,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)"
      ],
      "metadata": {
        "id": "04OGm_YJ9OfO"
      }
    },
    {
      "cell_type": "code",
      "source": [
        "#earlier\n",
        "x_train.shape"
      ],
      "metadata": {
        "colab": {
          "base_uri": "https://localhost:8080/"
        },
        "id": "iDt5pMD688Zk",
        "outputId": "622b770a-a816-4b03-cb62-f20545a293f1"
      },
      "execution_count": 18,
      "outputs": [
        {
          "output_type": "execute_result",
          "data": {
            "text/plain": [
              "(60000, 28, 28)"
            ]
          },
          "metadata": {},
          "execution_count": 18
        }
      ]
    },
    {
      "cell_type": "code",
      "source": [
        "x_train_flat.shape"
      ],
      "metadata": {
        "colab": {
          "base_uri": "https://localhost:8080/"
        },
        "id": "SnoErcKu9jp-",
        "outputId": "05d5a85c-8923-47b4-c16f-6003c17cee72"
      },
      "execution_count": 19,
      "outputs": [
        {
          "output_type": "execute_result",
          "data": {
            "text/plain": [
              "(60000, 784)"
            ]
          },
          "metadata": {},
          "execution_count": 19
        }
      ]
    },
    {
      "cell_type": "code",
      "source": [
        "x_train_flat[0].shape"
      ],
      "metadata": {
        "colab": {
          "base_uri": "https://localhost:8080/"
        },
        "id": "uTHwKo6x9m09",
        "outputId": "98df7757-01d9-464d-9fe6-4f3c7a433816"
      },
      "execution_count": 20,
      "outputs": [
        {
          "output_type": "execute_result",
          "data": {
            "text/plain": [
              "(784,)"
            ]
          },
          "metadata": {},
          "execution_count": 20
        }
      ]
    },
    {
      "cell_type": "code",
      "source": [
        "x_train_flat[0]"
      ],
      "metadata": {
        "colab": {
          "base_uri": "https://localhost:8080/"
        },
        "id": "xWdb91_B9yih",
        "outputId": "74e25814-b633-4dde-8ec9-1966ad4c8c67"
      },
      "execution_count": 21,
      "outputs": [
        {
          "output_type": "execute_result",
          "data": {
            "text/plain": [
              "array([0.        , 0.        , 0.        , 0.        , 0.        ,\n",
              "       0.        , 0.        , 0.        , 0.        , 0.        ,\n",
              "       0.        , 0.        , 0.        , 0.        , 0.        ,\n",
              "       0.        , 0.        , 0.        , 0.        , 0.        ,\n",
              "       0.        , 0.        , 0.        , 0.        , 0.        ,\n",
              "       0.        , 0.        , 0.        , 0.        , 0.        ,\n",
              "       0.        , 0.        , 0.        , 0.        , 0.        ,\n",
              "       0.        , 0.        , 0.        , 0.        , 0.        ,\n",
              "       0.        , 0.        , 0.        , 0.        , 0.        ,\n",
              "       0.        , 0.        , 0.        , 0.        , 0.        ,\n",
              "       0.        , 0.        , 0.        , 0.        , 0.        ,\n",
              "       0.        , 0.        , 0.        , 0.        , 0.        ,\n",
              "       0.        , 0.        , 0.        , 0.        , 0.        ,\n",
              "       0.        , 0.        , 0.        , 0.        , 0.        ,\n",
              "       0.        , 0.        , 0.        , 0.        , 0.        ,\n",
              "       0.        , 0.        , 0.        , 0.        , 0.        ,\n",
              "       0.        , 0.        , 0.        , 0.        , 0.        ,\n",
              "       0.        , 0.        , 0.        , 0.        , 0.        ,\n",
              "       0.        , 0.        , 0.        , 0.        , 0.        ,\n",
              "       0.        , 0.        , 0.        , 0.        , 0.        ,\n",
              "       0.        , 0.        , 0.        , 0.        , 0.        ,\n",
              "       0.        , 0.        , 0.        , 0.        , 0.        ,\n",
              "       0.        , 0.        , 0.        , 0.        , 0.        ,\n",
              "       0.        , 0.        , 0.        , 0.        , 0.        ,\n",
              "       0.        , 0.        , 0.        , 0.        , 0.        ,\n",
              "       0.        , 0.        , 0.        , 0.        , 0.        ,\n",
              "       0.        , 0.        , 0.        , 0.        , 0.        ,\n",
              "       0.        , 0.        , 0.        , 0.        , 0.        ,\n",
              "       0.        , 0.        , 0.        , 0.        , 0.        ,\n",
              "       0.        , 0.        , 0.        , 0.        , 0.        ,\n",
              "       0.        , 0.        , 0.01176471, 0.07058824, 0.07058824,\n",
              "       0.07058824, 0.49411765, 0.53333333, 0.68627451, 0.10196078,\n",
              "       0.65098039, 1.        , 0.96862745, 0.49803922, 0.        ,\n",
              "       0.        , 0.        , 0.        , 0.        , 0.        ,\n",
              "       0.        , 0.        , 0.        , 0.        , 0.        ,\n",
              "       0.        , 0.11764706, 0.14117647, 0.36862745, 0.60392157,\n",
              "       0.66666667, 0.99215686, 0.99215686, 0.99215686, 0.99215686,\n",
              "       0.99215686, 0.88235294, 0.6745098 , 0.99215686, 0.94901961,\n",
              "       0.76470588, 0.25098039, 0.        , 0.        , 0.        ,\n",
              "       0.        , 0.        , 0.        , 0.        , 0.        ,\n",
              "       0.        , 0.        , 0.        , 0.19215686, 0.93333333,\n",
              "       0.99215686, 0.99215686, 0.99215686, 0.99215686, 0.99215686,\n",
              "       0.99215686, 0.99215686, 0.99215686, 0.98431373, 0.36470588,\n",
              "       0.32156863, 0.32156863, 0.21960784, 0.15294118, 0.        ,\n",
              "       0.        , 0.        , 0.        , 0.        , 0.        ,\n",
              "       0.        , 0.        , 0.        , 0.        , 0.        ,\n",
              "       0.        , 0.07058824, 0.85882353, 0.99215686, 0.99215686,\n",
              "       0.99215686, 0.99215686, 0.99215686, 0.77647059, 0.71372549,\n",
              "       0.96862745, 0.94509804, 0.        , 0.        , 0.        ,\n",
              "       0.        , 0.        , 0.        , 0.        , 0.        ,\n",
              "       0.        , 0.        , 0.        , 0.        , 0.        ,\n",
              "       0.        , 0.        , 0.        , 0.        , 0.        ,\n",
              "       0.31372549, 0.61176471, 0.41960784, 0.99215686, 0.99215686,\n",
              "       0.80392157, 0.04313725, 0.        , 0.16862745, 0.60392157,\n",
              "       0.        , 0.        , 0.        , 0.        , 0.        ,\n",
              "       0.        , 0.        , 0.        , 0.        , 0.        ,\n",
              "       0.        , 0.        , 0.        , 0.        , 0.        ,\n",
              "       0.        , 0.        , 0.        , 0.        , 0.05490196,\n",
              "       0.00392157, 0.60392157, 0.99215686, 0.35294118, 0.        ,\n",
              "       0.        , 0.        , 0.        , 0.        , 0.        ,\n",
              "       0.        , 0.        , 0.        , 0.        , 0.        ,\n",
              "       0.        , 0.        , 0.        , 0.        , 0.        ,\n",
              "       0.        , 0.        , 0.        , 0.        , 0.        ,\n",
              "       0.        , 0.        , 0.        , 0.        , 0.54509804,\n",
              "       0.99215686, 0.74509804, 0.00784314, 0.        , 0.        ,\n",
              "       0.        , 0.        , 0.        , 0.        , 0.        ,\n",
              "       0.        , 0.        , 0.        , 0.        , 0.        ,\n",
              "       0.        , 0.        , 0.        , 0.        , 0.        ,\n",
              "       0.        , 0.        , 0.        , 0.        , 0.        ,\n",
              "       0.        , 0.        , 0.04313725, 0.74509804, 0.99215686,\n",
              "       0.2745098 , 0.        , 0.        , 0.        , 0.        ,\n",
              "       0.        , 0.        , 0.        , 0.        , 0.        ,\n",
              "       0.        , 0.        , 0.        , 0.        , 0.        ,\n",
              "       0.        , 0.        , 0.        , 0.        , 0.        ,\n",
              "       0.        , 0.        , 0.        , 0.        , 0.        ,\n",
              "       0.        , 0.1372549 , 0.94509804, 0.88235294, 0.62745098,\n",
              "       0.42352941, 0.00392157, 0.        , 0.        , 0.        ,\n",
              "       0.        , 0.        , 0.        , 0.        , 0.        ,\n",
              "       0.        , 0.        , 0.        , 0.        , 0.        ,\n",
              "       0.        , 0.        , 0.        , 0.        , 0.        ,\n",
              "       0.        , 0.        , 0.        , 0.        , 0.        ,\n",
              "       0.31764706, 0.94117647, 0.99215686, 0.99215686, 0.46666667,\n",
              "       0.09803922, 0.        , 0.        , 0.        , 0.        ,\n",
              "       0.        , 0.        , 0.        , 0.        , 0.        ,\n",
              "       0.        , 0.        , 0.        , 0.        , 0.        ,\n",
              "       0.        , 0.        , 0.        , 0.        , 0.        ,\n",
              "       0.        , 0.        , 0.        , 0.        , 0.17647059,\n",
              "       0.72941176, 0.99215686, 0.99215686, 0.58823529, 0.10588235,\n",
              "       0.        , 0.        , 0.        , 0.        , 0.        ,\n",
              "       0.        , 0.        , 0.        , 0.        , 0.        ,\n",
              "       0.        , 0.        , 0.        , 0.        , 0.        ,\n",
              "       0.        , 0.        , 0.        , 0.        , 0.        ,\n",
              "       0.        , 0.        , 0.        , 0.0627451 , 0.36470588,\n",
              "       0.98823529, 0.99215686, 0.73333333, 0.        , 0.        ,\n",
              "       0.        , 0.        , 0.        , 0.        , 0.        ,\n",
              "       0.        , 0.        , 0.        , 0.        , 0.        ,\n",
              "       0.        , 0.        , 0.        , 0.        , 0.        ,\n",
              "       0.        , 0.        , 0.        , 0.        , 0.        ,\n",
              "       0.        , 0.        , 0.        , 0.97647059, 0.99215686,\n",
              "       0.97647059, 0.25098039, 0.        , 0.        , 0.        ,\n",
              "       0.        , 0.        , 0.        , 0.        , 0.        ,\n",
              "       0.        , 0.        , 0.        , 0.        , 0.        ,\n",
              "       0.        , 0.        , 0.        , 0.        , 0.        ,\n",
              "       0.        , 0.        , 0.        , 0.18039216, 0.50980392,\n",
              "       0.71764706, 0.99215686, 0.99215686, 0.81176471, 0.00784314,\n",
              "       0.        , 0.        , 0.        , 0.        , 0.        ,\n",
              "       0.        , 0.        , 0.        , 0.        , 0.        ,\n",
              "       0.        , 0.        , 0.        , 0.        , 0.        ,\n",
              "       0.        , 0.        , 0.        , 0.        , 0.15294118,\n",
              "       0.58039216, 0.89803922, 0.99215686, 0.99215686, 0.99215686,\n",
              "       0.98039216, 0.71372549, 0.        , 0.        , 0.        ,\n",
              "       0.        , 0.        , 0.        , 0.        , 0.        ,\n",
              "       0.        , 0.        , 0.        , 0.        , 0.        ,\n",
              "       0.        , 0.        , 0.        , 0.        , 0.        ,\n",
              "       0.09411765, 0.44705882, 0.86666667, 0.99215686, 0.99215686,\n",
              "       0.99215686, 0.99215686, 0.78823529, 0.30588235, 0.        ,\n",
              "       0.        , 0.        , 0.        , 0.        , 0.        ,\n",
              "       0.        , 0.        , 0.        , 0.        , 0.        ,\n",
              "       0.        , 0.        , 0.        , 0.        , 0.        ,\n",
              "       0.        , 0.09019608, 0.25882353, 0.83529412, 0.99215686,\n",
              "       0.99215686, 0.99215686, 0.99215686, 0.77647059, 0.31764706,\n",
              "       0.00784314, 0.        , 0.        , 0.        , 0.        ,\n",
              "       0.        , 0.        , 0.        , 0.        , 0.        ,\n",
              "       0.        , 0.        , 0.        , 0.        , 0.        ,\n",
              "       0.        , 0.        , 0.07058824, 0.67058824, 0.85882353,\n",
              "       0.99215686, 0.99215686, 0.99215686, 0.99215686, 0.76470588,\n",
              "       0.31372549, 0.03529412, 0.        , 0.        , 0.        ,\n",
              "       0.        , 0.        , 0.        , 0.        , 0.        ,\n",
              "       0.        , 0.        , 0.        , 0.        , 0.        ,\n",
              "       0.        , 0.        , 0.        , 0.21568627, 0.6745098 ,\n",
              "       0.88627451, 0.99215686, 0.99215686, 0.99215686, 0.99215686,\n",
              "       0.95686275, 0.52156863, 0.04313725, 0.        , 0.        ,\n",
              "       0.        , 0.        , 0.        , 0.        , 0.        ,\n",
              "       0.        , 0.        , 0.        , 0.        , 0.        ,\n",
              "       0.        , 0.        , 0.        , 0.        , 0.        ,\n",
              "       0.        , 0.53333333, 0.99215686, 0.99215686, 0.99215686,\n",
              "       0.83137255, 0.52941176, 0.51764706, 0.0627451 , 0.        ,\n",
              "       0.        , 0.        , 0.        , 0.        , 0.        ,\n",
              "       0.        , 0.        , 0.        , 0.        , 0.        ,\n",
              "       0.        , 0.        , 0.        , 0.        , 0.        ,\n",
              "       0.        , 0.        , 0.        , 0.        , 0.        ,\n",
              "       0.        , 0.        , 0.        , 0.        , 0.        ,\n",
              "       0.        , 0.        , 0.        , 0.        , 0.        ,\n",
              "       0.        , 0.        , 0.        , 0.        , 0.        ,\n",
              "       0.        , 0.        , 0.        , 0.        , 0.        ,\n",
              "       0.        , 0.        , 0.        , 0.        , 0.        ,\n",
              "       0.        , 0.        , 0.        , 0.        , 0.        ,\n",
              "       0.        , 0.        , 0.        , 0.        , 0.        ,\n",
              "       0.        , 0.        , 0.        , 0.        , 0.        ,\n",
              "       0.        , 0.        , 0.        , 0.        , 0.        ,\n",
              "       0.        , 0.        , 0.        , 0.        , 0.        ,\n",
              "       0.        , 0.        , 0.        , 0.        , 0.        ,\n",
              "       0.        , 0.        , 0.        , 0.        , 0.        ,\n",
              "       0.        , 0.        , 0.        , 0.        , 0.        ,\n",
              "       0.        , 0.        , 0.        , 0.        , 0.        ,\n",
              "       0.        , 0.        , 0.        , 0.        , 0.        ,\n",
              "       0.        , 0.        , 0.        , 0.        ])"
            ]
          },
          "metadata": {},
          "execution_count": 21
        }
      ]
    },
    {
      "cell_type": "markdown",
      "source": [
        "## ***For Very simple neural network with no hidden layers***"
      ],
      "metadata": {
        "id": "vyFyTyUb-ESd"
      }
    },
    {
      "cell_type": "code",
      "source": [
        "from keras import Sequential\n",
        "from keras.layers import Dense"
      ],
      "metadata": {
        "id": "l9N2XhYJ-VnZ"
      },
      "execution_count": 22,
      "outputs": []
    },
    {
      "cell_type": "code",
      "source": [
        "model= Sequential([\n",
        "    Dense(10,input_shape=(784,),activation='sigmoid')\n",
        "])\n",
        "model.compile(optimizer='adam',\n",
        "              loss='sparse_categorical_crossentropy',\n",
        "              metrics=['accuracy']\n",
        "               )\n",
        "model.fit(x_train_flat,y_train,epochs=5)"
      ],
      "metadata": {
        "colab": {
          "base_uri": "https://localhost:8080/"
        },
        "id": "Rdqf5PwM95II",
        "outputId": "2acbb92c-a99c-4d11-bb76-4d94482f49da"
      },
      "execution_count": 23,
      "outputs": [
        {
          "output_type": "stream",
          "name": "stdout",
          "text": [
            "Epoch 1/5\n",
            "1875/1875 [==============================] - 23s 11ms/step - loss: 0.4704 - accuracy: 0.8778\n",
            "Epoch 2/5\n",
            "1875/1875 [==============================] - 19s 10ms/step - loss: 0.3038 - accuracy: 0.9154\n",
            "Epoch 3/5\n",
            "1875/1875 [==============================] - 11s 6ms/step - loss: 0.2831 - accuracy: 0.9211\n",
            "Epoch 4/5\n",
            "1875/1875 [==============================] - 10s 5ms/step - loss: 0.2734 - accuracy: 0.9239\n",
            "Epoch 5/5\n",
            "1875/1875 [==============================] - 7s 4ms/step - loss: 0.2665 - accuracy: 0.9255\n"
          ]
        },
        {
          "output_type": "execute_result",
          "data": {
            "text/plain": [
              "<keras.src.callbacks.History at 0x799d0c203130>"
            ]
          },
          "metadata": {},
          "execution_count": 23
        }
      ]
    },
    {
      "cell_type": "code",
      "source": [
        "model.evaluate(x_test_flat,y_test)"
      ],
      "metadata": {
        "colab": {
          "base_uri": "https://localhost:8080/"
        },
        "id": "Q9VQJefF_GLe",
        "outputId": "b1056894-de01-4f5e-c45e-717a10576518"
      },
      "execution_count": 24,
      "outputs": [
        {
          "output_type": "stream",
          "name": "stdout",
          "text": [
            "313/313 [==============================] - 1s 3ms/step - loss: 0.2649 - accuracy: 0.9260\n"
          ]
        },
        {
          "output_type": "execute_result",
          "data": {
            "text/plain": [
              "[0.2649056613445282, 0.9259999990463257]"
            ]
          },
          "metadata": {},
          "execution_count": 24
        }
      ]
    },
    {
      "cell_type": "code",
      "source": [
        "y_pred=model.predict(x_test_flat)\n",
        "y_pred[1]"
      ],
      "metadata": {
        "colab": {
          "base_uri": "https://localhost:8080/"
        },
        "id": "r45QOjBX_RtA",
        "outputId": "b94bb51b-e50e-476d-a67a-5f46a698075c"
      },
      "execution_count": 25,
      "outputs": [
        {
          "output_type": "stream",
          "name": "stdout",
          "text": [
            "313/313 [==============================] - 1s 2ms/step\n"
          ]
        },
        {
          "output_type": "execute_result",
          "data": {
            "text/plain": [
              "array([4.40953791e-01, 7.32162455e-03, 9.99366403e-01, 4.17915165e-01,\n",
              "       1.04974673e-09, 8.70808423e-01, 9.16930974e-01, 1.65548619e-12,\n",
              "       1.23707294e-01, 1.55414981e-09], dtype=float32)"
            ]
          },
          "metadata": {},
          "execution_count": 25
        }
      ]
    },
    {
      "cell_type": "markdown",
      "source": [
        "***For verification***"
      ],
      "metadata": {
        "id": "L_rRNCS-_lGE"
      }
    },
    {
      "cell_type": "code",
      "source": [
        "plt.matshow(x_test[1])\n",
        "plt.show()"
      ],
      "metadata": {
        "colab": {
          "base_uri": "https://localhost:8080/",
          "height": 437
        },
        "id": "Ta42FHpx_ocY",
        "outputId": "949d8934-c534-43e8-fb9d-bd674156d961"
      },
      "execution_count": 26,
      "outputs": [
        {
          "output_type": "display_data",
          "data": {
            "text/plain": [
              "<Figure size 480x480 with 1 Axes>"
            ],
            "image/png": "[encoded data removed]"
          },
          "metadata": {}
        }
      ]
    },
    {
      "cell_type": "markdown",
      "source": [
        "![image.png](data:image/png;base64,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)"
      ],
      "metadata": {
        "id": "lMACzdDPABGw"
      }
    },
    {
      "cell_type": "code",
      "source": [
        "np.argmax(y_pred[1])"
      ],
      "metadata": {
        "colab": {
          "base_uri": "https://localhost:8080/"
        },
        "id": "tu5lgBJA_tEB",
        "outputId": "3d36fb04-85a0-46fd-aa7d-b7cb5aa8c2a2"
      },
      "execution_count": 27,
      "outputs": [
        {
          "output_type": "execute_result",
          "data": {
            "text/plain": [
              "2"
            ]
          },
          "metadata": {},
          "execution_count": 27
        }
      ]
    },
    {
      "cell_type": "code",
      "source": [
        "y_pred_labels=[np.argmax(i) for i in y_pred]\n",
        "y_pred_labels[:10]"
      ],
      "metadata": {
        "colab": {
          "base_uri": "https://localhost:8080/"
        },
        "id": "PvmMkFqUAMmO",
        "outputId": "5b4ca807-5d49-4323-fe05-961f818c1b0f"
      },
      "execution_count": 28,
      "outputs": [
        {
          "output_type": "execute_result",
          "data": {
            "text/plain": [
              "[7, 2, 1, 0, 4, 1, 4, 9, 6, 9]"
            ]
          },
          "metadata": {},
          "execution_count": 28
        }
      ]
    },
    {
      "cell_type": "code",
      "source": [
        "#confusion matrix\n",
        "cm=tf.math.confusion_matrix(labels=y_test,predictions=y_pred_labels)\n",
        "cm"
      ],
      "metadata": {
        "colab": {
          "base_uri": "https://localhost:8080/"
        },
        "id": "PcIhcJVrAZjm",
        "outputId": "2660405c-a511-44bb-d764-538305dd75b6"
      },
      "execution_count": 29,
      "outputs": [
        {
          "output_type": "execute_result",
          "data": {
            "text/plain": [
              "<tf.Tensor: shape=(10, 10), dtype=int32, numpy=\n",
              "array([[ 963,    0,    1,    1,    0,    6,    5,    3,    1,    0],\n",
              "       [   0, 1119,    2,    2,    0,    1,    4,    2,    5,    0],\n",
              "       [   4,    9,  931,   15,   10,    5,   11,    9,   34,    4],\n",
              "       [   3,    0,   20,  917,    0,   26,    2,   11,   22,    9],\n",
              "       [   1,    2,    4,    1,  915,    0,   10,    4,    6,   39],\n",
              "       [   7,    3,    2,   30,   10,  783,   14,    6,   29,    8],\n",
              "       [  11,    3,    7,    1,    7,   14,  911,    2,    2,    0],\n",
              "       [   1,   10,   23,    4,    8,    0,    0,  946,    1,   35],\n",
              "       [   9,   13,    8,   20,    9,   31,    9,   12,  852,   11],\n",
              "       [  11,    7,    1,    8,   26,    8,    0,   20,    5,  923]],\n",
              "      dtype=int32)>"
            ]
          },
          "metadata": {},
          "execution_count": 29
        }
      ]
    },
    {
      "cell_type": "code",
      "source": [
        "#in heat map\n",
        "import seaborn as sns\n",
        "plt.figure(figsize=(10,7))\n",
        "sns.heatmap(cm, annot=True, fmt='d')\n",
        "plt.xlabel('Predicted')\n",
        "plt.ylabel('Truth')"
      ],
      "metadata": {
        "colab": {
          "base_uri": "https://localhost:8080/",
          "height": 524
        },
        "id": "Ir_EUEXmAtxe",
        "outputId": "e09e91bd-2c30-4607-f3f2-4f7e1c5de3a4"
      },
      "execution_count": 30,
      "outputs": [
        {
          "output_type": "execute_result",
          "data": {
            "text/plain": [
              "Text(95.72222222222221, 0.5, 'Truth')"
            ]
          },
          "metadata": {},
          "execution_count": 30
        },
        {
          "output_type": "display_data",
          "data": {
            "text/plain": [
              "<Figure size 1000x700 with 2 Axes>"
            ],
            "image/png": "[encoded data removed]"
          },
          "metadata": {}
        }
      ]
    },
    {
      "cell_type": "code",
      "source": [],
      "metadata": {
        "id": "x1BP_yajA50w"
      },
      "execution_count": 30,
      "outputs": []
    },
    {
      "cell_type": "markdown",
      "source": [
        "# ***Using Hidden Layers***"
      ],
      "metadata": {
        "id": "cRBrOcCtA-Lv"
      }
    },
    {
      "cell_type": "code",
      "source": [
        "model1= Sequential([\n",
        "    Dense(100,input_shape=(784,),activation='relu'),\n",
        "    Dense(10,activation='sigmoid')\n",
        "])\n",
        "model1.compile(\n",
        "    optimizer='adam',\n",
        "    loss='sparse_categorical_crossentropy',\n",
        "    metrics=['accuracy']\n",
        ")\n",
        "model1.fit(x_train_flat,y_train,epochs=5)"
      ],
      "metadata": {
        "colab": {
          "base_uri": "https://localhost:8080/"
        },
        "id": "NtDYgjFwBCAC",
        "outputId": "387b36fa-d0c6-426a-940a-0d2595670773"
      },
      "execution_count": 31,
      "outputs": [
        {
          "output_type": "stream",
          "name": "stdout",
          "text": [
            "Epoch 1/5\n",
            "1875/1875 [==============================] - 5s 3ms/step - loss: 0.2813 - accuracy: 0.9202\n",
            "Epoch 2/5\n",
            "1875/1875 [==============================] - 5s 3ms/step - loss: 0.1277 - accuracy: 0.9620\n",
            "Epoch 3/5\n",
            "1875/1875 [==============================] - 6s 3ms/step - loss: 0.0893 - accuracy: 0.9733\n",
            "Epoch 4/5\n",
            "1875/1875 [==============================] - 11s 6ms/step - loss: 0.0689 - accuracy: 0.9788\n",
            "Epoch 5/5\n",
            "1875/1875 [==============================] - 10s 5ms/step - loss: 0.0529 - accuracy: 0.9840\n"
          ]
        },
        {
          "output_type": "execute_result",
          "data": {
            "text/plain": [
              "<keras.src.callbacks.History at 0x799cfa1270d0>"
            ]
          },
          "metadata": {},
          "execution_count": 31
        }
      ]
    },
    {
      "cell_type": "code",
      "source": [
        "model1.evaluate(x_test_flat,y_test)"
      ],
      "metadata": {
        "colab": {
          "base_uri": "https://localhost:8080/"
        },
        "id": "TE9w6bgYvpvn",
        "outputId": "4fc54f0b-71ae-4bbe-9c12-e465b2b0b3e5"
      },
      "execution_count": 33,
      "outputs": [
        {
          "output_type": "stream",
          "name": "stdout",
          "text": [
            "313/313 [==============================] - 2s 5ms/step - loss: 0.0879 - accuracy: 0.9746\n"
          ]
        },
        {
          "output_type": "execute_result",
          "data": {
            "text/plain": [
              "[0.0879330113530159, 0.9746000170707703]"
            ]
          },
          "metadata": {},
          "execution_count": 33
        }
      ]
    },
    {
      "cell_type": "code",
      "source": [
        "y_pred1=model1.predict(x_test_flat)\n",
        "y_pred1"
      ],
      "metadata": {
        "colab": {
          "base_uri": "https://localhost:8080/"
        },
        "id": "PQY4lakSwIg7",
        "outputId": "d3286ff5-afa6-4ee8-f7ef-00ada625158a"
      },
      "execution_count": 32,
      "outputs": [
        {
          "output_type": "stream",
          "name": "stdout",
          "text": [
            "313/313 [==============================] - 1s 2ms/step\n"
          ]
        },
        {
          "output_type": "execute_result",
          "data": {
            "text/plain": [
              "array([[2.2061153e-03, 6.7745379e-05, 1.1433772e-01, ..., 9.9998677e-01,\n",
              "        1.3268813e-01, 6.1754954e-01],\n",
              "       [1.3395086e-02, 9.2288578e-01, 9.9998802e-01, ..., 5.7197653e-06,\n",
              "        8.9521414e-01, 4.4991128e-07],\n",
              "       [1.9406317e-03, 9.9406427e-01, 1.3026987e-02, ..., 1.9356729e-01,\n",
              "        1.7841907e-01, 2.3256319e-03],\n",
              "       ...,\n",
              "       [4.9887526e-06, 4.1738313e-06, 3.4482193e-06, ..., 9.5675343e-01,\n",
              "        7.7568591e-01, 9.9157405e-01],\n",
              "       [6.3370601e-03, 6.0039450e-04, 1.2308374e-04, ..., 3.1205837e-02,\n",
              "        9.9795115e-01, 5.3375912e-05],\n",
              "       [4.4100547e-01, 4.0250743e-06, 2.2887267e-02, ..., 5.0638053e-05,\n",
              "        3.4400122e-03, 9.4024529e-04]], dtype=float32)"
            ]
          },
          "metadata": {},
          "execution_count": 32
        }
      ]
    },
    {
      "cell_type": "code",
      "source": [
        "y_pred1_labels=[np.argmax(i) for i in y_pred1]\n",
        "y_pred1_labels[:10]"
      ],
      "metadata": {
        "colab": {
          "base_uri": "https://localhost:8080/"
        },
        "id": "g5NRL1QfxMo1",
        "outputId": "ec9e96fe-5ba0-416e-9546-6d398788e087"
      },
      "execution_count": 40,
      "outputs": [
        {
          "output_type": "execute_result",
          "data": {
            "text/plain": [
              "[7, 2, 1, 0, 4, 1, 4, 9, 5, 9]"
            ]
          },
          "metadata": {},
          "execution_count": 40
        }
      ]
    },
    {
      "cell_type": "code",
      "source": [
        "\n",
        "cm1=tf.math.confusion_matrix(y_test,y_pred1_labels)\n",
        "cm1"
      ],
      "metadata": {
        "colab": {
          "base_uri": "https://localhost:8080/"
        },
        "id": "PrdxywAPwKmG",
        "outputId": "5ee45c51-2b37-4c57-c406-7ffa960c4279"
      },
      "execution_count": 39,
      "outputs": [
        {
          "output_type": "execute_result",
          "data": {
            "text/plain": [
              "<tf.Tensor: shape=(10, 10), dtype=int32, numpy=\n",
              "array([[ 973,    1,    0,    0,    1,    0,    2,    1,    1,    1],\n",
              "       [   0, 1119,    3,    1,    0,    1,    4,    1,    6,    0],\n",
              "       [   8,    0,  996,    3,    4,    0,    3,    7,   11,    0],\n",
              "       [   2,    0,    1,  996,    1,    2,    0,    4,    4,    0],\n",
              "       [   2,    0,    2,    1,  942,    0,    3,    3,    2,   27],\n",
              "       [   5,    0,    0,   15,    1,  858,    4,    1,    6,    2],\n",
              "       [   7,    2,    3,    0,    3,    5,  935,    0,    3,    0],\n",
              "       [   0,    3,   10,    6,    1,    0,    0, 1000,    0,    8],\n",
              "       [   4,    0,    3,    7,    5,    1,    1,    3,  944,    6],\n",
              "       [   3,    2,    0,    8,    5,    4,    0,    3,    1,  983]],\n",
              "      dtype=int32)>"
            ]
          },
          "metadata": {},
          "execution_count": 39
        }
      ]
    },
    {
      "cell_type": "code",
      "source": [
        "sns.heatmap(cm1, annot=True , fmt='d')\n",
        "plt.xlabel('Predicted')\n",
        "plt.ylabel('Truth')"
      ],
      "metadata": {
        "colab": {
          "base_uri": "https://localhost:8080/",
          "height": 466
        },
        "id": "jQlA57XcwvES",
        "outputId": "9698240d-41f8-476c-cecc-bcab02def89f"
      },
      "execution_count": 41,
      "outputs": [
        {
          "output_type": "execute_result",
          "data": {
            "text/plain": [
              "Text(50.722222222222214, 0.5, 'Truth')"
            ]
          },
          "metadata": {},
          "execution_count": 41
        },
        {
          "output_type": "display_data",
          "data": {
            "text/plain": [
              "<Figure size 640x480 with 2 Axes>"
            ],
            "image/png": "[encoded data removed]"
          },
          "metadata": {}
        }
      ]
    },
    {
      "cell_type": "markdown",
      "source": [
        "# ***Using Flatten layer so that we don't have to call .reshape on input dataset***"
      ],
      "metadata": {
        "id": "0IuSKARxxgsB"
      }
    },
    {
      "cell_type": "code",
      "source": [
        "from keras.layers import Flatten"
      ],
      "metadata": {
        "id": "DHLcrNzsyNhk"
      },
      "execution_count": 44,
      "outputs": []
    },
    {
      "cell_type": "code",
      "source": [
        "model2=Sequential([\n",
        "    Flatten(input_shape=(28,28)),\n",
        "    Dense(100,activation='relu'),\n",
        "    Dense(10,activation='sigmoid')\n",
        "])\n",
        "model2.compile(\n",
        "    optimizer='adam',\n",
        "    loss='sparse_categorical_crossentropy',\n",
        "    metrics=['accuracy']\n",
        ")\n",
        "model2.fit(x_train,y_train,epochs=5)\n"
      ],
      "metadata": {
        "colab": {
          "base_uri": "https://localhost:8080/"
        },
        "id": "IGPfT3ajxfnz",
        "outputId": "c4ab6de4-ec4e-43db-f3a9-8b0e291df5bc"
      },
      "execution_count": 45,
      "outputs": [
        {
          "output_type": "stream",
          "name": "stdout",
          "text": [
            "Epoch 1/5\n",
            "1875/1875 [==============================] - 6s 3ms/step - loss: 0.2750 - accuracy: 0.9212\n",
            "Epoch 2/5\n",
            "1875/1875 [==============================] - 7s 4ms/step - loss: 0.1278 - accuracy: 0.9625\n",
            "Epoch 3/5\n",
            "1875/1875 [==============================] - 10s 5ms/step - loss: 0.0881 - accuracy: 0.9741\n",
            "Epoch 4/5\n",
            "1875/1875 [==============================] - 6s 3ms/step - loss: 0.0676 - accuracy: 0.9797\n",
            "Epoch 5/5\n",
            "1875/1875 [==============================] - 5s 3ms/step - loss: 0.0531 - accuracy: 0.9837\n"
          ]
        },
        {
          "output_type": "execute_result",
          "data": {
            "text/plain": [
              "<keras.src.callbacks.History at 0x799cfabe54b0>"
            ]
          },
          "metadata": {},
          "execution_count": 45
        }
      ]
    },
    {
      "cell_type": "code",
      "source": [
        "model2.evaluate(x_test,y_test)   #only x_test coz we're flattening it inside model2"
      ],
      "metadata": {
        "colab": {
          "base_uri": "https://localhost:8080/"
        },
        "id": "0C_Vb2jrxZYh",
        "outputId": "2658731b-6e00-44a7-95f4-3f388a85c329"
      },
      "execution_count": 46,
      "outputs": [
        {
          "output_type": "stream",
          "name": "stdout",
          "text": [
            "313/313 [==============================] - 1s 3ms/step - loss: 0.0794 - accuracy: 0.9763\n"
          ]
        },
        {
          "output_type": "execute_result",
          "data": {
            "text/plain": [
              "[0.07944205403327942, 0.9763000011444092]"
            ]
          },
          "metadata": {},
          "execution_count": 46
        }
      ]
    },
    {
      "cell_type": "code",
      "source": [],
      "metadata": {
        "id": "LzwBUUsNy3WU"
      },
      "execution_count": null,
      "outputs": []
    }
  ]
}